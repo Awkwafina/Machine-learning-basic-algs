{
 "cells": [
  {
   "cell_type": "code",
   "execution_count": 22,
   "metadata": {},
   "outputs": [],
   "source": [
    "class LinearRegression:\n",
    "\n",
    "    def __init__(self):\n",
    "        self.weights = 1\n",
    "\n",
    "    def fit(self, X, y):\n",
    "        X = np.insert(X.T, 0, 1, axis=0)\n",
    "        try:\n",
    "            X_cross = np.matmul(np.linalg.pinv(np.matmul(X, X.T)), X)\n",
    "            self.weights = np.matmul(X_cross, y)\n",
    "        except Exception:\n",
    "            print('Matrix is singular')\n",
    "        return self.weights\n",
    "\n",
    "    def predict(self, x, w):\n",
    "        x = np.insert(x, 0,1, axis=0)\n",
    "        if type(w) is int:\n",
    "            w = np.ones(len(x))\n",
    "        y_pred = np.sign(np.dot(w.T, x))\n",
    "        return y_pred\n",
    "\n",
    "    def error(self, X, y):\n",
    "        X = np.insert(X.T, 0, 1, axis=0)\n",
    "        summa = 0\n",
    "        for i in range(len(y)):\n",
    "            summa += (np.dot(self.weights, X.T[i])-y[i])**2\n",
    "        return summa/len(y)\n",
    "\n",
    "    \n",
    "class LogisticReg:\n",
    "\n",
    "    def fit(self, X, y, eta=0.01, iteration=2000):\n",
    "        self.weights = np.ones(shape=X.shape[1])\n",
    "        for t in range(iteration):\n",
    "            n = np.random.randint(0,len(X))\n",
    "            gradient = int(-y[n])*np.dot(2, X[n])*np.exp(int(-y[n])*2*np.dot(self.weights,X[n])) /(1+np.exp(int(-y[n])*2*np.dot(self.weights,X[n]))) \n",
    "            self.weights = self.weights - eta*gradient\n",
    "        return self.weights\n",
    "    \n",
    "    def predict(self, x, w):\n",
    "        return np.sign(np.dot(w,x))\n",
    "    \n",
    "    def error(self, g, y):\n",
    "        sum=0\n",
    "        error = []\n",
    "        for i in range(len(g)):\n",
    "            for j in range(len(y)):\n",
    "                sum += np.log(1 + np.exp(-2*y[j]*g[i]))\n",
    "            error.append(sum/len(y))\n",
    "        return error"
   ]
  },
  {
   "cell_type": "code",
   "execution_count": 21,
   "metadata": {},
   "outputs": [],
   "source": [
    "import random\n",
    "import numpy as np\n",
    "from sklearn.metrics import accuracy_score\n",
    "\n",
    "class Vfold_validation:\n",
    "\n",
    "    def __init__(self, X, m=1):\n",
    "        self.m = m\n",
    "        self.disjoint_sets = []\n",
    "        self.fold = int(len(X)/self.m)\n",
    "\n",
    "    def split(self, X, y):\n",
    "        if (len(X)) <=self.m:\n",
    "            self.disjoint_sets.append((X, y))\n",
    "            return self.disjoint_sets\n",
    "        else:\n",
    "            indexes = random.sample(range(len(X)), self.fold)\n",
    "            disjoint_set_X = X[indexes, :]\n",
    "            disjoint_set_y = y[indexes]\n",
    "            X, y = np.delete(X, indexes, axis=0), np.delete(y, indexes)\n",
    "            self.disjoint_sets.append((disjoint_set_X, disjoint_set_y))\n",
    "            return self.split(X, y)\n",
    "\n",
    "    def cross_validation(self, dataset):\n",
    "        error_lin, error_log = [], []\n",
    "        i = self.m\n",
    "        for pair in dataset:\n",
    "            if i<0:\n",
    "                break\n",
    "            X_test, y_test = dataset[0][0], dataset[0][1]\n",
    "            dataset.remove(dataset[0])\n",
    "            partition = dataset\n",
    "            j=0\n",
    "            X_train, y_train = partition[0][0], partition[0][1]\n",
    "            for q in dataset[1:]:\n",
    "                X_train = np.concatenate((X_train, q[j])) \n",
    "                y_train = np.concatenate((y_train, q[j+1]))\n",
    "            y_lin = self.OVA(X_train, X_test, y_train, y_test, LinearRegression)\n",
    "            error_lin.append(1-accuracy_score(y_test, y_lin))\n",
    "            y_log = self.OVA(X_train, X_test, y_train, y_test, LogisticReg)\n",
    "            error_log.append(1-accuracy_score(y_test, y_log))\n",
    "            dataset.append(pair)\n",
    "            i -= 1\n",
    "        return error_lin, error_log\n",
    "            \n",
    "    def OVA(self, X_train, X_test, y_train, y_test, regression):\n",
    "        y_labels = np.arange(10)\n",
    "        predicted = np.zeros(len(y_test))\n",
    "        error = []\n",
    "        for i in y_labels:\n",
    "            y_train_new = []\n",
    "            for j in range(len(y_train)):\n",
    "                if y_train[j]!=i:\n",
    "                    y_bin=-1\n",
    "                else:\n",
    "                    y_bin=1\n",
    "                y_train_new.append(y_bin)\n",
    "            model = regression()\n",
    "            weights = model.fit(X_train, np.array(y_train_new))\n",
    "            for k in range(len(X_test)):\n",
    "                if model.predict(X_test[k], weights)==1:\n",
    "                    y_class = i\n",
    "                    np.put(predicted, k, y_class)\n",
    "        return predicted\n",
    "    "
   ]
  },
  {
   "cell_type": "code",
   "execution_count": 57,
   "metadata": {},
   "outputs": [],
   "source": [
    "from sklearn.datasets import load_digits\n",
    "\n",
    "digits = load_digits()\n",
    "X, y = digits.data, digits.target"
   ]
  },
  {
   "cell_type": "markdown",
   "metadata": {},
   "source": [
    "## CV=10"
   ]
  },
  {
   "cell_type": "code",
   "execution_count": 24,
   "metadata": {},
   "outputs": [],
   "source": [
    "valid = Vfold_validation(X, m=10)\n",
    "disjoint_set = valid.split(X, y)\n"
   ]
  },
  {
   "cell_type": "code",
   "execution_count": 39,
   "metadata": {},
   "outputs": [
    {
     "name": "stderr",
     "output_type": "stream",
     "text": [
      "C:\\Users\\User\\Anaconda3\\lib\\site-packages\\ipykernel_launcher.py:36: RuntimeWarning: invalid value encountered in multiply\n",
      "C:\\Users\\User\\Anaconda3\\lib\\site-packages\\ipykernel_launcher.py:36: RuntimeWarning: invalid value encountered in true_divide\n",
      "C:\\Users\\User\\Anaconda3\\lib\\site-packages\\ipykernel_launcher.py:41: RuntimeWarning: invalid value encountered in sign\n"
     ]
    },
    {
     "name": "stdout",
     "output_type": "stream",
     "text": [
      "Error on linear model is 0.10614525139664802, when cv=10\n",
      "Error on logistic model is 0.23746644417035478, when cv=10\n"
     ]
    }
   ],
   "source": [
    "errors = valid.cross_validation(disjoint_set)\n",
    "error_linear, error_logistic = errors[0], errors[1]\n",
    "print(\"Error on linear model is {}, when cv=10\".format(np.mean(error_linear)))\n",
    "print(\"Error on logistic model is {}, when cv=10\".format(np.mean(error_logistic)))"
   ]
  },
  {
   "cell_type": "markdown",
   "metadata": {},
   "source": [
    "## CV=5"
   ]
  },
  {
   "cell_type": "code",
   "execution_count": 30,
   "metadata": {},
   "outputs": [
    {
     "name": "stderr",
     "output_type": "stream",
     "text": [
      "C:\\Users\\User\\Anaconda3\\lib\\site-packages\\ipykernel_launcher.py:36: RuntimeWarning: invalid value encountered in multiply\n",
      "C:\\Users\\User\\Anaconda3\\lib\\site-packages\\ipykernel_launcher.py:36: RuntimeWarning: invalid value encountered in true_divide\n",
      "C:\\Users\\User\\Anaconda3\\lib\\site-packages\\ipykernel_launcher.py:41: RuntimeWarning: invalid value encountered in sign\n"
     ]
    },
    {
     "name": "stdout",
     "output_type": "stream",
     "text": [
      "Error on linear model is 0.1014897579143389, when cv=5\n",
      "Error on logistic model is 0.2553870710295291, when cv=5\n"
     ]
    }
   ],
   "source": [
    "valid = Vfold_validation(X, m=5)\n",
    "errors = valid.cross_validation(disjoint_set)\n",
    "error_linear, error_logistic = errors[0], errors[1]\n",
    "print(\"Error on linear model is {}, when cv=5\".format(np.mean(error_linear)))\n",
    "print(\"Error on logistic model is {}, when cv=5\".format(np.mean(error_logistic)))"
   ]
  },
  {
   "cell_type": "markdown",
   "metadata": {},
   "source": [
    "## CV=20"
   ]
  },
  {
   "cell_type": "code",
   "execution_count": 38,
   "metadata": {},
   "outputs": [
    {
     "name": "stderr",
     "output_type": "stream",
     "text": [
      "C:\\Users\\User\\Anaconda3\\lib\\site-packages\\ipykernel_launcher.py:36: RuntimeWarning: invalid value encountered in multiply\n",
      "C:\\Users\\User\\Anaconda3\\lib\\site-packages\\ipykernel_launcher.py:36: RuntimeWarning: invalid value encountered in true_divide\n",
      "C:\\Users\\User\\Anaconda3\\lib\\site-packages\\ipykernel_launcher.py:41: RuntimeWarning: invalid value encountered in sign\n",
      "C:\\Users\\User\\Anaconda3\\lib\\site-packages\\ipykernel_launcher.py:36: RuntimeWarning: overflow encountered in multiply\n"
     ]
    },
    {
     "name": "stdout",
     "output_type": "stream",
     "text": [
      "Error on linear model is 0.11833417978669375, when cv=20\n",
      "Error on logistic model is 0.2062685917434521, when cv=20\n"
     ]
    }
   ],
   "source": [
    "valid = Vfold_validation(X, m=20)\n",
    "errors = valid.cross_validation(disjoint_set)\n",
    "error_linear, error_logistic = errors[0], errors[1]\n",
    "print(\"Error on linear model is {}, when cv=20\".format(np.mean(error_linear)))\n",
    "print(\"Error on logistic model is {}, when cv=20\".format(np.mean(error_logistic)))"
   ]
  },
  {
   "cell_type": "markdown",
   "metadata": {},
   "source": [
    "## CV=1"
   ]
  },
  {
   "cell_type": "code",
   "execution_count": 140,
   "metadata": {},
   "outputs": [
    {
     "name": "stdout",
     "output_type": "stream",
     "text": [
      "Error on linear model is 0.14525139664804465, when cv=1\n",
      "Error on logistic model is 0.13966480446927376, when cv=1\n"
     ]
    }
   ],
   "source": [
    "valid = Vfold_validation(X, m=1)\n",
    "errors = valid.cross_validation(disjoint_set)\n",
    "error_linear, error_logistic = errors[0], errors[1]\n",
    "print(\"Error on linear model is {}, when cv=1\".format(np.mean(error_linear)))\n",
    "print(\"Error on logistic model is {}, when cv=1\".format(np.mean(error_logistic)))"
   ]
  },
  {
   "cell_type": "markdown",
   "metadata": {},
   "source": [
    "# Conclusion on performance of different Kfolds"
   ]
  },
  {
   "cell_type": "markdown",
   "metadata": {},
   "source": [
    "As CV increases the better result we get in error, but it was not true for $CV=1$. I think, that is because digits dataset is estimated very well with having more train_size rather than tes_size. For $CV=1$ case LogisticRegression performs a little bit accurately, while for other cases LinearRegression is the best model for selection."
   ]
  },
  {
   "cell_type": "code",
   "execution_count": 73,
   "metadata": {},
   "outputs": [
    {
     "data": {
      "text/plain": [
       "GridSearchCV(cv=10, error_score='raise-deprecating',\n",
       "       estimator=LogisticRegression(C=1.0, class_weight=None, dual=False, fit_intercept=True,\n",
       "          intercept_scaling=1, max_iter=100, multi_class='auto',\n",
       "          n_jobs=None, penalty='l2', random_state=None, solver='liblinear',\n",
       "          tol=0.0001, verbose=0, warm_start=False),\n",
       "       fit_params=None, iid='warn', n_jobs=None, param_grid={'C': [0.01]},\n",
       "       pre_dispatch='2*n_jobs', refit=True, return_train_score='warn',\n",
       "       scoring=None, verbose=0)"
      ]
     },
     "execution_count": 73,
     "metadata": {},
     "output_type": "execute_result"
    }
   ],
   "source": [
    "from sklearn.model_selection import GridSearchCV\n",
    "from sklearn.linear_model import LogisticRegression\n",
    "from sklearn.model_selection import train_test_split\n",
    "\n",
    "# X_train, X_test, y_train, y_test = train_test_split(X, y, test_size=0.1)\n",
    "\n",
    "param_grid = {'C': [0.01]}\n",
    "grid = GridSearchCV(LogisticRegression(solver='liblinear', multi_class='auto'), param_grid=param_grid, cv=10)\n",
    "grid.fit(X, y)\n"
   ]
  },
  {
   "cell_type": "code",
   "execution_count": 74,
   "metadata": {},
   "outputs": [
    {
     "data": {
      "text/plain": [
       "0.9376739009460211"
      ]
     },
     "execution_count": 74,
     "metadata": {},
     "output_type": "execute_result"
    }
   ],
   "source": [
    "scores = grid.best_score_\n",
    "scores"
   ]
  },
  {
   "cell_type": "code",
   "execution_count": 77,
   "metadata": {},
   "outputs": [
    {
     "name": "stderr",
     "output_type": "stream",
     "text": [
      "C:\\Users\\User\\Anaconda3\\lib\\site-packages\\sklearn\\model_selection\\_search.py:841: DeprecationWarning: The default of the `iid` parameter will change from True to False in version 0.22 and will be removed in 0.24. This will change numeric results when test-set sizes are unequal.\n",
      "  DeprecationWarning)\n"
     ]
    },
    {
     "data": {
      "text/plain": [
       "GridSearchCV(cv=10, error_score='raise-deprecating',\n",
       "       estimator=LinearRegression(copy_X=True, fit_intercept=True, n_jobs=None,\n",
       "         normalize=False),\n",
       "       fit_params=None, iid='warn', n_jobs=None,\n",
       "       param_grid={'fit_intercept': [True, False]},\n",
       "       pre_dispatch='2*n_jobs', refit=True, return_train_score='warn',\n",
       "       scoring=None, verbose=0)"
      ]
     },
     "execution_count": 77,
     "metadata": {},
     "output_type": "execute_result"
    }
   ],
   "source": [
    "from sklearn.model_selection import GridSearchCV\n",
    "from sklearn.linear_model import LinearRegression\n",
    "\n",
    "param_grid = {'fit_intercept': [True, False]}\n",
    "grid = GridSearchCV(LinearRegression(), param_grid=param_grid, cv=10)\n",
    "grid.fit(X, y)\n"
   ]
  },
  {
   "cell_type": "code",
   "execution_count": 78,
   "metadata": {},
   "outputs": [
    {
     "data": {
      "text/plain": [
       "0.5345505204367018"
      ]
     },
     "execution_count": 78,
     "metadata": {},
     "output_type": "execute_result"
    }
   ],
   "source": [
    "scores = grid.best_score_\n",
    "scores"
   ]
  },
  {
   "cell_type": "markdown",
   "metadata": {},
   "source": [
    "## Comparison"
   ]
  },
  {
   "cell_type": "markdown",
   "metadata": {},
   "source": [
    "As you can see here best mean prediction accuracy is 0.938 for LogisticRegression, whereas it is 0.535 for LinearRegression. This means that LogisticRegression models better performed than LinearRegression. However, this result highly differs from my implementation of Linear and Logistic Regressions. There LinearRegression performed better, since, I think, logistic Regression was implemented under the prediction function based on sign function, while in the built-in function of LogisticRegression in sklearn library, tetta function using probability is used. "
   ]
  },
  {
   "cell_type": "code",
   "execution_count": 64,
   "metadata": {},
   "outputs": [
    {
     "data": {
      "image/png": "[encoded data removed]",
      "text/plain": [
       "<Figure size 432x288 with 1 Axes>"
      ]
     },
     "metadata": {
      "needs_background": "light"
     },
     "output_type": "display_data"
    }
   ],
   "source": [
    "from sklearn.model_selection import validation_curve\n",
    "from sklearn.preprocessing import PolynomialFeatures\n",
    "from sklearn.linear_model import LinearRegression\n",
    "from sklearn.pipeline import make_pipeline\n",
    "import numpy as np\n",
    "\n",
    "# def PolynomialRegression(degree=2, **kwargs):\n",
    "#     return make_pipeline(PolynomialFeatures(degree), LinearRegression(**kwargs))\n",
    "# import matplotlib.pyplot as plt\n",
    "\n",
    "fit_intercept = [True, False]\n",
    "train_scores, test_scores = validation_curve(LinearRegression(), X, y,'fit_intercept', fit_intercept, cv=10)\n",
    "train_scores_mean = np.mean(train_scores, axis=1)\n",
    "train_scores_std = np.std(train_scores, axis=1)\n",
    "test_scores_mean = np.mean(test_scores, axis=1)\n",
    "test_scores_std = np.std(test_scores, axis=1)\n",
    "\n",
    "plt.title(\"Validation Curve with LinearRegression '(Polynomial)'\")\n",
    "plt.xlabel(r\"fit_intercept\", fontsize=14)\n",
    "plt.ylabel(\"Score\", fontsize=14)\n",
    "plt.plot(fit_intercept, train_scores_mean, label=\"Training score\", color=\"darkorange\")\n",
    "plt.plot(fit_intercept, test_scores_mean, label=\"Cross-validation score\", color=\"navy\")\n",
    "plt.legend(loc=\"best\")\n",
    "plt.show()\n"
   ]
  },
  {
   "cell_type": "code",
   "execution_count": 56,
   "metadata": {},
   "outputs": [
    {
     "data": {
      "image/png": "[encoded data removed]",
      "text/plain": [
       "<Figure size 432x288 with 1 Axes>"
      ]
     },
     "metadata": {
      "needs_background": "light"
     },
     "output_type": "display_data"
    }
   ],
   "source": [
    "from sklearn.model_selection import validation_curve\n",
    "from sklearn.preprocessing import PolynomialFeatures\n",
    "import matplotlib.pyplot as plt\n",
    "\n",
    "param_range = [0.0000001, 0.000001, 0.00001, 0.0001, 0.001, 0.01, 0.1, 1]\n",
    "train_scores, test_scores = validation_curve(LogisticRegression(multi_class='auto', solver='liblinear'), X, y,'C', param_range=param_range, cv=10)\n",
    "train_scores_mean = np.mean(train_scores, axis=1)\n",
    "train_scores_std = np.std(train_scores, axis=1)\n",
    "test_scores_mean = np.mean(test_scores, axis=1)\n",
    "test_scores_std = np.std(test_scores, axis=1)\n",
    "\n",
    "plt.title(\"Validation Curve with LogisticRegression\", fontsize=24)\n",
    "plt.xlabel(r\"eta\", fontsize=16)\n",
    "plt.ylabel(\"Score\", fontsize=16)\n",
    "plt.plot(param_range, train_scores_mean, label=\"Training score\", color=\"darkorange\")\n",
    "plt.plot(param_range, test_scores_mean, label=\"Cross-validation score\", color=\"navy\")\n",
    "plt.legend(loc=\"best\")\n",
    "plt.show()\n"
   ]
  },
  {
   "cell_type": "markdown",
   "metadata": {},
   "source": [
    "In LogisticRegression Validation curve you can see that training score is higher than validation score after a little shift from 0.\n",
    "From the LinearRegression curve it is clear that LinearRegression overfits the data. While, in LogisticRegression the variance between training score and validation score is small almost 0.04, and the bias is low because the training score is high. This means that validation dataset may better work for model to predict the outcome than the training dataset. \n",
    "The best model for digits dataset among these two would be logisticRegression. "
   ]
  }
 ],
 "metadata": {
  "kernelspec": {
   "display_name": "Python 3",
   "language": "python",
   "name": "python3"
  },
  "language_info": {
   "codemirror_mode": {
    "name": "ipython",
    "version": 3
   },
   "file_extension": ".py",
   "mimetype": "text/x-python",
   "name": "python",
   "nbconvert_exporter": "python",
   "pygments_lexer": "ipython3",
   "version": "3.7.1"
  }
 },
 "nbformat": 4,
 "nbformat_minor": 2
}
