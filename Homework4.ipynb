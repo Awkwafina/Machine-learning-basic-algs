{
 "cells": [
  {
   "cell_type": "markdown",
   "metadata": {},
   "source": [
    "# Homework3\n",
    "**Name: Nurtas Ilyas**"
   ]
  },
  {
   "cell_type": "code",
   "execution_count": 1,
   "metadata": {},
   "outputs": [],
   "source": [
    "import torch"
   ]
  },
  {
   "cell_type": "markdown",
   "metadata": {},
   "source": [
    "# What is Pytorch?"
   ]
  },
  {
   "cell_type": "markdown",
   "metadata": {},
   "source": [
    "# Task 1\n",
    "\n",
    "1. Make a tensor of size (2, 17)\n",
    "2. Make a torch.FloatTensor of size (3, 1)\n",
    "3. Make a torch.LongTensor of size (5, 2, 1)\n",
    "  - fill the entire tensor with 7s\n",
    "4. Make a torch.ByteTensor of size (5,)\n",
    "  - fill the middle 3 indices with ones such that it records [0, 1, 1, 1, 0]"
   ]
  },
  {
   "cell_type": "code",
   "execution_count": 2,
   "metadata": {},
   "outputs": [
    {
     "name": "stdout",
     "output_type": "stream",
     "text": [
      "torch.Size([2, 17])\n"
     ]
    }
   ],
   "source": [
    "x1 = torch.Tensor(2,17)\n",
    "print(x1.shape)"
   ]
  },
  {
   "cell_type": "code",
   "execution_count": 3,
   "metadata": {},
   "outputs": [
    {
     "name": "stdout",
     "output_type": "stream",
     "text": [
      "torch.Size([3, 1])\n"
     ]
    }
   ],
   "source": [
    "x2 = torch.FloatTensor(3,1)\n",
    "print(x2.shape)"
   ]
  },
  {
   "cell_type": "code",
   "execution_count": 4,
   "metadata": {},
   "outputs": [
    {
     "name": "stdout",
     "output_type": "stream",
     "text": [
      "tensor([[[7],\n",
      "         [7]],\n",
      "\n",
      "        [[7],\n",
      "         [7]],\n",
      "\n",
      "        [[7],\n",
      "         [7]],\n",
      "\n",
      "        [[7],\n",
      "         [7]],\n",
      "\n",
      "        [[7],\n",
      "         [7]]])\n"
     ]
    }
   ],
   "source": [
    "x3 = torch.LongTensor(5, 2, 1)\n",
    "x3[::] = 7\n",
    "print(x3)"
   ]
  },
  {
   "cell_type": "code",
   "execution_count": 5,
   "metadata": {},
   "outputs": [
    {
     "name": "stdout",
     "output_type": "stream",
     "text": [
      "tensor([0, 1, 1, 1, 0], dtype=torch.uint8)\n"
     ]
    }
   ],
   "source": [
    "x4 = torch.ByteTensor(5)\n",
    "x4[:] = 0\n",
    "x4[1:4] = 1\n",
    "print(x4)"
   ]
  },
  {
   "cell_type": "markdown",
   "metadata": {},
   "source": [
    "# Task 2\n",
    "\n",
    "1. multiply of two tensors (see [torch.Tensor.mul](http://pytorch.org/docs/master/tensors.html#torch.Tensor.mul))\n",
    "2. do the same, but inplace\n",
    "3. division of two tensors (see [torch.Tensor.div](http://pytorch.org/docs/master/tensors.html#torch.Tensor.div))\n",
    "4. perform a matrix multiplication of two tensors of size (2, 4) and (4, 2)"
   ]
  },
  {
   "cell_type": "code",
   "execution_count": 6,
   "metadata": {},
   "outputs": [
    {
     "name": "stdout",
     "output_type": "stream",
     "text": [
      "tensor([[0.1463, 0.7386, 0.5348],\n",
      "        [0.1461, 0.6381, 0.9664],\n",
      "        [0.4097, 0.5562, 0.6348]]) \n",
      " tensor([[0.7296, 0.2229, 0.8062],\n",
      "        [0.3753, 0.9611, 0.4980],\n",
      "        [0.7381, 0.1051, 0.1668]])\n"
     ]
    }
   ],
   "source": [
    "x = torch.rand(3, 3)\n",
    "y = torch.rand(3, 3)\n",
    "print(x,'\\n', y)"
   ]
  },
  {
   "cell_type": "code",
   "execution_count": 7,
   "metadata": {},
   "outputs": [
    {
     "name": "stdout",
     "output_type": "stream",
     "text": [
      "tensor([[0.1067, 0.1647, 0.4312],\n",
      "        [0.0548, 0.6133, 0.4812],\n",
      "        [0.3024, 0.0585, 0.1059]])\n",
      "tensor([[0.1067, 0.1647, 0.4312],\n",
      "        [0.0548, 0.6133, 0.4812],\n",
      "        [0.3024, 0.0585, 0.1059]])\n"
     ]
    }
   ],
   "source": [
    "print(torch.mul(x,y))\n",
    "print(x * y)"
   ]
  },
  {
   "cell_type": "code",
   "execution_count": 8,
   "metadata": {},
   "outputs": [
    {
     "name": "stdout",
     "output_type": "stream",
     "text": [
      "tensor([[0.1067, 0.1647, 0.4312],\n",
      "        [0.0548, 0.6133, 0.4812],\n",
      "        [0.3024, 0.0585, 0.1059]])\n"
     ]
    }
   ],
   "source": [
    "x.mul_(y)\n",
    "print(x)"
   ]
  },
  {
   "cell_type": "code",
   "execution_count": 9,
   "metadata": {},
   "outputs": [
    {
     "name": "stdout",
     "output_type": "stream",
     "text": [
      "tensor([[0.1463, 0.7386, 0.5348],\n",
      "        [0.1461, 0.6381, 0.9664],\n",
      "        [0.4097, 0.5562, 0.6348]])\n",
      "tensor([[0.1463, 0.7386, 0.5348],\n",
      "        [0.1461, 0.6381, 0.9664],\n",
      "        [0.4097, 0.5562, 0.6348]])\n"
     ]
    }
   ],
   "source": [
    "print(x / y)\n",
    "print(torch.div(x, y))"
   ]
  },
  {
   "cell_type": "code",
   "execution_count": 10,
   "metadata": {},
   "outputs": [
    {
     "name": "stdout",
     "output_type": "stream",
     "text": [
      "tensor([[0.5719, 0.0165, 0.8578, 0.0412],\n",
      "        [0.2788, 0.7177, 0.8285, 0.8254]]) \n",
      " tensor([[0.5955, 0.5947],\n",
      "        [0.2470, 0.7327],\n",
      "        [0.7173, 0.1754],\n",
      "        [0.3967, 0.0233]])\n"
     ]
    }
   ],
   "source": [
    "x = torch.rand(2, 4)\n",
    "y = torch.rand(4, 2)\n",
    "print(x, '\\n', y)"
   ]
  },
  {
   "cell_type": "code",
   "execution_count": 11,
   "metadata": {},
   "outputs": [
    {
     "name": "stdout",
     "output_type": "stream",
     "text": [
      "tensor([[0.9763, 0.5036],\n",
      "        [1.2651, 0.8562]])\n",
      "tensor([[0.9763, 0.5036],\n",
      "        [1.2651, 0.8562]])\n"
     ]
    }
   ],
   "source": [
    "print(x @ y)\n",
    "print(torch.matmul(x, y))"
   ]
  },
  {
   "cell_type": "markdown",
   "metadata": {},
   "source": [
    "# Task3\n",
    "\n",
    "1. create a tensor of size (5, 2) containing ones\n",
    "2. now convert it to a numpy array\n",
    "3. now convert it back to a torch tensor"
   ]
  },
  {
   "cell_type": "code",
   "execution_count": 12,
   "metadata": {},
   "outputs": [
    {
     "name": "stdout",
     "output_type": "stream",
     "text": [
      "tensor([[1., 1.],\n",
      "        [1., 1.],\n",
      "        [1., 1.],\n",
      "        [1., 1.],\n",
      "        [1., 1.]])\n"
     ]
    }
   ],
   "source": [
    "x = torch.ones(5, 2)\n",
    "print(x)"
   ]
  },
  {
   "cell_type": "code",
   "execution_count": 13,
   "metadata": {},
   "outputs": [
    {
     "name": "stdout",
     "output_type": "stream",
     "text": [
      "[[1. 1.]\n",
      " [1. 1.]\n",
      " [1. 1.]\n",
      " [1. 1.]\n",
      " [1. 1.]]\n"
     ]
    }
   ],
   "source": [
    "x = x.numpy()\n",
    "print(x)"
   ]
  },
  {
   "cell_type": "code",
   "execution_count": 14,
   "metadata": {},
   "outputs": [
    {
     "name": "stdout",
     "output_type": "stream",
     "text": [
      "tensor([[1., 1.],\n",
      "        [1., 1.],\n",
      "        [1., 1.],\n",
      "        [1., 1.],\n",
      "        [1., 1.]])\n"
     ]
    }
   ],
   "source": [
    "x = torch.from_numpy(x)\n",
    "print(x)"
   ]
  },
  {
   "cell_type": "markdown",
   "metadata": {},
   "source": [
    "# Automatic Differentiation"
   ]
  },
  {
   "cell_type": "markdown",
   "metadata": {},
   "source": [
    "# Task 1\n",
    "\n",
    "1. Define a tensor\n",
    "2. Convert the tensor to a torch.Variable that requires_grad\n",
    "3. Multiply the torch.Variable with 2 and assign the result to a new python variable (i.e. `x = result`)\n",
    "4. Sum the variable's elements and assign to a new python variable\n",
    "5. Print the gradients of all the variables\n",
    "6. Now perform a backward pass on the last variable\n",
    "7. Print all gradients again\n",
    "  - what did you notice?"
   ]
  },
  {
   "cell_type": "code",
   "execution_count": 15,
   "metadata": {},
   "outputs": [],
   "source": [
    "from torch.autograd import Variable"
   ]
  },
  {
   "cell_type": "code",
   "execution_count": 16,
   "metadata": {},
   "outputs": [
    {
     "name": "stdout",
     "output_type": "stream",
     "text": [
      "tensor([[0.9334, 0.5818, 0.9783],\n",
      "        [0.3274, 0.9780, 0.5489],\n",
      "        [0.4123, 0.1398, 0.2425],\n",
      "        [0.7076, 0.5577, 0.9833],\n",
      "        [0.9817, 0.6036, 0.6378]])\n"
     ]
    }
   ],
   "source": [
    "x = torch.rand(5, 3)\n",
    "print(x)"
   ]
  },
  {
   "cell_type": "code",
   "execution_count": 17,
   "metadata": {},
   "outputs": [
    {
     "name": "stdout",
     "output_type": "stream",
     "text": [
      "tensor([[0.9334, 0.5818, 0.9783],\n",
      "        [0.3274, 0.9780, 0.5489],\n",
      "        [0.4123, 0.1398, 0.2425],\n",
      "        [0.7076, 0.5577, 0.9833],\n",
      "        [0.9817, 0.6036, 0.6378]], requires_grad=True)\n"
     ]
    }
   ],
   "source": [
    "x = Variable(x, requires_grad = True)\n",
    "print(x)"
   ]
  },
  {
   "cell_type": "code",
   "execution_count": 18,
   "metadata": {},
   "outputs": [
    {
     "name": "stdout",
     "output_type": "stream",
     "text": [
      "tensor([[1.8668, 1.1636, 1.9566],\n",
      "        [0.6549, 1.9559, 1.0978],\n",
      "        [0.8246, 0.2796, 0.4850],\n",
      "        [1.4151, 1.1155, 1.9665],\n",
      "        [1.9635, 1.2072, 1.2756]], grad_fn=<MulBackward0>)\n"
     ]
    }
   ],
   "source": [
    "result = x * 2\n",
    "print(result)"
   ]
  },
  {
   "cell_type": "code",
   "execution_count": 19,
   "metadata": {},
   "outputs": [
    {
     "name": "stdout",
     "output_type": "stream",
     "text": [
      "tensor(19.2282, grad_fn=<SumBackward0>)\n"
     ]
    }
   ],
   "source": [
    "matsum = result.sum()\n",
    "print(matsum)"
   ]
  },
  {
   "cell_type": "code",
   "execution_count": 20,
   "metadata": {},
   "outputs": [
    {
     "name": "stdout",
     "output_type": "stream",
     "text": [
      "None\n",
      "None\n",
      "None\n"
     ]
    }
   ],
   "source": [
    "print(x.grad)\n",
    "print(result.grad)\n",
    "print(matsum.grad)"
   ]
  },
  {
   "cell_type": "code",
   "execution_count": 21,
   "metadata": {},
   "outputs": [],
   "source": [
    "matsum.backward()"
   ]
  },
  {
   "cell_type": "code",
   "execution_count": 22,
   "metadata": {},
   "outputs": [
    {
     "name": "stdout",
     "output_type": "stream",
     "text": [
      "tensor([[2., 2., 2.],\n",
      "        [2., 2., 2.],\n",
      "        [2., 2., 2.],\n",
      "        [2., 2., 2.],\n",
      "        [2., 2., 2.]])\n",
      "None\n",
      "None\n"
     ]
    }
   ],
   "source": [
    "print(x.grad) # gradient is computed only after .backward()\n",
    "print(result.grad)\n",
    "print(matsum.grad)"
   ]
  },
  {
   "cell_type": "markdown",
   "metadata": {},
   "source": [
    "# Feed Forward Neural Networks - Half-Moon"
   ]
  },
  {
   "cell_type": "markdown",
   "metadata": {},
   "source": [
    "# Assignments\n",
    "\n",
    "1. A linear logistic classifier is only able to create a linear decision boundary. Change the Logistic classifier into a (nonlinear) Neural network by inserting a dense hidden layer between the input and output layers of the model\n",
    " \n",
    "2. Experiment with multiple hidden layers or more / less hidden units. What happens to the decision boundary?\n",
    " \n",
    "3. Overfitting: When increasing the number of hidden layers / units the neural network will fit the training data better by creating a highly nonlinear decision boundary. If the model is to complex it will often generalize poorly to new data (validation and test set). Can you observe this from the training and validation errors? \n",
    " \n",
    "4. We used the vanilla stocastic gradient descent algorithm for parameter updates. This is usually slow to converge and more sophisticated pseudo-second-order methods usually works better. Try changing the optimizer to [adam or momentum](http://pytorch.org/docs/master/optim.html#torch.optim.Adam)"
   ]
  },
  {
   "cell_type": "code",
   "execution_count": 23,
   "metadata": {},
   "outputs": [],
   "source": [
    "%matplotlib inline\n",
    "import matplotlib\n",
    "import numpy as np\n",
    "import matplotlib.pyplot as plt\n",
    "import sklearn.datasets\n",
    "\n",
    "# Do not worry about the code below for now, it is used for plotting later\n",
    "def plot_decision_boundary(pred_func, X, y):\n",
    "    #from https://github.com/dennybritz/nn-from-scratch/blob/master/nn-from-scratch.ipynb\n",
    "    # Set min and max values and give it some padding\n",
    "    x_min, x_max = X[:, 0].min() - .5, X[:, 0].max() + .5\n",
    "    y_min, y_max = X[:, 1].min() - .5, X[:, 1].max() + .5\n",
    "    \n",
    "    h = 0.01\n",
    "    # Generate a grid of points with distance h between them\n",
    "    xx, yy = np.meshgrid(np.arange(x_min, x_max, h), np.arange(y_min, y_max, h))\n",
    "    \n",
    "    yy = yy.astype('float32')\n",
    "    xx = xx.astype('float32')\n",
    "    \n",
    "    # Predict the function value for the whole gid\n",
    "    Z = pred_func(np.c_[xx.ravel(), yy.ravel()])[:,0]\n",
    "    Z = Z.reshape(xx.shape)\n",
    "    # Plot the contour and training examples\n",
    "    plt.figure()\n",
    "    plt.contourf(xx, yy, Z, cmap=plt.cm.RdBu)\n",
    "    plt.scatter(X[:, 0], X[:, 1], c=-y, cmap=plt.cm.Spectral)"
   ]
  },
  {
   "cell_type": "code",
   "execution_count": 24,
   "metadata": {},
   "outputs": [],
   "source": [
    "def onehot(t, num_classes):    \n",
    "    out = np.zeros((t.shape[0], num_classes))    \n",
    "    for row, col in enumerate(t):\n",
    "        out[row, col] = 1\n",
    "    return out"
   ]
  },
  {
   "cell_type": "markdown",
   "metadata": {},
   "source": [
    "# Problem \n",
    "We'll initally demonstrate the that Multi-layer Perceptrons (MLPs) can classify nonlinear problems, whereas simple logistic regression cannot.\n",
    "For ease of visualization and computationl speed we initially experiment on the simple 2D half-moon dataset, visualized below."
   ]
  },
  {
   "cell_type": "code",
   "execution_count": 25,
   "metadata": {},
   "outputs": [
    {
     "name": "stdout",
     "output_type": "stream",
     "text": [
      "(300, 2)\n",
      "(300,)\n"
     ]
    }
   ],
   "source": [
    "# Generate a dataset and plot it\n",
    "np.random.seed(0)\n",
    "num_samples = 300\n",
    "\n",
    "X, y = sklearn.datasets.make_moons(num_samples, noise=0.20)\n",
    "\n",
    "print(X.shape)\n",
    "print(y.shape)"
   ]
  },
  {
   "cell_type": "code",
   "execution_count": 26,
   "metadata": {},
   "outputs": [
    {
     "name": "stdout",
     "output_type": "stream",
     "text": [
      "Train set: (100, 2)\n",
      "Validation set: (100, 2)\n",
      "Test set: (100, 2)\n"
     ]
    }
   ],
   "source": [
    "# define train, validation, and test sets\n",
    "X_tr = X[:100].astype('float32')\n",
    "print('Train set:', X_tr.shape)\n",
    "\n",
    "X_val = X[100:200].astype('float32')\n",
    "print('Validation set:', X_val.shape)\n",
    "\n",
    "X_te = X[200:].astype('float32')\n",
    "print('Test set:', X_te.shape)"
   ]
  },
  {
   "cell_type": "code",
   "execution_count": 27,
   "metadata": {},
   "outputs": [],
   "source": [
    "# and labels\n",
    "y_tr = y[:100].astype('int32')\n",
    "y_val = y[100:200].astype('int32')\n",
    "y_te = y[200:].astype('int32')"
   ]
  },
  {
   "cell_type": "code",
   "execution_count": 28,
   "metadata": {},
   "outputs": [
    {
     "name": "stdout",
     "output_type": "stream",
     "text": [
      "(300, 2) (300,)\n",
      "Number of features:>> 2\n",
      "Number of outputs:>> 2\n"
     ]
    },
    {
     "data": {
      "image/png": "[encoded data removed]",
      "text/plain": [
       "<Figure size 432x288 with 1 Axes>"
      ]
     },
     "metadata": {
      "needs_background": "light"
     },
     "output_type": "display_data"
    }
   ],
   "source": [
    "plt.scatter(X_tr[:,0], X_tr[:,1], s=40, c=y_tr, cmap=plt.cm.Spectral)\n",
    "print(X.shape, y.shape)\n",
    "\n",
    "num_features = X_tr.shape[-1]\n",
    "print('Number of features:>>', num_features)\n",
    "\n",
    "num_output = 2\n",
    "print('Number of outputs:>>', num_output)"
   ]
  },
  {
   "cell_type": "markdown",
   "metadata": {},
   "source": [
    "# From Logistic Regression to \"Deep Learning\"\n",
    "The code implements logistic regression. In section [__Assignments Half Moon__](#Assignments-Half-Moon) (bottom of this notebook) you are asked to modify the code into a neural network.\n",
    "\n",
    "The standard building block for neural networks are layers.\n",
    "The simplest of which is called a `dense feed forward layer`, and it is computed as follows:\n",
    "\n",
    "$$y = \\mathrm{nonlinearity}(xW + b)$$\n",
    "\n",
    "where $x$ is the input vector, $y$ is the output vector, and $W, b$ are the weights (a matrix and vector respectively).\n",
    "The *dense* part of the name comes from the fact that every element of $x$ contributes to every element of $y$.\n",
    "And the *feed forward* part of the name means that the layer processes each input independently. \n",
    "If we were to draw the layer it would be acyclical.\n",
    "Later we will se layers that break both of these conventions."
   ]
  },
  {
   "cell_type": "markdown",
   "metadata": {},
   "source": [
    "- $x$ has shape `[batch_size, num_features]`,\n",
    "- $W$ has shape `[num_features, num_units]`,\n",
    "- $b$ has `[num_units]`, and\n",
    "- $y$ has then `[batch_size, num_units]`"
   ]
  },
  {
   "cell_type": "markdown",
   "metadata": {},
   "source": [
    "## PyTorch 101\n",
    "\n",
    "In this first exercise we will use basic PyTorch functions so that you can learn how to build it from scratch. This will help you later if you want to build your own custom operations."
   ]
  },
  {
   "cell_type": "code",
   "execution_count": 29,
   "metadata": {},
   "outputs": [],
   "source": [
    "import torch\n",
    "from torch.autograd import Variable\n",
    "from torch.nn.parameter import Parameter # A kind of Tensor that is to be considered a module parameter.\n",
    "\n",
    "import torch.nn as nn # Base class for all neural network modules.\n",
    "import torch.nn.functional as F # Functional interface  "
   ]
  },
  {
   "cell_type": "markdown",
   "metadata": {},
   "source": [
    "[`Parameters`](http://pytorch.org/docs/0.1.12/nn.html#torch.nn.Parameter) are [`Variable`](http://pytorch.org/docs/0.1.12/autograd.html#torch.autograd.Variable) subclasses, that have a very special property when used with [`Module`](http://pytorch.org/docs/0.1.12/nn.html#torch.nn.Module)'s - when they’re assigned as `Module` attributes they are automatically added to the list of its parameters, and will appear e.g. in [`.parameters()`](http://pytorch.org/docs/0.1.12/nn.html#torch.nn.Module.parameters) iterator.\n",
    "Assigning a Variable doesn’t have such effect.\n",
    "This is because one might want to cache some temporary state (more on this later) in the model.\n",
    "If there was no such class as `Parameter`, these temporaries would get registered too."
   ]
  },
  {
   "cell_type": "markdown",
   "metadata": {},
   "source": [
    "#### nn.Linear(in_features, out_features, bias=True)\n",
    "#### Applies a linear transformation to the incoming data: :math:`y = xA^T + b`\n",
    "\n",
    "Args:\n",
    "    in_features: size of each input sample\n",
    "    out_features: size of each output sample\n",
    "    bias: If set to False, the layer will not learn an additive bias.\n",
    "        Default: ``True``\n",
    "\n",
    "Shape:\n",
    "    - Input: :math:`(N, *, in\\_features)` where :math:`*` means any number of\n",
    "      additional dimensions\n",
    "    - Output: :math:`(N, *, out\\_features)` where all but the last dimension\n",
    "      are the same shape as the input.\n",
    "\n",
    "Attributes:\n",
    "    weight: the learnable weights of the module of shape\n",
    "        `(out_features x in_features)`\n",
    "    bias:   the learnable bias of the module of shape `(out_features)`\n",
    "\n",
    "Examples::\n",
    "\n",
    "    >>> m = nn.Linear(20, 30)\n",
    "    >>> input = torch.randn(128, 20)\n",
    "    >>> output = m(input)\n",
    "    >>> print(output.size())"
   ]
  },
  {
   "cell_type": "code",
   "execution_count": 30,
   "metadata": {},
   "outputs": [],
   "source": [
    "class Net(nn.Module):\n",
    "    \n",
    "    def __init__(self):                 \n",
    "        super(Net, self).__init__()       \n",
    "        \n",
    "        \"\"\"\n",
    "        Setting up variables, these variables are weights in your  network that can be updated while running our graph.        \n",
    "        Notice, to make a hidden layer, the weights need to have the following dimensionality:      \n",
    "                \n",
    "        W_1[out_features x in_features]\n",
    "        b_1[out_features]\n",
    "        \n",
    "        in the example below we have 2 input units (number of input features) and 2 output units (output features)\n",
    "        so our weights become W[2, 2], b[2]; if we want to make a hidden layer with 100 units, we need to define the shape of the\n",
    "        first weight to: W[100, 2], b[100];  and the shape of the second weight to         \n",
    "        W[2, 100], b[2]                \n",
    "        \"\"\"        \n",
    "        # first layer\n",
    "        \n",
    "        self.W_1 = Parameter(torch.randn(100, num_features)) \n",
    "        self.b_1 = Parameter(torch.randn(100))\n",
    "                        \n",
    "        # second layer (to be completed as an exercise)        \n",
    "        # NB when you create a second layer, remember that you also must change parts of the first layer\n",
    "        # number of features of the pervious layer will be equal to the number of output of the current \n",
    "        # layer \n",
    "        \n",
    "        \n",
    "        self.W_2 = Parameter(torch.randn(num_output, 100))\n",
    "        self.b_2 = Parameter(torch.randn(num_output))\n",
    "        \n",
    "#         self.W_3 = Parameter(torch.randn(num_output, 100))\n",
    "#         self.b_3 = Parameter(torch.randn(num_output))\n",
    "        \n",
    "        # self.W_2 = Parameter(torch.randn(num_features, num_output)) \n",
    "        # self.b_2 = self.b_1 = Parameter(torch.randn(num_features))\n",
    "        \n",
    "        \n",
    "        \"\"\"\n",
    "        # thirs layer\n",
    "        self.W_3 = Parameter(torch.randn(num_output, num_features)) \n",
    "        self.b_3 = Parameter(torch.randn(num_output))       \n",
    "        \"\"\"                 \n",
    "        \n",
    "    def forward(self, x):\n",
    "        # method of the class \n",
    "        \n",
    "        # Setting up ops, these ops will define edges along our computational graph\n",
    "        # The below ops will compute a logistic regression, \n",
    "        # but can be modified to compute a neural network        \n",
    "        \n",
    "        # Applies a linear transformation to the incoming data: :math:`y = xW^T + b` \n",
    "        x = F.linear(x, self.W_1, self.b_1)\n",
    "        \n",
    "        # second layer (to be completed as an exercise)\n",
    "        # NB when you create a second layer, remember that you also must change parts of the first layer\n",
    "        x = F.linear(x, self.W_2, self.b_2)        \n",
    "#         x = F.linear(x, self.W_3, self.b_3)\n",
    "        # softmax to be performed on the second dimension (first dimension is >>> dim = 0)\n",
    "        # x = [batch, features]\n",
    "        \n",
    "        return F.softmax(x, dim = 1)    "
   ]
  },
  {
   "cell_type": "code",
   "execution_count": 31,
   "metadata": {},
   "outputs": [
    {
     "name": "stdout",
     "output_type": "stream",
     "text": [
      "Net()\n"
     ]
    }
   ],
   "source": [
    "net = Net()\n",
    "print(net)"
   ]
  },
  {
   "cell_type": "markdown",
   "metadata": {},
   "source": [
    "Knowing how to print your tensors is useful"
   ]
  },
  {
   "cell_type": "code",
   "execution_count": 32,
   "metadata": {},
   "outputs": [
    {
     "name": "stdout",
     "output_type": "stream",
     "text": [
      "NAMED PARAMETERS\n",
      "[('W_1', Parameter containing:\n",
      "tensor([[-0.0784, -1.2031],\n",
      "        [ 0.1525,  0.9879],\n",
      "        [ 0.6491,  0.3351],\n",
      "        [ 0.5113,  1.3033],\n",
      "        [ 0.0556, -0.5004],\n",
      "        [ 0.5291,  0.6932],\n",
      "        [ 2.1180,  1.0976],\n",
      "        [-0.4323, -0.0066],\n",
      "        [-0.2301,  0.9621],\n",
      "        [ 0.9803, -0.5567],\n",
      "        [ 1.2946, -1.4233],\n",
      "        [-0.3296, -0.2798],\n",
      "        [-0.9788,  1.1864],\n",
      "        [-1.7977,  1.8504],\n",
      "        [ 0.6607,  0.3893],\n",
      "        [ 0.4937, -0.8170],\n",
      "        [ 0.8377, -0.1868],\n",
      "        [ 0.5024,  1.3425],\n",
      "        [ 1.0199,  0.4054],\n",
      "        [ 0.8917, -1.0693],\n",
      "        [-2.0051, -0.0111],\n",
      "        [-0.1661,  0.7977],\n",
      "        [ 0.2525, -1.3193],\n",
      "        [ 0.6006,  0.7178],\n",
      "        [ 0.7385, -0.5919],\n",
      "        [-0.2418,  0.9406],\n",
      "        [ 0.4869,  0.5162],\n",
      "        [-0.5975, -0.9173],\n",
      "        [ 0.1413, -1.9736],\n",
      "        [ 0.0772, -0.4034],\n",
      "        [ 0.5221, -0.1828],\n",
      "        [-0.7151,  1.7487],\n",
      "        [-1.5330, -1.0936],\n",
      "        [-2.5156, -0.3262],\n",
      "        [ 1.3239,  0.0549],\n",
      "        [ 0.3226,  1.2499],\n",
      "        [-0.4955,  0.5000],\n",
      "        [-0.3813, -0.1533],\n",
      "        [ 0.4430,  0.1162],\n",
      "        [ 0.2219,  1.3095],\n",
      "        [ 1.3242,  0.2736],\n",
      "        [ 0.2745,  2.4056],\n",
      "        [-0.8704,  0.3698],\n",
      "        [-0.8759, -1.4798],\n",
      "        [-0.6227,  1.8313],\n",
      "        [-0.0377,  0.3481],\n",
      "        [ 0.2125, -0.3804],\n",
      "        [-1.2314,  1.3156],\n",
      "        [ 0.7387,  0.0743],\n",
      "        [ 0.2058, -0.1182],\n",
      "        [-0.5093,  0.5545],\n",
      "        [ 1.1105,  0.4454],\n",
      "        [-0.8479,  1.5645],\n",
      "        [-0.2629,  1.4281],\n",
      "        [ 1.1900, -0.1038],\n",
      "        [-1.1171, -0.6066],\n",
      "        [ 1.5920,  0.2502],\n",
      "        [ 1.2566, -0.1530],\n",
      "        [-2.3728,  0.5895],\n",
      "        [ 0.3811,  0.7682],\n",
      "        [-0.9129,  2.3005],\n",
      "        [-0.5684, -1.8463],\n",
      "        [-0.9556,  1.6447],\n",
      "        [ 0.8406,  1.7071],\n",
      "        [-1.8501,  0.0360],\n",
      "        [ 0.4929,  0.1796],\n",
      "        [ 0.0449,  0.9846],\n",
      "        [ 0.6658, -0.9080],\n",
      "        [ 0.6910, -1.1362],\n",
      "        [ 0.8468, -0.0496],\n",
      "        [ 2.2341,  2.1544],\n",
      "        [ 0.8308, -0.6951],\n",
      "        [-1.0357, -1.1417],\n",
      "        [-0.1956, -0.5786],\n",
      "        [-2.0870,  0.0268],\n",
      "        [ 0.4485,  0.8106],\n",
      "        [ 0.7533, -0.5974],\n",
      "        [-0.0993,  0.2416],\n",
      "        [-1.1680,  1.2859],\n",
      "        [-0.2051,  0.8660],\n",
      "        [-0.2494,  0.0436],\n",
      "        [-1.3683, -0.0722],\n",
      "        [ 0.8244,  0.8675],\n",
      "        [-1.2392, -0.4250],\n",
      "        [ 1.0190,  1.0513],\n",
      "        [-0.1848, -0.6775],\n",
      "        [-0.2446,  0.9721],\n",
      "        [-0.0339,  0.1783],\n",
      "        [-0.8794,  1.0240],\n",
      "        [ 0.6330,  1.6966],\n",
      "        [-0.9496, -0.6992],\n",
      "        [ 0.7247,  2.0276],\n",
      "        [-1.3348, -1.1560],\n",
      "        [-1.7890, -0.4782],\n",
      "        [-1.4178, -1.4553],\n",
      "        [-1.0363, -1.3950],\n",
      "        [ 1.2951,  0.6044],\n",
      "        [-0.4912, -0.7144],\n",
      "        [-1.0860,  0.4598],\n",
      "        [ 0.3144,  0.0812]], requires_grad=True)), ('b_1', Parameter containing:\n",
      "tensor([-0.3402,  0.5683,  0.9096, -0.0650, -0.9924,  1.7086, -0.5039,  1.3444,\n",
      "        -0.3882,  0.9107, -0.1112,  1.6990, -0.1424,  0.0954,  0.2827,  1.5819,\n",
      "         0.7076, -2.1028, -0.5856,  2.0042, -0.8685, -0.8749, -1.5514, -0.8083,\n",
      "        -2.0088,  1.0694,  1.5854, -1.8380, -0.7558, -0.0597,  1.1008, -0.3957,\n",
      "         2.6330,  0.2814, -0.6434,  0.2322,  1.2764, -0.0853, -0.9325, -0.1588,\n",
      "         0.3753,  1.0195,  1.5312,  1.6840, -1.6632, -1.4415, -0.4709,  0.7847,\n",
      "        -0.4622, -0.3616,  0.8919, -1.7369,  0.6415, -0.2861,  0.2158,  0.8287,\n",
      "         0.4909,  1.1094, -0.9257,  0.9872,  1.3234, -0.5521, -1.8246,  0.1994,\n",
      "        -0.7337,  1.6200, -0.8317, -0.1494,  0.0258, -0.3861,  1.0252, -1.2845,\n",
      "        -1.2638, -0.6382, -0.7946,  1.2496,  0.7119,  1.0370, -1.0400,  1.9675,\n",
      "         0.1735, -0.9655,  0.7589, -0.0169, -0.4446, -0.6751, -0.6434,  0.3136,\n",
      "         1.3441, -0.2144,  2.6338, -0.1705, -0.2087,  0.8999, -1.2635,  1.9225,\n",
      "         1.1525, -0.2266,  2.0315,  1.2544], requires_grad=True)), ('W_2', Parameter containing:\n",
      "tensor([[ 1.6345e+00,  1.1071e+00,  1.6175e+00, -5.1303e-01,  9.0417e-01,\n",
      "          1.6237e-01,  1.5075e-01, -4.5908e-01,  6.7003e-01, -3.7788e-01,\n",
      "          1.8479e+00, -1.3103e+00,  6.8848e-01, -2.1399e+00, -2.2385e-01,\n",
      "          3.6264e-01, -9.5864e-03, -2.5898e-01, -2.9625e-01,  9.4716e-01,\n",
      "         -4.6802e-01, -5.9796e-01, -5.9559e-01, -1.7629e+00, -9.4025e-01,\n",
      "         -5.3484e-01, -1.0659e+00, -6.3642e-02,  7.2199e-01, -1.5028e-01,\n",
      "         -3.0314e-01, -1.4393e+00,  5.3305e-01,  2.4758e+00, -5.2187e-01,\n",
      "          8.7095e-01, -1.2573e+00, -1.1178e+00,  8.1228e-01,  1.3048e+00,\n",
      "          8.3682e-01,  2.1736e-01, -3.9509e-01, -1.0522e+00,  8.2449e-01,\n",
      "         -9.2704e-01, -1.3210e+00, -9.4398e-01,  5.9786e-02,  4.1112e-01,\n",
      "         -4.3879e-01, -4.8249e-02, -5.9896e-01,  1.4693e+00, -1.3140e+00,\n",
      "          1.3272e+00,  4.8067e-02,  1.4354e-01,  2.2351e-01,  3.6099e-01,\n",
      "          2.7872e-01, -7.3338e-01, -2.4915e-01, -6.5756e-01, -1.9244e+00,\n",
      "         -1.0742e+00,  9.8060e-01,  1.8539e+00, -1.8269e-01,  1.2304e+00,\n",
      "          6.9214e-01, -5.3041e-01,  1.6732e+00, -6.9750e-01, -1.2455e+00,\n",
      "          1.4132e+00, -8.7111e-01, -1.3126e+00,  1.7360e+00,  6.8405e-01,\n",
      "          3.6511e-01,  1.6921e+00, -4.8006e-01,  5.0818e-02,  9.4996e-01,\n",
      "         -2.2968e-01,  3.3065e-01, -3.4457e-01,  1.1691e+00, -3.0217e-01,\n",
      "         -8.1849e-01,  1.9064e-01,  1.4381e+00,  2.1097e+00, -4.5131e-01,\n",
      "          3.5799e-01, -6.0937e-01, -1.4107e-01, -7.3400e-01, -2.6283e-01],\n",
      "        [-9.5130e-01,  1.0454e+00,  2.4101e-01, -2.4567e-03, -1.8441e-01,\n",
      "          1.0872e+00,  1.2604e+00,  4.2570e-01,  4.6081e-01, -1.0483e+00,\n",
      "         -2.4606e-01,  3.8133e-01, -4.0002e-02,  1.6765e+00,  5.6991e-01,\n",
      "         -9.5618e-01,  1.4878e-01,  6.1594e-01, -3.5935e-01,  2.0244e+00,\n",
      "         -2.3869e+00,  4.1535e-01,  2.9654e-02, -6.2877e-01, -2.3119e-01,\n",
      "         -1.1477e-01, -5.3654e-01,  9.5775e-01,  1.4848e-01,  1.0298e+00,\n",
      "          9.8703e-01,  1.6730e-01,  1.8956e-01, -9.7990e-01, -5.5774e-01,\n",
      "         -2.2387e-01, -3.5744e-02, -1.0809e+00, -4.3865e-02,  2.2957e-01,\n",
      "          2.6365e+00,  8.0642e-01,  9.3853e-01,  5.5475e-01, -6.4846e-01,\n",
      "         -1.3944e+00, -1.4478e-01, -1.0926e-01,  4.8890e-01, -1.4817e-01,\n",
      "         -1.1435e+00, -2.3890e-01,  1.0296e+00, -3.2707e-02, -2.0882e+00,\n",
      "         -1.5875e+00, -7.2006e-01,  3.0178e-01, -1.1749e+00,  1.6662e+00,\n",
      "         -3.0582e-01, -1.1814e+00,  1.9327e+00, -1.8523e-01, -2.5793e-01,\n",
      "          2.1005e-03, -1.3312e+00,  5.3565e-01,  1.0507e+00,  1.8475e-01,\n",
      "         -1.2938e+00, -2.5049e-01,  1.0118e+00, -8.7645e-01, -7.7317e-01,\n",
      "          1.9719e+00,  7.1812e-01,  5.6004e-01,  4.7722e-01,  1.9457e+00,\n",
      "         -6.2908e-01,  6.7837e-01, -7.7870e-01, -3.1391e-01, -1.0205e+00,\n",
      "         -5.6869e-01,  1.3978e+00, -6.9941e-01, -9.6242e-01, -9.1865e-01,\n",
      "          1.2021e+00,  5.2642e-01,  5.7863e-01, -1.7322e+00,  7.3789e-01,\n",
      "         -1.2827e+00, -1.1065e+00,  7.8624e-01,  1.4680e+00, -2.3316e+00]],\n",
      "       requires_grad=True)), ('b_2', Parameter containing:\n",
      "tensor([ 1.4768, -0.0750], requires_grad=True))]\n"
     ]
    }
   ],
   "source": [
    "# list all parameters in your network\n",
    "print(\"NAMED PARAMETERS\")\n",
    "print(list(net.named_parameters()))"
   ]
  },
  {
   "cell_type": "code",
   "execution_count": 33,
   "metadata": {},
   "outputs": [
    {
     "name": "stdout",
     "output_type": "stream",
     "text": [
      "PARAMETERS\n",
      "[Parameter containing:\n",
      "tensor([[-0.0784, -1.2031],\n",
      "        [ 0.1525,  0.9879],\n",
      "        [ 0.6491,  0.3351],\n",
      "        [ 0.5113,  1.3033],\n",
      "        [ 0.0556, -0.5004],\n",
      "        [ 0.5291,  0.6932],\n",
      "        [ 2.1180,  1.0976],\n",
      "        [-0.4323, -0.0066],\n",
      "        [-0.2301,  0.9621],\n",
      "        [ 0.9803, -0.5567],\n",
      "        [ 1.2946, -1.4233],\n",
      "        [-0.3296, -0.2798],\n",
      "        [-0.9788,  1.1864],\n",
      "        [-1.7977,  1.8504],\n",
      "        [ 0.6607,  0.3893],\n",
      "        [ 0.4937, -0.8170],\n",
      "        [ 0.8377, -0.1868],\n",
      "        [ 0.5024,  1.3425],\n",
      "        [ 1.0199,  0.4054],\n",
      "        [ 0.8917, -1.0693],\n",
      "        [-2.0051, -0.0111],\n",
      "        [-0.1661,  0.7977],\n",
      "        [ 0.2525, -1.3193],\n",
      "        [ 0.6006,  0.7178],\n",
      "        [ 0.7385, -0.5919],\n",
      "        [-0.2418,  0.9406],\n",
      "        [ 0.4869,  0.5162],\n",
      "        [-0.5975, -0.9173],\n",
      "        [ 0.1413, -1.9736],\n",
      "        [ 0.0772, -0.4034],\n",
      "        [ 0.5221, -0.1828],\n",
      "        [-0.7151,  1.7487],\n",
      "        [-1.5330, -1.0936],\n",
      "        [-2.5156, -0.3262],\n",
      "        [ 1.3239,  0.0549],\n",
      "        [ 0.3226,  1.2499],\n",
      "        [-0.4955,  0.5000],\n",
      "        [-0.3813, -0.1533],\n",
      "        [ 0.4430,  0.1162],\n",
      "        [ 0.2219,  1.3095],\n",
      "        [ 1.3242,  0.2736],\n",
      "        [ 0.2745,  2.4056],\n",
      "        [-0.8704,  0.3698],\n",
      "        [-0.8759, -1.4798],\n",
      "        [-0.6227,  1.8313],\n",
      "        [-0.0377,  0.3481],\n",
      "        [ 0.2125, -0.3804],\n",
      "        [-1.2314,  1.3156],\n",
      "        [ 0.7387,  0.0743],\n",
      "        [ 0.2058, -0.1182],\n",
      "        [-0.5093,  0.5545],\n",
      "        [ 1.1105,  0.4454],\n",
      "        [-0.8479,  1.5645],\n",
      "        [-0.2629,  1.4281],\n",
      "        [ 1.1900, -0.1038],\n",
      "        [-1.1171, -0.6066],\n",
      "        [ 1.5920,  0.2502],\n",
      "        [ 1.2566, -0.1530],\n",
      "        [-2.3728,  0.5895],\n",
      "        [ 0.3811,  0.7682],\n",
      "        [-0.9129,  2.3005],\n",
      "        [-0.5684, -1.8463],\n",
      "        [-0.9556,  1.6447],\n",
      "        [ 0.8406,  1.7071],\n",
      "        [-1.8501,  0.0360],\n",
      "        [ 0.4929,  0.1796],\n",
      "        [ 0.0449,  0.9846],\n",
      "        [ 0.6658, -0.9080],\n",
      "        [ 0.6910, -1.1362],\n",
      "        [ 0.8468, -0.0496],\n",
      "        [ 2.2341,  2.1544],\n",
      "        [ 0.8308, -0.6951],\n",
      "        [-1.0357, -1.1417],\n",
      "        [-0.1956, -0.5786],\n",
      "        [-2.0870,  0.0268],\n",
      "        [ 0.4485,  0.8106],\n",
      "        [ 0.7533, -0.5974],\n",
      "        [-0.0993,  0.2416],\n",
      "        [-1.1680,  1.2859],\n",
      "        [-0.2051,  0.8660],\n",
      "        [-0.2494,  0.0436],\n",
      "        [-1.3683, -0.0722],\n",
      "        [ 0.8244,  0.8675],\n",
      "        [-1.2392, -0.4250],\n",
      "        [ 1.0190,  1.0513],\n",
      "        [-0.1848, -0.6775],\n",
      "        [-0.2446,  0.9721],\n",
      "        [-0.0339,  0.1783],\n",
      "        [-0.8794,  1.0240],\n",
      "        [ 0.6330,  1.6966],\n",
      "        [-0.9496, -0.6992],\n",
      "        [ 0.7247,  2.0276],\n",
      "        [-1.3348, -1.1560],\n",
      "        [-1.7890, -0.4782],\n",
      "        [-1.4178, -1.4553],\n",
      "        [-1.0363, -1.3950],\n",
      "        [ 1.2951,  0.6044],\n",
      "        [-0.4912, -0.7144],\n",
      "        [-1.0860,  0.4598],\n",
      "        [ 0.3144,  0.0812]], requires_grad=True), Parameter containing:\n",
      "tensor([-0.3402,  0.5683,  0.9096, -0.0650, -0.9924,  1.7086, -0.5039,  1.3444,\n",
      "        -0.3882,  0.9107, -0.1112,  1.6990, -0.1424,  0.0954,  0.2827,  1.5819,\n",
      "         0.7076, -2.1028, -0.5856,  2.0042, -0.8685, -0.8749, -1.5514, -0.8083,\n",
      "        -2.0088,  1.0694,  1.5854, -1.8380, -0.7558, -0.0597,  1.1008, -0.3957,\n",
      "         2.6330,  0.2814, -0.6434,  0.2322,  1.2764, -0.0853, -0.9325, -0.1588,\n",
      "         0.3753,  1.0195,  1.5312,  1.6840, -1.6632, -1.4415, -0.4709,  0.7847,\n",
      "        -0.4622, -0.3616,  0.8919, -1.7369,  0.6415, -0.2861,  0.2158,  0.8287,\n",
      "         0.4909,  1.1094, -0.9257,  0.9872,  1.3234, -0.5521, -1.8246,  0.1994,\n",
      "        -0.7337,  1.6200, -0.8317, -0.1494,  0.0258, -0.3861,  1.0252, -1.2845,\n",
      "        -1.2638, -0.6382, -0.7946,  1.2496,  0.7119,  1.0370, -1.0400,  1.9675,\n",
      "         0.1735, -0.9655,  0.7589, -0.0169, -0.4446, -0.6751, -0.6434,  0.3136,\n",
      "         1.3441, -0.2144,  2.6338, -0.1705, -0.2087,  0.8999, -1.2635,  1.9225,\n",
      "         1.1525, -0.2266,  2.0315,  1.2544], requires_grad=True), Parameter containing:\n",
      "tensor([[ 1.6345e+00,  1.1071e+00,  1.6175e+00, -5.1303e-01,  9.0417e-01,\n",
      "          1.6237e-01,  1.5075e-01, -4.5908e-01,  6.7003e-01, -3.7788e-01,\n",
      "          1.8479e+00, -1.3103e+00,  6.8848e-01, -2.1399e+00, -2.2385e-01,\n",
      "          3.6264e-01, -9.5864e-03, -2.5898e-01, -2.9625e-01,  9.4716e-01,\n",
      "         -4.6802e-01, -5.9796e-01, -5.9559e-01, -1.7629e+00, -9.4025e-01,\n",
      "         -5.3484e-01, -1.0659e+00, -6.3642e-02,  7.2199e-01, -1.5028e-01,\n",
      "         -3.0314e-01, -1.4393e+00,  5.3305e-01,  2.4758e+00, -5.2187e-01,\n",
      "          8.7095e-01, -1.2573e+00, -1.1178e+00,  8.1228e-01,  1.3048e+00,\n",
      "          8.3682e-01,  2.1736e-01, -3.9509e-01, -1.0522e+00,  8.2449e-01,\n",
      "         -9.2704e-01, -1.3210e+00, -9.4398e-01,  5.9786e-02,  4.1112e-01,\n",
      "         -4.3879e-01, -4.8249e-02, -5.9896e-01,  1.4693e+00, -1.3140e+00,\n",
      "          1.3272e+00,  4.8067e-02,  1.4354e-01,  2.2351e-01,  3.6099e-01,\n",
      "          2.7872e-01, -7.3338e-01, -2.4915e-01, -6.5756e-01, -1.9244e+00,\n",
      "         -1.0742e+00,  9.8060e-01,  1.8539e+00, -1.8269e-01,  1.2304e+00,\n",
      "          6.9214e-01, -5.3041e-01,  1.6732e+00, -6.9750e-01, -1.2455e+00,\n",
      "          1.4132e+00, -8.7111e-01, -1.3126e+00,  1.7360e+00,  6.8405e-01,\n",
      "          3.6511e-01,  1.6921e+00, -4.8006e-01,  5.0818e-02,  9.4996e-01,\n",
      "         -2.2968e-01,  3.3065e-01, -3.4457e-01,  1.1691e+00, -3.0217e-01,\n",
      "         -8.1849e-01,  1.9064e-01,  1.4381e+00,  2.1097e+00, -4.5131e-01,\n",
      "          3.5799e-01, -6.0937e-01, -1.4107e-01, -7.3400e-01, -2.6283e-01],\n",
      "        [-9.5130e-01,  1.0454e+00,  2.4101e-01, -2.4567e-03, -1.8441e-01,\n",
      "          1.0872e+00,  1.2604e+00,  4.2570e-01,  4.6081e-01, -1.0483e+00,\n",
      "         -2.4606e-01,  3.8133e-01, -4.0002e-02,  1.6765e+00,  5.6991e-01,\n",
      "         -9.5618e-01,  1.4878e-01,  6.1594e-01, -3.5935e-01,  2.0244e+00,\n",
      "         -2.3869e+00,  4.1535e-01,  2.9654e-02, -6.2877e-01, -2.3119e-01,\n",
      "         -1.1477e-01, -5.3654e-01,  9.5775e-01,  1.4848e-01,  1.0298e+00,\n",
      "          9.8703e-01,  1.6730e-01,  1.8956e-01, -9.7990e-01, -5.5774e-01,\n",
      "         -2.2387e-01, -3.5744e-02, -1.0809e+00, -4.3865e-02,  2.2957e-01,\n",
      "          2.6365e+00,  8.0642e-01,  9.3853e-01,  5.5475e-01, -6.4846e-01,\n",
      "         -1.3944e+00, -1.4478e-01, -1.0926e-01,  4.8890e-01, -1.4817e-01,\n",
      "         -1.1435e+00, -2.3890e-01,  1.0296e+00, -3.2707e-02, -2.0882e+00,\n",
      "         -1.5875e+00, -7.2006e-01,  3.0178e-01, -1.1749e+00,  1.6662e+00,\n",
      "         -3.0582e-01, -1.1814e+00,  1.9327e+00, -1.8523e-01, -2.5793e-01,\n",
      "          2.1005e-03, -1.3312e+00,  5.3565e-01,  1.0507e+00,  1.8475e-01,\n",
      "         -1.2938e+00, -2.5049e-01,  1.0118e+00, -8.7645e-01, -7.7317e-01,\n",
      "          1.9719e+00,  7.1812e-01,  5.6004e-01,  4.7722e-01,  1.9457e+00,\n",
      "         -6.2908e-01,  6.7837e-01, -7.7870e-01, -3.1391e-01, -1.0205e+00,\n",
      "         -5.6869e-01,  1.3978e+00, -6.9941e-01, -9.6242e-01, -9.1865e-01,\n",
      "          1.2021e+00,  5.2642e-01,  5.7863e-01, -1.7322e+00,  7.3789e-01,\n",
      "         -1.2827e+00, -1.1065e+00,  7.8624e-01,  1.4680e+00, -2.3316e+00]],\n",
      "       requires_grad=True), Parameter containing:\n",
      "tensor([ 1.4768, -0.0750], requires_grad=True)]\n",
      "\n"
     ]
    }
   ],
   "source": [
    "# the parameters() method simply gives the Tensors in the list\n",
    "print(\"PARAMETERS\")\n",
    "print(list(net.parameters()))\n",
    "print()"
   ]
  },
  {
   "cell_type": "code",
   "execution_count": 34,
   "metadata": {},
   "outputs": [
    {
     "name": "stdout",
     "output_type": "stream",
     "text": [
      "WEIGHTS\n",
      "Parameter containing:\n",
      "tensor([[-0.0784, -1.2031],\n",
      "        [ 0.1525,  0.9879],\n",
      "        [ 0.6491,  0.3351],\n",
      "        [ 0.5113,  1.3033],\n",
      "        [ 0.0556, -0.5004],\n",
      "        [ 0.5291,  0.6932],\n",
      "        [ 2.1180,  1.0976],\n",
      "        [-0.4323, -0.0066],\n",
      "        [-0.2301,  0.9621],\n",
      "        [ 0.9803, -0.5567],\n",
      "        [ 1.2946, -1.4233],\n",
      "        [-0.3296, -0.2798],\n",
      "        [-0.9788,  1.1864],\n",
      "        [-1.7977,  1.8504],\n",
      "        [ 0.6607,  0.3893],\n",
      "        [ 0.4937, -0.8170],\n",
      "        [ 0.8377, -0.1868],\n",
      "        [ 0.5024,  1.3425],\n",
      "        [ 1.0199,  0.4054],\n",
      "        [ 0.8917, -1.0693],\n",
      "        [-2.0051, -0.0111],\n",
      "        [-0.1661,  0.7977],\n",
      "        [ 0.2525, -1.3193],\n",
      "        [ 0.6006,  0.7178],\n",
      "        [ 0.7385, -0.5919],\n",
      "        [-0.2418,  0.9406],\n",
      "        [ 0.4869,  0.5162],\n",
      "        [-0.5975, -0.9173],\n",
      "        [ 0.1413, -1.9736],\n",
      "        [ 0.0772, -0.4034],\n",
      "        [ 0.5221, -0.1828],\n",
      "        [-0.7151,  1.7487],\n",
      "        [-1.5330, -1.0936],\n",
      "        [-2.5156, -0.3262],\n",
      "        [ 1.3239,  0.0549],\n",
      "        [ 0.3226,  1.2499],\n",
      "        [-0.4955,  0.5000],\n",
      "        [-0.3813, -0.1533],\n",
      "        [ 0.4430,  0.1162],\n",
      "        [ 0.2219,  1.3095],\n",
      "        [ 1.3242,  0.2736],\n",
      "        [ 0.2745,  2.4056],\n",
      "        [-0.8704,  0.3698],\n",
      "        [-0.8759, -1.4798],\n",
      "        [-0.6227,  1.8313],\n",
      "        [-0.0377,  0.3481],\n",
      "        [ 0.2125, -0.3804],\n",
      "        [-1.2314,  1.3156],\n",
      "        [ 0.7387,  0.0743],\n",
      "        [ 0.2058, -0.1182],\n",
      "        [-0.5093,  0.5545],\n",
      "        [ 1.1105,  0.4454],\n",
      "        [-0.8479,  1.5645],\n",
      "        [-0.2629,  1.4281],\n",
      "        [ 1.1900, -0.1038],\n",
      "        [-1.1171, -0.6066],\n",
      "        [ 1.5920,  0.2502],\n",
      "        [ 1.2566, -0.1530],\n",
      "        [-2.3728,  0.5895],\n",
      "        [ 0.3811,  0.7682],\n",
      "        [-0.9129,  2.3005],\n",
      "        [-0.5684, -1.8463],\n",
      "        [-0.9556,  1.6447],\n",
      "        [ 0.8406,  1.7071],\n",
      "        [-1.8501,  0.0360],\n",
      "        [ 0.4929,  0.1796],\n",
      "        [ 0.0449,  0.9846],\n",
      "        [ 0.6658, -0.9080],\n",
      "        [ 0.6910, -1.1362],\n",
      "        [ 0.8468, -0.0496],\n",
      "        [ 2.2341,  2.1544],\n",
      "        [ 0.8308, -0.6951],\n",
      "        [-1.0357, -1.1417],\n",
      "        [-0.1956, -0.5786],\n",
      "        [-2.0870,  0.0268],\n",
      "        [ 0.4485,  0.8106],\n",
      "        [ 0.7533, -0.5974],\n",
      "        [-0.0993,  0.2416],\n",
      "        [-1.1680,  1.2859],\n",
      "        [-0.2051,  0.8660],\n",
      "        [-0.2494,  0.0436],\n",
      "        [-1.3683, -0.0722],\n",
      "        [ 0.8244,  0.8675],\n",
      "        [-1.2392, -0.4250],\n",
      "        [ 1.0190,  1.0513],\n",
      "        [-0.1848, -0.6775],\n",
      "        [-0.2446,  0.9721],\n",
      "        [-0.0339,  0.1783],\n",
      "        [-0.8794,  1.0240],\n",
      "        [ 0.6330,  1.6966],\n",
      "        [-0.9496, -0.6992],\n",
      "        [ 0.7247,  2.0276],\n",
      "        [-1.3348, -1.1560],\n",
      "        [-1.7890, -0.4782],\n",
      "        [-1.4178, -1.4553],\n",
      "        [-1.0363, -1.3950],\n",
      "        [ 1.2951,  0.6044],\n",
      "        [-0.4912, -0.7144],\n",
      "        [-1.0860,  0.4598],\n",
      "        [ 0.3144,  0.0812]], requires_grad=True)\n",
      "torch.Size([100, 2])\n"
     ]
    }
   ],
   "source": [
    "# list individual parameters by name\n",
    "print('WEIGHTS')\n",
    "print(net.W_1)\n",
    "print(net.W_1.size())"
   ]
  },
  {
   "cell_type": "code",
   "execution_count": 35,
   "metadata": {},
   "outputs": [
    {
     "name": "stdout",
     "output_type": "stream",
     "text": [
      "\n",
      "BIAS\n",
      "Parameter containing:\n",
      "tensor([-0.3402,  0.5683,  0.9096, -0.0650, -0.9924,  1.7086, -0.5039,  1.3444,\n",
      "        -0.3882,  0.9107, -0.1112,  1.6990, -0.1424,  0.0954,  0.2827,  1.5819,\n",
      "         0.7076, -2.1028, -0.5856,  2.0042, -0.8685, -0.8749, -1.5514, -0.8083,\n",
      "        -2.0088,  1.0694,  1.5854, -1.8380, -0.7558, -0.0597,  1.1008, -0.3957,\n",
      "         2.6330,  0.2814, -0.6434,  0.2322,  1.2764, -0.0853, -0.9325, -0.1588,\n",
      "         0.3753,  1.0195,  1.5312,  1.6840, -1.6632, -1.4415, -0.4709,  0.7847,\n",
      "        -0.4622, -0.3616,  0.8919, -1.7369,  0.6415, -0.2861,  0.2158,  0.8287,\n",
      "         0.4909,  1.1094, -0.9257,  0.9872,  1.3234, -0.5521, -1.8246,  0.1994,\n",
      "        -0.7337,  1.6200, -0.8317, -0.1494,  0.0258, -0.3861,  1.0252, -1.2845,\n",
      "        -1.2638, -0.6382, -0.7946,  1.2496,  0.7119,  1.0370, -1.0400,  1.9675,\n",
      "         0.1735, -0.9655,  0.7589, -0.0169, -0.4446, -0.6751, -0.6434,  0.3136,\n",
      "         1.3441, -0.2144,  2.6338, -0.1705, -0.2087,  0.8999, -1.2635,  1.9225,\n",
      "         1.1525, -0.2266,  2.0315,  1.2544], requires_grad=True)\n",
      "torch.Size([100])\n"
     ]
    }
   ],
   "source": [
    "print('\\nBIAS')\n",
    "print(net.b_1)\n",
    "print(net.b_1.size())"
   ]
  },
  {
   "cell_type": "markdown",
   "metadata": {},
   "source": [
    "# Exploring Parameter\n",
    "\n",
    "Ok, let's investigate what a `Parameter`/`Variable` is"
   ]
  },
  {
   "cell_type": "code",
   "execution_count": 36,
   "metadata": {},
   "outputs": [
    {
     "name": "stdout",
     "output_type": "stream",
     "text": [
      "Parameter containing:\n",
      "tensor([[-0.0784, -1.2031],\n",
      "        [ 0.1525,  0.9879],\n",
      "        [ 0.6491,  0.3351],\n",
      "        [ 0.5113,  1.3033],\n",
      "        [ 0.0556, -0.5004],\n",
      "        [ 0.5291,  0.6932],\n",
      "        [ 2.1180,  1.0976],\n",
      "        [-0.4323, -0.0066],\n",
      "        [-0.2301,  0.9621],\n",
      "        [ 0.9803, -0.5567],\n",
      "        [ 1.2946, -1.4233],\n",
      "        [-0.3296, -0.2798],\n",
      "        [-0.9788,  1.1864],\n",
      "        [-1.7977,  1.8504],\n",
      "        [ 0.6607,  0.3893],\n",
      "        [ 0.4937, -0.8170],\n",
      "        [ 0.8377, -0.1868],\n",
      "        [ 0.5024,  1.3425],\n",
      "        [ 1.0199,  0.4054],\n",
      "        [ 0.8917, -1.0693],\n",
      "        [-2.0051, -0.0111],\n",
      "        [-0.1661,  0.7977],\n",
      "        [ 0.2525, -1.3193],\n",
      "        [ 0.6006,  0.7178],\n",
      "        [ 0.7385, -0.5919],\n",
      "        [-0.2418,  0.9406],\n",
      "        [ 0.4869,  0.5162],\n",
      "        [-0.5975, -0.9173],\n",
      "        [ 0.1413, -1.9736],\n",
      "        [ 0.0772, -0.4034],\n",
      "        [ 0.5221, -0.1828],\n",
      "        [-0.7151,  1.7487],\n",
      "        [-1.5330, -1.0936],\n",
      "        [-2.5156, -0.3262],\n",
      "        [ 1.3239,  0.0549],\n",
      "        [ 0.3226,  1.2499],\n",
      "        [-0.4955,  0.5000],\n",
      "        [-0.3813, -0.1533],\n",
      "        [ 0.4430,  0.1162],\n",
      "        [ 0.2219,  1.3095],\n",
      "        [ 1.3242,  0.2736],\n",
      "        [ 0.2745,  2.4056],\n",
      "        [-0.8704,  0.3698],\n",
      "        [-0.8759, -1.4798],\n",
      "        [-0.6227,  1.8313],\n",
      "        [-0.0377,  0.3481],\n",
      "        [ 0.2125, -0.3804],\n",
      "        [-1.2314,  1.3156],\n",
      "        [ 0.7387,  0.0743],\n",
      "        [ 0.2058, -0.1182],\n",
      "        [-0.5093,  0.5545],\n",
      "        [ 1.1105,  0.4454],\n",
      "        [-0.8479,  1.5645],\n",
      "        [-0.2629,  1.4281],\n",
      "        [ 1.1900, -0.1038],\n",
      "        [-1.1171, -0.6066],\n",
      "        [ 1.5920,  0.2502],\n",
      "        [ 1.2566, -0.1530],\n",
      "        [-2.3728,  0.5895],\n",
      "        [ 0.3811,  0.7682],\n",
      "        [-0.9129,  2.3005],\n",
      "        [-0.5684, -1.8463],\n",
      "        [-0.9556,  1.6447],\n",
      "        [ 0.8406,  1.7071],\n",
      "        [-1.8501,  0.0360],\n",
      "        [ 0.4929,  0.1796],\n",
      "        [ 0.0449,  0.9846],\n",
      "        [ 0.6658, -0.9080],\n",
      "        [ 0.6910, -1.1362],\n",
      "        [ 0.8468, -0.0496],\n",
      "        [ 2.2341,  2.1544],\n",
      "        [ 0.8308, -0.6951],\n",
      "        [-1.0357, -1.1417],\n",
      "        [-0.1956, -0.5786],\n",
      "        [-2.0870,  0.0268],\n",
      "        [ 0.4485,  0.8106],\n",
      "        [ 0.7533, -0.5974],\n",
      "        [-0.0993,  0.2416],\n",
      "        [-1.1680,  1.2859],\n",
      "        [-0.2051,  0.8660],\n",
      "        [-0.2494,  0.0436],\n",
      "        [-1.3683, -0.0722],\n",
      "        [ 0.8244,  0.8675],\n",
      "        [-1.2392, -0.4250],\n",
      "        [ 1.0190,  1.0513],\n",
      "        [-0.1848, -0.6775],\n",
      "        [-0.2446,  0.9721],\n",
      "        [-0.0339,  0.1783],\n",
      "        [-0.8794,  1.0240],\n",
      "        [ 0.6330,  1.6966],\n",
      "        [-0.9496, -0.6992],\n",
      "        [ 0.7247,  2.0276],\n",
      "        [-1.3348, -1.1560],\n",
      "        [-1.7890, -0.4782],\n",
      "        [-1.4178, -1.4553],\n",
      "        [-1.0363, -1.3950],\n",
      "        [ 1.2951,  0.6044],\n",
      "        [-0.4912, -0.7144],\n",
      "        [-1.0860,  0.4598],\n",
      "        [ 0.3144,  0.0812]], requires_grad=True)\n"
     ]
    }
   ],
   "source": [
    "param = net.W_1\n",
    "print(param)"
   ]
  },
  {
   "cell_type": "code",
   "execution_count": 37,
   "metadata": {},
   "outputs": [
    {
     "name": "stdout",
     "output_type": "stream",
     "text": [
      "## this is the tensor\n",
      "tensor([[-0.0784, -1.2031],\n",
      "        [ 0.1525,  0.9879],\n",
      "        [ 0.6491,  0.3351],\n",
      "        [ 0.5113,  1.3033],\n",
      "        [ 0.0556, -0.5004],\n",
      "        [ 0.5291,  0.6932],\n",
      "        [ 2.1180,  1.0976],\n",
      "        [-0.4323, -0.0066],\n",
      "        [-0.2301,  0.9621],\n",
      "        [ 0.9803, -0.5567],\n",
      "        [ 1.2946, -1.4233],\n",
      "        [-0.3296, -0.2798],\n",
      "        [-0.9788,  1.1864],\n",
      "        [-1.7977,  1.8504],\n",
      "        [ 0.6607,  0.3893],\n",
      "        [ 0.4937, -0.8170],\n",
      "        [ 0.8377, -0.1868],\n",
      "        [ 0.5024,  1.3425],\n",
      "        [ 1.0199,  0.4054],\n",
      "        [ 0.8917, -1.0693],\n",
      "        [-2.0051, -0.0111],\n",
      "        [-0.1661,  0.7977],\n",
      "        [ 0.2525, -1.3193],\n",
      "        [ 0.6006,  0.7178],\n",
      "        [ 0.7385, -0.5919],\n",
      "        [-0.2418,  0.9406],\n",
      "        [ 0.4869,  0.5162],\n",
      "        [-0.5975, -0.9173],\n",
      "        [ 0.1413, -1.9736],\n",
      "        [ 0.0772, -0.4034],\n",
      "        [ 0.5221, -0.1828],\n",
      "        [-0.7151,  1.7487],\n",
      "        [-1.5330, -1.0936],\n",
      "        [-2.5156, -0.3262],\n",
      "        [ 1.3239,  0.0549],\n",
      "        [ 0.3226,  1.2499],\n",
      "        [-0.4955,  0.5000],\n",
      "        [-0.3813, -0.1533],\n",
      "        [ 0.4430,  0.1162],\n",
      "        [ 0.2219,  1.3095],\n",
      "        [ 1.3242,  0.2736],\n",
      "        [ 0.2745,  2.4056],\n",
      "        [-0.8704,  0.3698],\n",
      "        [-0.8759, -1.4798],\n",
      "        [-0.6227,  1.8313],\n",
      "        [-0.0377,  0.3481],\n",
      "        [ 0.2125, -0.3804],\n",
      "        [-1.2314,  1.3156],\n",
      "        [ 0.7387,  0.0743],\n",
      "        [ 0.2058, -0.1182],\n",
      "        [-0.5093,  0.5545],\n",
      "        [ 1.1105,  0.4454],\n",
      "        [-0.8479,  1.5645],\n",
      "        [-0.2629,  1.4281],\n",
      "        [ 1.1900, -0.1038],\n",
      "        [-1.1171, -0.6066],\n",
      "        [ 1.5920,  0.2502],\n",
      "        [ 1.2566, -0.1530],\n",
      "        [-2.3728,  0.5895],\n",
      "        [ 0.3811,  0.7682],\n",
      "        [-0.9129,  2.3005],\n",
      "        [-0.5684, -1.8463],\n",
      "        [-0.9556,  1.6447],\n",
      "        [ 0.8406,  1.7071],\n",
      "        [-1.8501,  0.0360],\n",
      "        [ 0.4929,  0.1796],\n",
      "        [ 0.0449,  0.9846],\n",
      "        [ 0.6658, -0.9080],\n",
      "        [ 0.6910, -1.1362],\n",
      "        [ 0.8468, -0.0496],\n",
      "        [ 2.2341,  2.1544],\n",
      "        [ 0.8308, -0.6951],\n",
      "        [-1.0357, -1.1417],\n",
      "        [-0.1956, -0.5786],\n",
      "        [-2.0870,  0.0268],\n",
      "        [ 0.4485,  0.8106],\n",
      "        [ 0.7533, -0.5974],\n",
      "        [-0.0993,  0.2416],\n",
      "        [-1.1680,  1.2859],\n",
      "        [-0.2051,  0.8660],\n",
      "        [-0.2494,  0.0436],\n",
      "        [-1.3683, -0.0722],\n",
      "        [ 0.8244,  0.8675],\n",
      "        [-1.2392, -0.4250],\n",
      "        [ 1.0190,  1.0513],\n",
      "        [-0.1848, -0.6775],\n",
      "        [-0.2446,  0.9721],\n",
      "        [-0.0339,  0.1783],\n",
      "        [-0.8794,  1.0240],\n",
      "        [ 0.6330,  1.6966],\n",
      "        [-0.9496, -0.6992],\n",
      "        [ 0.7247,  2.0276],\n",
      "        [-1.3348, -1.1560],\n",
      "        [-1.7890, -0.4782],\n",
      "        [-1.4178, -1.4553],\n",
      "        [-1.0363, -1.3950],\n",
      "        [ 1.2951,  0.6044],\n",
      "        [-0.4912, -0.7144],\n",
      "        [-1.0860,  0.4598],\n",
      "        [ 0.3144,  0.0812]])\n",
      "\n",
      "## this is the tensor's gradient\n",
      "None\n",
      "\n",
      "## is it a leaf in the graph?\n",
      "True\n"
     ]
    }
   ],
   "source": [
    "print(\"## this is the tensor\")\n",
    "print(param.data)\n",
    "\n",
    "print(\"\\n## this is the tensor's gradient\")\n",
    "print(param.grad)\n",
    "# notice, the gradient is undefined because we have not yet run a backward pass\n",
    "\n",
    "print(\"\\n## is it a leaf in the graph?\")\n",
    "print(param.is_leaf)"
   ]
  },
  {
   "cell_type": "markdown",
   "metadata": {},
   "source": [
    "## Excluding subgraphs from backward propagation\n",
    "\n",
    "`Variable`s have two properties which allow you to define if a graph is going to be used for training or inference, `requires_grad` and `volatile`.\n",
    "During training we might not want to compute the gradients for all layers, e.g. if we have a pretrained model or embeddings that we do not want to change the values of.\n",
    "\n",
    "To compute gradients we need to store activations and compute the backward pass for the given layer.\n",
    "Setting `requires_grad = False` will allow you to circumvent these properties.\n",
    "If any paramater in an operation / layer requires gradient then the entire output of the operation will also require gradient.\n",
    "\n",
    "The `volatile` property is mostly used when you want to run inference with your model, and if it is set to `True` the entire graph will not require gradient. This means that you expect to never call `.backward()` on the network.\n",
    "\n",
    "See http://pytorch.org/docs/master/notes/autograd.html for an in-depth explanation."
   ]
  },
  {
   "cell_type": "markdown",
   "metadata": {},
   "source": [
    "# Test network\n",
    "\n",
    "To use our network we can simply call our graph, and it will dynamically be created. Here is an example of running the network's forward pass."
   ]
  },
  {
   "cell_type": "code",
   "execution_count": 38,
   "metadata": {},
   "outputs": [
    {
     "name": "stdout",
     "output_type": "stream",
     "text": [
      "input\n",
      "tensor([[-1.1783, -2.2129],\n",
      "        [-1.0838,  0.6219],\n",
      "        [-0.1571,  0.0981],\n",
      "        [ 0.3444, -1.3741],\n",
      "        [-1.1975, -0.1108]])\n",
      "torch.Size([5, 2])\n"
     ]
    }
   ],
   "source": [
    "num_neurons = 5\n",
    "\n",
    "X = Variable(torch.randn(num_neurons, num_features))\n",
    "# the net.__call__ runs some pre-defined functions\n",
    "# both before and after running net.forward()\n",
    "# see http://pytorch.org/docs/master/_modules/torch/nn/modules/module.html\n",
    "\n",
    "print('input')\n",
    "\n",
    "print(X)\n",
    "\n",
    "print(X.shape)"
   ]
  },
  {
   "cell_type": "code",
   "execution_count": 39,
   "metadata": {},
   "outputs": [
    {
     "name": "stdout",
     "output_type": "stream",
     "text": [
      "\n",
      "output\n",
      "tensor([[1.0000e+00, 4.8409e-12],\n",
      "        [6.1311e-07, 1.0000e+00],\n",
      "        [2.3271e-06, 1.0000e+00],\n",
      "        [9.8809e-01, 1.1906e-02],\n",
      "        [3.5746e-02, 9.6425e-01]], grad_fn=<SoftmaxBackward>)\n"
     ]
    }
   ],
   "source": [
    "# pass through the NN\n",
    "print('\\noutput')\n",
    "print(net(X))"
   ]
  },
  {
   "cell_type": "markdown",
   "metadata": {},
   "source": [
    "------\n",
    "## A softmax function.\n",
    "\n",
    "Softmax is defined as:\n",
    "\n",
    "$\\text{Softmax}(x_{i}) = \\frac{exp(x_i)}{\\sum_j exp(x_j)}$\n",
    "\n",
    "It is applied to all slices along dim, and will re-scale them so that the elements\n",
    "lie in the range `(0, 1)` and sum to 1.\n",
    "\n",
    "See :class:`~torch.nn.Softmax` for more details.\n",
    "\n",
    "Arguments:\n",
    "    input (Tensor): input\n",
    "    dim (int): A dimension along which softmax will be computed.\n",
    "\n",
    ".. note::\n",
    "    This function doesn't work directly with NLLLoss,\n",
    "    which expects the Log to be computed between the Softmax and itself.\n",
    "    Use log_softmax instead (it's faster and has better numerical properties).\n",
    "    \n"
   ]
  },
  {
   "cell_type": "code",
   "execution_count": 40,
   "metadata": {},
   "outputs": [
    {
     "data": {
      "text/plain": [
       "tensor([[-1.1783, -2.2129],\n",
       "        [-1.0838,  0.6219],\n",
       "        [-0.1571,  0.0981],\n",
       "        [ 0.3444, -1.3741],\n",
       "        [-1.1975, -0.1108]])"
      ]
     },
     "execution_count": 40,
     "metadata": {},
     "output_type": "execute_result"
    }
   ],
   "source": [
    "X"
   ]
  },
  {
   "cell_type": "code",
   "execution_count": 41,
   "metadata": {},
   "outputs": [
    {
     "data": {
      "text/plain": [
       "tensor([[0.7378, 0.2622],\n",
       "        [0.1537, 0.8463],\n",
       "        [0.4366, 0.5634],\n",
       "        [0.8479, 0.1521],\n",
       "        [0.2522, 0.7478]])"
      ]
     },
     "execution_count": 41,
     "metadata": {},
     "output_type": "execute_result"
    }
   ],
   "source": [
    "F.softmax(X, dim = 1) "
   ]
  },
  {
   "cell_type": "code",
   "execution_count": 42,
   "metadata": {},
   "outputs": [
    {
     "data": {
      "text/plain": [
       "tensor([[1.0000e+00, 4.8409e-12],\n",
       "        [6.1311e-07, 1.0000e+00],\n",
       "        [2.3271e-06, 1.0000e+00],\n",
       "        [9.8809e-01, 1.1906e-02],\n",
       "        [3.5746e-02, 9.6425e-01]], grad_fn=<SoftmaxBackward>)"
      ]
     },
     "execution_count": 42,
     "metadata": {},
     "output_type": "execute_result"
    }
   ],
   "source": [
    "# is same as:  \n",
    "net.forward(X)"
   ]
  },
  {
   "cell_type": "code",
   "execution_count": 43,
   "metadata": {},
   "outputs": [
    {
     "name": "stdout",
     "output_type": "stream",
     "text": [
      "\n",
      "WEIGHT\n",
      "Parameter containing:\n",
      "tensor([[-0.0784, -1.2031],\n",
      "        [ 0.1525,  0.9879],\n",
      "        [ 0.6491,  0.3351],\n",
      "        [ 0.5113,  1.3033],\n",
      "        [ 0.0556, -0.5004],\n",
      "        [ 0.5291,  0.6932],\n",
      "        [ 2.1180,  1.0976],\n",
      "        [-0.4323, -0.0066],\n",
      "        [-0.2301,  0.9621],\n",
      "        [ 0.9803, -0.5567],\n",
      "        [ 1.2946, -1.4233],\n",
      "        [-0.3296, -0.2798],\n",
      "        [-0.9788,  1.1864],\n",
      "        [-1.7977,  1.8504],\n",
      "        [ 0.6607,  0.3893],\n",
      "        [ 0.4937, -0.8170],\n",
      "        [ 0.8377, -0.1868],\n",
      "        [ 0.5024,  1.3425],\n",
      "        [ 1.0199,  0.4054],\n",
      "        [ 0.8917, -1.0693],\n",
      "        [-2.0051, -0.0111],\n",
      "        [-0.1661,  0.7977],\n",
      "        [ 0.2525, -1.3193],\n",
      "        [ 0.6006,  0.7178],\n",
      "        [ 0.7385, -0.5919],\n",
      "        [-0.2418,  0.9406],\n",
      "        [ 0.4869,  0.5162],\n",
      "        [-0.5975, -0.9173],\n",
      "        [ 0.1413, -1.9736],\n",
      "        [ 0.0772, -0.4034],\n",
      "        [ 0.5221, -0.1828],\n",
      "        [-0.7151,  1.7487],\n",
      "        [-1.5330, -1.0936],\n",
      "        [-2.5156, -0.3262],\n",
      "        [ 1.3239,  0.0549],\n",
      "        [ 0.3226,  1.2499],\n",
      "        [-0.4955,  0.5000],\n",
      "        [-0.3813, -0.1533],\n",
      "        [ 0.4430,  0.1162],\n",
      "        [ 0.2219,  1.3095],\n",
      "        [ 1.3242,  0.2736],\n",
      "        [ 0.2745,  2.4056],\n",
      "        [-0.8704,  0.3698],\n",
      "        [-0.8759, -1.4798],\n",
      "        [-0.6227,  1.8313],\n",
      "        [-0.0377,  0.3481],\n",
      "        [ 0.2125, -0.3804],\n",
      "        [-1.2314,  1.3156],\n",
      "        [ 0.7387,  0.0743],\n",
      "        [ 0.2058, -0.1182],\n",
      "        [-0.5093,  0.5545],\n",
      "        [ 1.1105,  0.4454],\n",
      "        [-0.8479,  1.5645],\n",
      "        [-0.2629,  1.4281],\n",
      "        [ 1.1900, -0.1038],\n",
      "        [-1.1171, -0.6066],\n",
      "        [ 1.5920,  0.2502],\n",
      "        [ 1.2566, -0.1530],\n",
      "        [-2.3728,  0.5895],\n",
      "        [ 0.3811,  0.7682],\n",
      "        [-0.9129,  2.3005],\n",
      "        [-0.5684, -1.8463],\n",
      "        [-0.9556,  1.6447],\n",
      "        [ 0.8406,  1.7071],\n",
      "        [-1.8501,  0.0360],\n",
      "        [ 0.4929,  0.1796],\n",
      "        [ 0.0449,  0.9846],\n",
      "        [ 0.6658, -0.9080],\n",
      "        [ 0.6910, -1.1362],\n",
      "        [ 0.8468, -0.0496],\n",
      "        [ 2.2341,  2.1544],\n",
      "        [ 0.8308, -0.6951],\n",
      "        [-1.0357, -1.1417],\n",
      "        [-0.1956, -0.5786],\n",
      "        [-2.0870,  0.0268],\n",
      "        [ 0.4485,  0.8106],\n",
      "        [ 0.7533, -0.5974],\n",
      "        [-0.0993,  0.2416],\n",
      "        [-1.1680,  1.2859],\n",
      "        [-0.2051,  0.8660],\n",
      "        [-0.2494,  0.0436],\n",
      "        [-1.3683, -0.0722],\n",
      "        [ 0.8244,  0.8675],\n",
      "        [-1.2392, -0.4250],\n",
      "        [ 1.0190,  1.0513],\n",
      "        [-0.1848, -0.6775],\n",
      "        [-0.2446,  0.9721],\n",
      "        [-0.0339,  0.1783],\n",
      "        [-0.8794,  1.0240],\n",
      "        [ 0.6330,  1.6966],\n",
      "        [-0.9496, -0.6992],\n",
      "        [ 0.7247,  2.0276],\n",
      "        [-1.3348, -1.1560],\n",
      "        [-1.7890, -0.4782],\n",
      "        [-1.4178, -1.4553],\n",
      "        [-1.0363, -1.3950],\n",
      "        [ 1.2951,  0.6044],\n",
      "        [-0.4912, -0.7144],\n",
      "        [-1.0860,  0.4598],\n",
      "        [ 0.3144,  0.0812]], requires_grad=True)\n",
      "\n",
      "BIAS\n",
      "Parameter containing:\n",
      "tensor([-0.3402,  0.5683,  0.9096, -0.0650, -0.9924,  1.7086, -0.5039,  1.3444,\n",
      "        -0.3882,  0.9107, -0.1112,  1.6990, -0.1424,  0.0954,  0.2827,  1.5819,\n",
      "         0.7076, -2.1028, -0.5856,  2.0042, -0.8685, -0.8749, -1.5514, -0.8083,\n",
      "        -2.0088,  1.0694,  1.5854, -1.8380, -0.7558, -0.0597,  1.1008, -0.3957,\n",
      "         2.6330,  0.2814, -0.6434,  0.2322,  1.2764, -0.0853, -0.9325, -0.1588,\n",
      "         0.3753,  1.0195,  1.5312,  1.6840, -1.6632, -1.4415, -0.4709,  0.7847,\n",
      "        -0.4622, -0.3616,  0.8919, -1.7369,  0.6415, -0.2861,  0.2158,  0.8287,\n",
      "         0.4909,  1.1094, -0.9257,  0.9872,  1.3234, -0.5521, -1.8246,  0.1994,\n",
      "        -0.7337,  1.6200, -0.8317, -0.1494,  0.0258, -0.3861,  1.0252, -1.2845,\n",
      "        -1.2638, -0.6382, -0.7946,  1.2496,  0.7119,  1.0370, -1.0400,  1.9675,\n",
      "         0.1735, -0.9655,  0.7589, -0.0169, -0.4446, -0.6751, -0.6434,  0.3136,\n",
      "         1.3441, -0.2144,  2.6338, -0.1705, -0.2087,  0.8999, -1.2635,  1.9225,\n",
      "         1.1525, -0.2266,  2.0315,  1.2544], requires_grad=True)\n"
     ]
    }
   ],
   "source": [
    "print('\\nWEIGHT')\n",
    "\n",
    "param = net.W_1\n",
    "print(param)\n",
    "\n",
    "print('\\nBIAS')\n",
    "print(net.b_1)"
   ]
  },
  {
   "cell_type": "markdown",
   "metadata": {},
   "source": [
    "Parameters is a special case of Variable "
   ]
  },
  {
   "cell_type": "code",
   "execution_count": 44,
   "metadata": {},
   "outputs": [
    {
     "name": "stdout",
     "output_type": "stream",
     "text": [
      "DATA >>> tensor([[-0.0784, -1.2031],\n",
      "        [ 0.1525,  0.9879],\n",
      "        [ 0.6491,  0.3351],\n",
      "        [ 0.5113,  1.3033],\n",
      "        [ 0.0556, -0.5004],\n",
      "        [ 0.5291,  0.6932],\n",
      "        [ 2.1180,  1.0976],\n",
      "        [-0.4323, -0.0066],\n",
      "        [-0.2301,  0.9621],\n",
      "        [ 0.9803, -0.5567],\n",
      "        [ 1.2946, -1.4233],\n",
      "        [-0.3296, -0.2798],\n",
      "        [-0.9788,  1.1864],\n",
      "        [-1.7977,  1.8504],\n",
      "        [ 0.6607,  0.3893],\n",
      "        [ 0.4937, -0.8170],\n",
      "        [ 0.8377, -0.1868],\n",
      "        [ 0.5024,  1.3425],\n",
      "        [ 1.0199,  0.4054],\n",
      "        [ 0.8917, -1.0693],\n",
      "        [-2.0051, -0.0111],\n",
      "        [-0.1661,  0.7977],\n",
      "        [ 0.2525, -1.3193],\n",
      "        [ 0.6006,  0.7178],\n",
      "        [ 0.7385, -0.5919],\n",
      "        [-0.2418,  0.9406],\n",
      "        [ 0.4869,  0.5162],\n",
      "        [-0.5975, -0.9173],\n",
      "        [ 0.1413, -1.9736],\n",
      "        [ 0.0772, -0.4034],\n",
      "        [ 0.5221, -0.1828],\n",
      "        [-0.7151,  1.7487],\n",
      "        [-1.5330, -1.0936],\n",
      "        [-2.5156, -0.3262],\n",
      "        [ 1.3239,  0.0549],\n",
      "        [ 0.3226,  1.2499],\n",
      "        [-0.4955,  0.5000],\n",
      "        [-0.3813, -0.1533],\n",
      "        [ 0.4430,  0.1162],\n",
      "        [ 0.2219,  1.3095],\n",
      "        [ 1.3242,  0.2736],\n",
      "        [ 0.2745,  2.4056],\n",
      "        [-0.8704,  0.3698],\n",
      "        [-0.8759, -1.4798],\n",
      "        [-0.6227,  1.8313],\n",
      "        [-0.0377,  0.3481],\n",
      "        [ 0.2125, -0.3804],\n",
      "        [-1.2314,  1.3156],\n",
      "        [ 0.7387,  0.0743],\n",
      "        [ 0.2058, -0.1182],\n",
      "        [-0.5093,  0.5545],\n",
      "        [ 1.1105,  0.4454],\n",
      "        [-0.8479,  1.5645],\n",
      "        [-0.2629,  1.4281],\n",
      "        [ 1.1900, -0.1038],\n",
      "        [-1.1171, -0.6066],\n",
      "        [ 1.5920,  0.2502],\n",
      "        [ 1.2566, -0.1530],\n",
      "        [-2.3728,  0.5895],\n",
      "        [ 0.3811,  0.7682],\n",
      "        [-0.9129,  2.3005],\n",
      "        [-0.5684, -1.8463],\n",
      "        [-0.9556,  1.6447],\n",
      "        [ 0.8406,  1.7071],\n",
      "        [-1.8501,  0.0360],\n",
      "        [ 0.4929,  0.1796],\n",
      "        [ 0.0449,  0.9846],\n",
      "        [ 0.6658, -0.9080],\n",
      "        [ 0.6910, -1.1362],\n",
      "        [ 0.8468, -0.0496],\n",
      "        [ 2.2341,  2.1544],\n",
      "        [ 0.8308, -0.6951],\n",
      "        [-1.0357, -1.1417],\n",
      "        [-0.1956, -0.5786],\n",
      "        [-2.0870,  0.0268],\n",
      "        [ 0.4485,  0.8106],\n",
      "        [ 0.7533, -0.5974],\n",
      "        [-0.0993,  0.2416],\n",
      "        [-1.1680,  1.2859],\n",
      "        [-0.2051,  0.8660],\n",
      "        [-0.2494,  0.0436],\n",
      "        [-1.3683, -0.0722],\n",
      "        [ 0.8244,  0.8675],\n",
      "        [-1.2392, -0.4250],\n",
      "        [ 1.0190,  1.0513],\n",
      "        [-0.1848, -0.6775],\n",
      "        [-0.2446,  0.9721],\n",
      "        [-0.0339,  0.1783],\n",
      "        [-0.8794,  1.0240],\n",
      "        [ 0.6330,  1.6966],\n",
      "        [-0.9496, -0.6992],\n",
      "        [ 0.7247,  2.0276],\n",
      "        [-1.3348, -1.1560],\n",
      "        [-1.7890, -0.4782],\n",
      "        [-1.4178, -1.4553],\n",
      "        [-1.0363, -1.3950],\n",
      "        [ 1.2951,  0.6044],\n",
      "        [-0.4912, -0.7144],\n",
      "        [-1.0860,  0.4598],\n",
      "        [ 0.3144,  0.0812]])\n",
      "GRADIENT >>> None\n",
      "\n",
      "DATA >>> tensor([-0.3402,  0.5683,  0.9096, -0.0650, -0.9924,  1.7086, -0.5039,  1.3444,\n",
      "        -0.3882,  0.9107, -0.1112,  1.6990, -0.1424,  0.0954,  0.2827,  1.5819,\n",
      "         0.7076, -2.1028, -0.5856,  2.0042, -0.8685, -0.8749, -1.5514, -0.8083,\n",
      "        -2.0088,  1.0694,  1.5854, -1.8380, -0.7558, -0.0597,  1.1008, -0.3957,\n",
      "         2.6330,  0.2814, -0.6434,  0.2322,  1.2764, -0.0853, -0.9325, -0.1588,\n",
      "         0.3753,  1.0195,  1.5312,  1.6840, -1.6632, -1.4415, -0.4709,  0.7847,\n",
      "        -0.4622, -0.3616,  0.8919, -1.7369,  0.6415, -0.2861,  0.2158,  0.8287,\n",
      "         0.4909,  1.1094, -0.9257,  0.9872,  1.3234, -0.5521, -1.8246,  0.1994,\n",
      "        -0.7337,  1.6200, -0.8317, -0.1494,  0.0258, -0.3861,  1.0252, -1.2845,\n",
      "        -1.2638, -0.6382, -0.7946,  1.2496,  0.7119,  1.0370, -1.0400,  1.9675,\n",
      "         0.1735, -0.9655,  0.7589, -0.0169, -0.4446, -0.6751, -0.6434,  0.3136,\n",
      "         1.3441, -0.2144,  2.6338, -0.1705, -0.2087,  0.8999, -1.2635,  1.9225,\n",
      "         1.1525, -0.2266,  2.0315,  1.2544])\n",
      "GRADIENT >>> None\n",
      "\n",
      "DATA >>> tensor([[ 1.6345e+00,  1.1071e+00,  1.6175e+00, -5.1303e-01,  9.0417e-01,\n",
      "          1.6237e-01,  1.5075e-01, -4.5908e-01,  6.7003e-01, -3.7788e-01,\n",
      "          1.8479e+00, -1.3103e+00,  6.8848e-01, -2.1399e+00, -2.2385e-01,\n",
      "          3.6264e-01, -9.5864e-03, -2.5898e-01, -2.9625e-01,  9.4716e-01,\n",
      "         -4.6802e-01, -5.9796e-01, -5.9559e-01, -1.7629e+00, -9.4025e-01,\n",
      "         -5.3484e-01, -1.0659e+00, -6.3642e-02,  7.2199e-01, -1.5028e-01,\n",
      "         -3.0314e-01, -1.4393e+00,  5.3305e-01,  2.4758e+00, -5.2187e-01,\n",
      "          8.7095e-01, -1.2573e+00, -1.1178e+00,  8.1228e-01,  1.3048e+00,\n",
      "          8.3682e-01,  2.1736e-01, -3.9509e-01, -1.0522e+00,  8.2449e-01,\n",
      "         -9.2704e-01, -1.3210e+00, -9.4398e-01,  5.9786e-02,  4.1112e-01,\n",
      "         -4.3879e-01, -4.8249e-02, -5.9896e-01,  1.4693e+00, -1.3140e+00,\n",
      "          1.3272e+00,  4.8067e-02,  1.4354e-01,  2.2351e-01,  3.6099e-01,\n",
      "          2.7872e-01, -7.3338e-01, -2.4915e-01, -6.5756e-01, -1.9244e+00,\n",
      "         -1.0742e+00,  9.8060e-01,  1.8539e+00, -1.8269e-01,  1.2304e+00,\n",
      "          6.9214e-01, -5.3041e-01,  1.6732e+00, -6.9750e-01, -1.2455e+00,\n",
      "          1.4132e+00, -8.7111e-01, -1.3126e+00,  1.7360e+00,  6.8405e-01,\n",
      "          3.6511e-01,  1.6921e+00, -4.8006e-01,  5.0818e-02,  9.4996e-01,\n",
      "         -2.2968e-01,  3.3065e-01, -3.4457e-01,  1.1691e+00, -3.0217e-01,\n",
      "         -8.1849e-01,  1.9064e-01,  1.4381e+00,  2.1097e+00, -4.5131e-01,\n",
      "          3.5799e-01, -6.0937e-01, -1.4107e-01, -7.3400e-01, -2.6283e-01],\n",
      "        [-9.5130e-01,  1.0454e+00,  2.4101e-01, -2.4567e-03, -1.8441e-01,\n",
      "          1.0872e+00,  1.2604e+00,  4.2570e-01,  4.6081e-01, -1.0483e+00,\n",
      "         -2.4606e-01,  3.8133e-01, -4.0002e-02,  1.6765e+00,  5.6991e-01,\n",
      "         -9.5618e-01,  1.4878e-01,  6.1594e-01, -3.5935e-01,  2.0244e+00,\n",
      "         -2.3869e+00,  4.1535e-01,  2.9654e-02, -6.2877e-01, -2.3119e-01,\n",
      "         -1.1477e-01, -5.3654e-01,  9.5775e-01,  1.4848e-01,  1.0298e+00,\n",
      "          9.8703e-01,  1.6730e-01,  1.8956e-01, -9.7990e-01, -5.5774e-01,\n",
      "         -2.2387e-01, -3.5744e-02, -1.0809e+00, -4.3865e-02,  2.2957e-01,\n",
      "          2.6365e+00,  8.0642e-01,  9.3853e-01,  5.5475e-01, -6.4846e-01,\n",
      "         -1.3944e+00, -1.4478e-01, -1.0926e-01,  4.8890e-01, -1.4817e-01,\n",
      "         -1.1435e+00, -2.3890e-01,  1.0296e+00, -3.2707e-02, -2.0882e+00,\n",
      "         -1.5875e+00, -7.2006e-01,  3.0178e-01, -1.1749e+00,  1.6662e+00,\n",
      "         -3.0582e-01, -1.1814e+00,  1.9327e+00, -1.8523e-01, -2.5793e-01,\n",
      "          2.1005e-03, -1.3312e+00,  5.3565e-01,  1.0507e+00,  1.8475e-01,\n",
      "         -1.2938e+00, -2.5049e-01,  1.0118e+00, -8.7645e-01, -7.7317e-01,\n",
      "          1.9719e+00,  7.1812e-01,  5.6004e-01,  4.7722e-01,  1.9457e+00,\n",
      "         -6.2908e-01,  6.7837e-01, -7.7870e-01, -3.1391e-01, -1.0205e+00,\n",
      "         -5.6869e-01,  1.3978e+00, -6.9941e-01, -9.6242e-01, -9.1865e-01,\n",
      "          1.2021e+00,  5.2642e-01,  5.7863e-01, -1.7322e+00,  7.3789e-01,\n",
      "         -1.2827e+00, -1.1065e+00,  7.8624e-01,  1.4680e+00, -2.3316e+00]])\n",
      "GRADIENT >>> None\n",
      "\n",
      "DATA >>> tensor([ 1.4768, -0.0750])\n",
      "GRADIENT >>> None\n",
      "\n"
     ]
    }
   ],
   "source": [
    "# let's take a look at the gradients\n",
    "for p in net.parameters():\n",
    "    print('DATA >>>', p.data)\n",
    "    print('GRADIENT >>>', p.grad)\n",
    "    print()"
   ]
  },
  {
   "cell_type": "code",
   "execution_count": 45,
   "metadata": {},
   "outputs": [
    {
     "name": "stdout",
     "output_type": "stream",
     "text": [
      "tensor([[6.3190e-14, 1.0000e+00],\n",
      "        [1.9821e-01, 8.0179e-01],\n",
      "        [1.0409e-09, 1.0000e+00],\n",
      "        [1.3135e-02, 9.8686e-01],\n",
      "        [9.9286e-01, 7.1404e-03],\n",
      "        [3.7337e-14, 1.0000e+00],\n",
      "        [9.9963e-01, 3.7101e-04]], grad_fn=<SoftmaxBackward>)\n"
     ]
    }
   ],
   "source": [
    "X = Variable(torch.randn(7, num_features))\n",
    "out = net(X)\n",
    "print(out)"
   ]
  },
  {
   "cell_type": "code",
   "execution_count": 46,
   "metadata": {},
   "outputs": [],
   "source": [
    "# we need to give a tensor of gradients to .backward,\n",
    "# we give a dummy tensor\n",
    "out.backward(torch.randn(7, num_features))"
   ]
  },
  {
   "cell_type": "markdown",
   "metadata": {},
   "source": [
    "for details on `.backward()`, see http://pytorch.org/docs/master/autograd.html#torch.autograd.backward"
   ]
  },
  {
   "cell_type": "code",
   "execution_count": 47,
   "metadata": {},
   "outputs": [
    {
     "name": "stdout",
     "output_type": "stream",
     "text": [
      "DATA >>> tensor([[-0.0784, -1.2031],\n",
      "        [ 0.1525,  0.9879],\n",
      "        [ 0.6491,  0.3351],\n",
      "        [ 0.5113,  1.3033],\n",
      "        [ 0.0556, -0.5004],\n",
      "        [ 0.5291,  0.6932],\n",
      "        [ 2.1180,  1.0976],\n",
      "        [-0.4323, -0.0066],\n",
      "        [-0.2301,  0.9621],\n",
      "        [ 0.9803, -0.5567],\n",
      "        [ 1.2946, -1.4233],\n",
      "        [-0.3296, -0.2798],\n",
      "        [-0.9788,  1.1864],\n",
      "        [-1.7977,  1.8504],\n",
      "        [ 0.6607,  0.3893],\n",
      "        [ 0.4937, -0.8170],\n",
      "        [ 0.8377, -0.1868],\n",
      "        [ 0.5024,  1.3425],\n",
      "        [ 1.0199,  0.4054],\n",
      "        [ 0.8917, -1.0693],\n",
      "        [-2.0051, -0.0111],\n",
      "        [-0.1661,  0.7977],\n",
      "        [ 0.2525, -1.3193],\n",
      "        [ 0.6006,  0.7178],\n",
      "        [ 0.7385, -0.5919],\n",
      "        [-0.2418,  0.9406],\n",
      "        [ 0.4869,  0.5162],\n",
      "        [-0.5975, -0.9173],\n",
      "        [ 0.1413, -1.9736],\n",
      "        [ 0.0772, -0.4034],\n",
      "        [ 0.5221, -0.1828],\n",
      "        [-0.7151,  1.7487],\n",
      "        [-1.5330, -1.0936],\n",
      "        [-2.5156, -0.3262],\n",
      "        [ 1.3239,  0.0549],\n",
      "        [ 0.3226,  1.2499],\n",
      "        [-0.4955,  0.5000],\n",
      "        [-0.3813, -0.1533],\n",
      "        [ 0.4430,  0.1162],\n",
      "        [ 0.2219,  1.3095],\n",
      "        [ 1.3242,  0.2736],\n",
      "        [ 0.2745,  2.4056],\n",
      "        [-0.8704,  0.3698],\n",
      "        [-0.8759, -1.4798],\n",
      "        [-0.6227,  1.8313],\n",
      "        [-0.0377,  0.3481],\n",
      "        [ 0.2125, -0.3804],\n",
      "        [-1.2314,  1.3156],\n",
      "        [ 0.7387,  0.0743],\n",
      "        [ 0.2058, -0.1182],\n",
      "        [-0.5093,  0.5545],\n",
      "        [ 1.1105,  0.4454],\n",
      "        [-0.8479,  1.5645],\n",
      "        [-0.2629,  1.4281],\n",
      "        [ 1.1900, -0.1038],\n",
      "        [-1.1171, -0.6066],\n",
      "        [ 1.5920,  0.2502],\n",
      "        [ 1.2566, -0.1530],\n",
      "        [-2.3728,  0.5895],\n",
      "        [ 0.3811,  0.7682],\n",
      "        [-0.9129,  2.3005],\n",
      "        [-0.5684, -1.8463],\n",
      "        [-0.9556,  1.6447],\n",
      "        [ 0.8406,  1.7071],\n",
      "        [-1.8501,  0.0360],\n",
      "        [ 0.4929,  0.1796],\n",
      "        [ 0.0449,  0.9846],\n",
      "        [ 0.6658, -0.9080],\n",
      "        [ 0.6910, -1.1362],\n",
      "        [ 0.8468, -0.0496],\n",
      "        [ 2.2341,  2.1544],\n",
      "        [ 0.8308, -0.6951],\n",
      "        [-1.0357, -1.1417],\n",
      "        [-0.1956, -0.5786],\n",
      "        [-2.0870,  0.0268],\n",
      "        [ 0.4485,  0.8106],\n",
      "        [ 0.7533, -0.5974],\n",
      "        [-0.0993,  0.2416],\n",
      "        [-1.1680,  1.2859],\n",
      "        [-0.2051,  0.8660],\n",
      "        [-0.2494,  0.0436],\n",
      "        [-1.3683, -0.0722],\n",
      "        [ 0.8244,  0.8675],\n",
      "        [-1.2392, -0.4250],\n",
      "        [ 1.0190,  1.0513],\n",
      "        [-0.1848, -0.6775],\n",
      "        [-0.2446,  0.9721],\n",
      "        [-0.0339,  0.1783],\n",
      "        [-0.8794,  1.0240],\n",
      "        [ 0.6330,  1.6966],\n",
      "        [-0.9496, -0.6992],\n",
      "        [ 0.7247,  2.0276],\n",
      "        [-1.3348, -1.1560],\n",
      "        [-1.7890, -0.4782],\n",
      "        [-1.4178, -1.4553],\n",
      "        [-1.0363, -1.3950],\n",
      "        [ 1.2951,  0.6044],\n",
      "        [-0.4912, -0.7144],\n",
      "        [-1.0860,  0.4598],\n",
      "        [ 0.3144,  0.0812]])\n",
      "GRADIENT >>> tensor([[ 0.0625, -0.1141],\n",
      "        [ 0.0015, -0.0027],\n",
      "        [ 0.0333, -0.0608],\n",
      "        [-0.0123,  0.0225],\n",
      "        [ 0.0263, -0.0481],\n",
      "        [-0.0224,  0.0408],\n",
      "        [-0.0268,  0.0490],\n",
      "        [-0.0214,  0.0391],\n",
      "        [ 0.0051, -0.0092],\n",
      "        [ 0.0162, -0.0296],\n",
      "        [ 0.0506, -0.0924],\n",
      "        [-0.0409,  0.0747],\n",
      "        [ 0.0176, -0.0322],\n",
      "        [-0.0923,  0.1685],\n",
      "        [-0.0192,  0.0350],\n",
      "        [ 0.0319, -0.0582],\n",
      "        [-0.0038,  0.0070],\n",
      "        [-0.0212,  0.0386],\n",
      "        [ 0.0015, -0.0028],\n",
      "        [-0.0260,  0.0476],\n",
      "        [ 0.0464, -0.0847],\n",
      "        [-0.0245,  0.0447],\n",
      "        [-0.0151,  0.0276],\n",
      "        [-0.0274,  0.0501],\n",
      "        [-0.0171,  0.0313],\n",
      "        [-0.0102,  0.0185],\n",
      "        [-0.0128,  0.0234],\n",
      "        [-0.0247,  0.0451],\n",
      "        [ 0.0139, -0.0253],\n",
      "        [-0.0285,  0.0521],\n",
      "        [-0.0312,  0.0570],\n",
      "        [-0.0388,  0.0709],\n",
      "        [ 0.0083, -0.0152],\n",
      "        [ 0.0835, -0.1526],\n",
      "        [ 0.0009, -0.0016],\n",
      "        [ 0.0265, -0.0483],\n",
      "        [-0.0295,  0.0539],\n",
      "        [-0.0009,  0.0016],\n",
      "        [ 0.0207, -0.0378],\n",
      "        [ 0.0260, -0.0475],\n",
      "        [-0.0435,  0.0794],\n",
      "        [-0.0142,  0.0260],\n",
      "        [-0.0322,  0.0589],\n",
      "        [-0.0389,  0.0709],\n",
      "        [ 0.0356, -0.0650],\n",
      "        [ 0.0113, -0.0206],\n",
      "        [-0.0284,  0.0519],\n",
      "        [-0.0202,  0.0368],\n",
      "        [-0.0104,  0.0189],\n",
      "        [ 0.0135, -0.0247],\n",
      "        [ 0.0170, -0.0311],\n",
      "        [ 0.0046, -0.0084],\n",
      "        [-0.0394,  0.0719],\n",
      "        [ 0.0363, -0.0663],\n",
      "        [ 0.0187, -0.0342],\n",
      "        [ 0.0705, -0.1287],\n",
      "        [ 0.0186, -0.0339],\n",
      "        [-0.0038,  0.0070],\n",
      "        [ 0.0338, -0.0617],\n",
      "        [-0.0316,  0.0576],\n",
      "        [ 0.0141, -0.0258],\n",
      "        [ 0.0108, -0.0198],\n",
      "        [-0.0527,  0.0963],\n",
      "        [-0.0114,  0.0209],\n",
      "        [-0.0403,  0.0736],\n",
      "        [-0.0260,  0.0475],\n",
      "        [ 0.0559, -0.1021],\n",
      "        [ 0.0319, -0.0582],\n",
      "        [-0.0298,  0.0544],\n",
      "        [ 0.0253, -0.0462],\n",
      "        [ 0.0480, -0.0877],\n",
      "        [-0.0068,  0.0124],\n",
      "        [ 0.0160, -0.0292],\n",
      "        [ 0.0043, -0.0079],\n",
      "        [-0.0114,  0.0208],\n",
      "        [-0.0135,  0.0247],\n",
      "        [-0.0384,  0.0702],\n",
      "        [-0.0453,  0.0827],\n",
      "        [ 0.0304, -0.0556],\n",
      "        [-0.0305,  0.0557],\n",
      "        [ 0.0240, -0.0439],\n",
      "        [ 0.0245, -0.0448],\n",
      "        [ 0.0072, -0.0132],\n",
      "        [ 0.0088, -0.0161],\n",
      "        [ 0.0476, -0.0870],\n",
      "        [ 0.0082, -0.0150],\n",
      "        [-0.0258,  0.0471],\n",
      "        [ 0.0086, -0.0157],\n",
      "        [ 0.0515, -0.0941],\n",
      "        [ 0.0149, -0.0272],\n",
      "        [-0.0489,  0.0892],\n",
      "        [-0.0081,  0.0148],\n",
      "        [ 0.0208, -0.0379],\n",
      "        [ 0.0929, -0.1696],\n",
      "        [-0.0288,  0.0525],\n",
      "        [ 0.0397, -0.0724],\n",
      "        [ 0.0120, -0.0219],\n",
      "        [-0.0224,  0.0409],\n",
      "        [-0.0532,  0.0972],\n",
      "        [ 0.0500, -0.0913]])\n",
      "\n",
      "DATA >>> tensor([-0.3402,  0.5683,  0.9096, -0.0650, -0.9924,  1.7086, -0.5039,  1.3444,\n",
      "        -0.3882,  0.9107, -0.1112,  1.6990, -0.1424,  0.0954,  0.2827,  1.5819,\n",
      "         0.7076, -2.1028, -0.5856,  2.0042, -0.8685, -0.8749, -1.5514, -0.8083,\n",
      "        -2.0088,  1.0694,  1.5854, -1.8380, -0.7558, -0.0597,  1.1008, -0.3957,\n",
      "         2.6330,  0.2814, -0.6434,  0.2322,  1.2764, -0.0853, -0.9325, -0.1588,\n",
      "         0.3753,  1.0195,  1.5312,  1.6840, -1.6632, -1.4415, -0.4709,  0.7847,\n",
      "        -0.4622, -0.3616,  0.8919, -1.7369,  0.6415, -0.2861,  0.2158,  0.8287,\n",
      "         0.4909,  1.1094, -0.9257,  0.9872,  1.3234, -0.5521, -1.8246,  0.1994,\n",
      "        -0.7337,  1.6200, -0.8317, -0.1494,  0.0258, -0.3861,  1.0252, -1.2845,\n",
      "        -1.2638, -0.6382, -0.7946,  1.2496,  0.7119,  1.0370, -1.0400,  1.9675,\n",
      "         0.1735, -0.9655,  0.7589, -0.0169, -0.4446, -0.6751, -0.6434,  0.3136,\n",
      "         1.3441, -0.2144,  2.6338, -0.1705, -0.2087,  0.8999, -1.2635,  1.9225,\n",
      "         1.1525, -0.2266,  2.0315,  1.2544])\n",
      "GRADIENT >>> tensor([ 0.0838,  0.0020,  0.0446, -0.0166,  0.0353, -0.0300, -0.0360, -0.0287,\n",
      "         0.0068,  0.0217,  0.0679, -0.0549,  0.0236, -0.1238, -0.0257,  0.0428,\n",
      "        -0.0051, -0.0284,  0.0020, -0.0349,  0.0622, -0.0329, -0.0203, -0.0368,\n",
      "        -0.0230, -0.0136, -0.0172, -0.0331,  0.0186, -0.0383, -0.0418, -0.0521,\n",
      "         0.0111,  0.1121,  0.0012,  0.0355, -0.0396, -0.0012,  0.0278,  0.0349,\n",
      "        -0.0584, -0.0191, -0.0432, -0.0521,  0.0478,  0.0152, -0.0381, -0.0271,\n",
      "        -0.0139,  0.0181,  0.0229,  0.0062, -0.0528,  0.0487,  0.0251,  0.0945,\n",
      "         0.0249, -0.0051,  0.0453, -0.0423,  0.0190,  0.0145, -0.0707, -0.0153,\n",
      "        -0.0540, -0.0349,  0.0750,  0.0427, -0.0400,  0.0339,  0.0644, -0.0091,\n",
      "         0.0214,  0.0058, -0.0153, -0.0181, -0.0515, -0.0607,  0.0408, -0.0409,\n",
      "         0.0322,  0.0329,  0.0097,  0.0118,  0.0639,  0.0110, -0.0346,  0.0115,\n",
      "         0.0691,  0.0200, -0.0655, -0.0109,  0.0279,  0.1246, -0.0386,  0.0532,\n",
      "         0.0161, -0.0301, -0.0714,  0.0671])\n",
      "\n",
      "DATA >>> tensor([[ 1.6345e+00,  1.1071e+00,  1.6175e+00, -5.1303e-01,  9.0417e-01,\n",
      "          1.6237e-01,  1.5075e-01, -4.5908e-01,  6.7003e-01, -3.7788e-01,\n",
      "          1.8479e+00, -1.3103e+00,  6.8848e-01, -2.1399e+00, -2.2385e-01,\n",
      "          3.6264e-01, -9.5864e-03, -2.5898e-01, -2.9625e-01,  9.4716e-01,\n",
      "         -4.6802e-01, -5.9796e-01, -5.9559e-01, -1.7629e+00, -9.4025e-01,\n",
      "         -5.3484e-01, -1.0659e+00, -6.3642e-02,  7.2199e-01, -1.5028e-01,\n",
      "         -3.0314e-01, -1.4393e+00,  5.3305e-01,  2.4758e+00, -5.2187e-01,\n",
      "          8.7095e-01, -1.2573e+00, -1.1178e+00,  8.1228e-01,  1.3048e+00,\n",
      "          8.3682e-01,  2.1736e-01, -3.9509e-01, -1.0522e+00,  8.2449e-01,\n",
      "         -9.2704e-01, -1.3210e+00, -9.4398e-01,  5.9786e-02,  4.1112e-01,\n",
      "         -4.3879e-01, -4.8249e-02, -5.9896e-01,  1.4693e+00, -1.3140e+00,\n",
      "          1.3272e+00,  4.8067e-02,  1.4354e-01,  2.2351e-01,  3.6099e-01,\n",
      "          2.7872e-01, -7.3338e-01, -2.4915e-01, -6.5756e-01, -1.9244e+00,\n",
      "         -1.0742e+00,  9.8060e-01,  1.8539e+00, -1.8269e-01,  1.2304e+00,\n",
      "          6.9214e-01, -5.3041e-01,  1.6732e+00, -6.9750e-01, -1.2455e+00,\n",
      "          1.4132e+00, -8.7111e-01, -1.3126e+00,  1.7360e+00,  6.8405e-01,\n",
      "          3.6511e-01,  1.6921e+00, -4.8006e-01,  5.0818e-02,  9.4996e-01,\n",
      "         -2.2968e-01,  3.3065e-01, -3.4457e-01,  1.1691e+00, -3.0217e-01,\n",
      "         -8.1849e-01,  1.9064e-01,  1.4381e+00,  2.1097e+00, -4.5131e-01,\n",
      "          3.5799e-01, -6.0937e-01, -1.4107e-01, -7.3400e-01, -2.6283e-01],\n",
      "        [-9.5130e-01,  1.0454e+00,  2.4101e-01, -2.4567e-03, -1.8441e-01,\n",
      "          1.0872e+00,  1.2604e+00,  4.2570e-01,  4.6081e-01, -1.0483e+00,\n",
      "         -2.4606e-01,  3.8133e-01, -4.0002e-02,  1.6765e+00,  5.6991e-01,\n",
      "         -9.5618e-01,  1.4878e-01,  6.1594e-01, -3.5935e-01,  2.0244e+00,\n",
      "         -2.3869e+00,  4.1535e-01,  2.9654e-02, -6.2877e-01, -2.3119e-01,\n",
      "         -1.1477e-01, -5.3654e-01,  9.5775e-01,  1.4848e-01,  1.0298e+00,\n",
      "          9.8703e-01,  1.6730e-01,  1.8956e-01, -9.7990e-01, -5.5774e-01,\n",
      "         -2.2387e-01, -3.5744e-02, -1.0809e+00, -4.3865e-02,  2.2957e-01,\n",
      "          2.6365e+00,  8.0642e-01,  9.3853e-01,  5.5475e-01, -6.4846e-01,\n",
      "         -1.3944e+00, -1.4478e-01, -1.0926e-01,  4.8890e-01, -1.4817e-01,\n",
      "         -1.1435e+00, -2.3890e-01,  1.0296e+00, -3.2707e-02, -2.0882e+00,\n",
      "         -1.5875e+00, -7.2006e-01,  3.0178e-01, -1.1749e+00,  1.6662e+00,\n",
      "         -3.0582e-01, -1.1814e+00,  1.9327e+00, -1.8523e-01, -2.5793e-01,\n",
      "          2.1005e-03, -1.3312e+00,  5.3565e-01,  1.0507e+00,  1.8475e-01,\n",
      "         -1.2938e+00, -2.5049e-01,  1.0118e+00, -8.7645e-01, -7.7317e-01,\n",
      "          1.9719e+00,  7.1812e-01,  5.6004e-01,  4.7722e-01,  1.9457e+00,\n",
      "         -6.2908e-01,  6.7837e-01, -7.7870e-01, -3.1391e-01, -1.0205e+00,\n",
      "         -5.6869e-01,  1.3978e+00, -6.9941e-01, -9.6242e-01, -9.1865e-01,\n",
      "          1.2021e+00,  5.2642e-01,  5.7863e-01, -1.7322e+00,  7.3789e-01,\n",
      "         -1.2827e+00, -1.1065e+00,  7.8624e-01,  1.4680e+00, -2.3316e+00]])\n",
      "GRADIENT >>> tensor([[ 4.0184e-02, -2.1496e-02,  3.0395e-02, -4.7281e-02, -8.7445e-03,\n",
      "          3.7595e-02, -1.3587e-02,  3.3431e-02, -6.0623e-02,  7.7806e-02,\n",
      "          9.0528e-02,  5.9474e-02, -8.0656e-02, -1.2205e-01,  7.9536e-03,\n",
      "          9.9297e-02,  5.1444e-02, -1.1530e-01, -1.2226e-02,  1.3375e-01,\n",
      "         -7.6150e-02, -6.7601e-02,  1.4040e-02, -4.3378e-02, -2.1153e-02,\n",
      "         -1.2695e-02,  4.0389e-02, -3.3548e-02,  6.6036e-02,  1.7739e-02,\n",
      "          5.6389e-02, -1.0732e-01,  9.6591e-02, -3.7291e-02,  8.7202e-03,\n",
      "         -3.9846e-02,  7.3337e-03, -5.2191e-03, -2.4656e-02, -5.7593e-02,\n",
      "          3.2107e-02, -6.6503e-02,  1.2283e-02,  9.8755e-02, -1.4983e-01,\n",
      "         -6.3019e-02,  6.6589e-03, -6.2406e-02, -4.0831e-04, -1.5286e-03,\n",
      "         -7.8715e-03, -4.9130e-02, -6.8763e-02, -7.8677e-02,  4.0350e-02,\n",
      "          2.6642e-02,  4.3362e-02,  7.3110e-02, -1.1341e-01,  7.3113e-03,\n",
      "         -8.0717e-02,  4.9864e-02, -1.5487e-01, -4.8571e-02, -7.0108e-02,\n",
      "          5.6516e-02, -6.9349e-02,  5.1335e-02,  6.7702e-02,  1.0143e-02,\n",
      "         -7.8526e-03,  9.1229e-03, -1.5621e-02,  1.1947e-04, -7.7407e-02,\n",
      "          1.5579e-02,  6.7670e-02,  2.0559e-02, -1.1873e-01,  2.0609e-02,\n",
      "         -2.3293e-03, -6.1200e-02,  6.2421e-03, -1.1745e-02, -3.6192e-02,\n",
      "          3.5516e-03, -6.9689e-02,  1.4779e-03, -2.2884e-02, -6.6546e-02,\n",
      "          9.3310e-02, -7.7516e-02,  1.1993e-02,  7.0359e-03, -1.1004e-02,\n",
      "          9.8867e-02,  4.2003e-02,  1.2312e-02,  1.9316e-02,  4.4693e-02],\n",
      "        [-4.0184e-02,  2.1496e-02, -3.0395e-02,  4.7282e-02,  8.7445e-03,\n",
      "         -3.7595e-02,  1.3587e-02, -3.3431e-02,  6.0623e-02, -7.7806e-02,\n",
      "         -9.0528e-02, -5.9474e-02,  8.0656e-02,  1.2205e-01, -7.9536e-03,\n",
      "         -9.9297e-02, -5.1444e-02,  1.1530e-01,  1.2227e-02, -1.3375e-01,\n",
      "          7.6150e-02,  6.7601e-02, -1.4040e-02,  4.3378e-02,  2.1153e-02,\n",
      "          1.2695e-02, -4.0389e-02,  3.3548e-02, -6.6036e-02, -1.7739e-02,\n",
      "         -5.6389e-02,  1.0732e-01, -9.6591e-02,  3.7291e-02, -8.7201e-03,\n",
      "          3.9847e-02, -7.3337e-03,  5.2190e-03,  2.4656e-02,  5.7593e-02,\n",
      "         -3.2107e-02,  6.6503e-02, -1.2284e-02, -9.8755e-02,  1.4983e-01,\n",
      "          6.3019e-02, -6.6589e-03,  6.2406e-02,  4.0837e-04,  1.5286e-03,\n",
      "          7.8714e-03,  4.9130e-02,  6.8763e-02,  7.8677e-02, -4.0350e-02,\n",
      "         -2.6642e-02, -4.3361e-02, -7.3110e-02,  1.1341e-01, -7.3113e-03,\n",
      "          8.0717e-02, -4.9864e-02,  1.5487e-01,  4.8571e-02,  7.0108e-02,\n",
      "         -5.6516e-02,  6.9349e-02, -5.1335e-02, -6.7702e-02, -1.0143e-02,\n",
      "          7.8528e-03, -9.1228e-03,  1.5621e-02, -1.1950e-04,  7.7407e-02,\n",
      "         -1.5579e-02, -6.7670e-02, -2.0559e-02,  1.1873e-01, -2.0609e-02,\n",
      "          2.3293e-03,  6.1200e-02, -6.2420e-03,  1.1745e-02,  3.6192e-02,\n",
      "         -3.5516e-03,  6.9689e-02, -1.4779e-03,  2.2884e-02,  6.6547e-02,\n",
      "         -9.3311e-02,  7.7516e-02, -1.1993e-02, -7.0361e-03,  1.1003e-02,\n",
      "         -9.8867e-02, -4.2003e-02, -1.2312e-02, -1.9316e-02, -4.4693e-02]])\n",
      "\n",
      "DATA >>> tensor([ 1.4768, -0.0750])\n",
      "GRADIENT >>> tensor([ 0.0324, -0.0324])\n",
      "\n"
     ]
    }
   ],
   "source": [
    "# let's take a look at the gradients\n",
    "for p in net.parameters():\n",
    "    print('DATA >>>', p.data)\n",
    "    print('GRADIENT >>>', p.grad)\n",
    "    print()"
   ]
  },
  {
   "cell_type": "code",
   "execution_count": 48,
   "metadata": {},
   "outputs": [
    {
     "name": "stdout",
     "output_type": "stream",
     "text": [
      "DATA >>> tensor([[-0.0784, -1.2031],\n",
      "        [ 0.1525,  0.9879],\n",
      "        [ 0.6491,  0.3351],\n",
      "        [ 0.5113,  1.3033],\n",
      "        [ 0.0556, -0.5004],\n",
      "        [ 0.5291,  0.6932],\n",
      "        [ 2.1180,  1.0976],\n",
      "        [-0.4323, -0.0066],\n",
      "        [-0.2301,  0.9621],\n",
      "        [ 0.9803, -0.5567],\n",
      "        [ 1.2946, -1.4233],\n",
      "        [-0.3296, -0.2798],\n",
      "        [-0.9788,  1.1864],\n",
      "        [-1.7977,  1.8504],\n",
      "        [ 0.6607,  0.3893],\n",
      "        [ 0.4937, -0.8170],\n",
      "        [ 0.8377, -0.1868],\n",
      "        [ 0.5024,  1.3425],\n",
      "        [ 1.0199,  0.4054],\n",
      "        [ 0.8917, -1.0693],\n",
      "        [-2.0051, -0.0111],\n",
      "        [-0.1661,  0.7977],\n",
      "        [ 0.2525, -1.3193],\n",
      "        [ 0.6006,  0.7178],\n",
      "        [ 0.7385, -0.5919],\n",
      "        [-0.2418,  0.9406],\n",
      "        [ 0.4869,  0.5162],\n",
      "        [-0.5975, -0.9173],\n",
      "        [ 0.1413, -1.9736],\n",
      "        [ 0.0772, -0.4034],\n",
      "        [ 0.5221, -0.1828],\n",
      "        [-0.7151,  1.7487],\n",
      "        [-1.5330, -1.0936],\n",
      "        [-2.5156, -0.3262],\n",
      "        [ 1.3239,  0.0549],\n",
      "        [ 0.3226,  1.2499],\n",
      "        [-0.4955,  0.5000],\n",
      "        [-0.3813, -0.1533],\n",
      "        [ 0.4430,  0.1162],\n",
      "        [ 0.2219,  1.3095],\n",
      "        [ 1.3242,  0.2736],\n",
      "        [ 0.2745,  2.4056],\n",
      "        [-0.8704,  0.3698],\n",
      "        [-0.8759, -1.4798],\n",
      "        [-0.6227,  1.8313],\n",
      "        [-0.0377,  0.3481],\n",
      "        [ 0.2125, -0.3804],\n",
      "        [-1.2314,  1.3156],\n",
      "        [ 0.7387,  0.0743],\n",
      "        [ 0.2058, -0.1182],\n",
      "        [-0.5093,  0.5545],\n",
      "        [ 1.1105,  0.4454],\n",
      "        [-0.8479,  1.5645],\n",
      "        [-0.2629,  1.4281],\n",
      "        [ 1.1900, -0.1038],\n",
      "        [-1.1171, -0.6066],\n",
      "        [ 1.5920,  0.2502],\n",
      "        [ 1.2566, -0.1530],\n",
      "        [-2.3728,  0.5895],\n",
      "        [ 0.3811,  0.7682],\n",
      "        [-0.9129,  2.3005],\n",
      "        [-0.5684, -1.8463],\n",
      "        [-0.9556,  1.6447],\n",
      "        [ 0.8406,  1.7071],\n",
      "        [-1.8501,  0.0360],\n",
      "        [ 0.4929,  0.1796],\n",
      "        [ 0.0449,  0.9846],\n",
      "        [ 0.6658, -0.9080],\n",
      "        [ 0.6910, -1.1362],\n",
      "        [ 0.8468, -0.0496],\n",
      "        [ 2.2341,  2.1544],\n",
      "        [ 0.8308, -0.6951],\n",
      "        [-1.0357, -1.1417],\n",
      "        [-0.1956, -0.5786],\n",
      "        [-2.0870,  0.0268],\n",
      "        [ 0.4485,  0.8106],\n",
      "        [ 0.7533, -0.5974],\n",
      "        [-0.0993,  0.2416],\n",
      "        [-1.1680,  1.2859],\n",
      "        [-0.2051,  0.8660],\n",
      "        [-0.2494,  0.0436],\n",
      "        [-1.3683, -0.0722],\n",
      "        [ 0.8244,  0.8675],\n",
      "        [-1.2392, -0.4250],\n",
      "        [ 1.0190,  1.0513],\n",
      "        [-0.1848, -0.6775],\n",
      "        [-0.2446,  0.9721],\n",
      "        [-0.0339,  0.1783],\n",
      "        [-0.8794,  1.0240],\n",
      "        [ 0.6330,  1.6966],\n",
      "        [-0.9496, -0.6992],\n",
      "        [ 0.7247,  2.0276],\n",
      "        [-1.3348, -1.1560],\n",
      "        [-1.7890, -0.4782],\n",
      "        [-1.4178, -1.4553],\n",
      "        [-1.0363, -1.3950],\n",
      "        [ 1.2951,  0.6044],\n",
      "        [-0.4912, -0.7144],\n",
      "        [-1.0860,  0.4598],\n",
      "        [ 0.3144,  0.0812]])\n",
      "GRADIENT >>> tensor([[0., 0.],\n",
      "        [0., 0.],\n",
      "        [0., 0.],\n",
      "        [0., 0.],\n",
      "        [0., 0.],\n",
      "        [0., 0.],\n",
      "        [0., 0.],\n",
      "        [0., 0.],\n",
      "        [0., 0.],\n",
      "        [0., 0.],\n",
      "        [0., 0.],\n",
      "        [0., 0.],\n",
      "        [0., 0.],\n",
      "        [0., 0.],\n",
      "        [0., 0.],\n",
      "        [0., 0.],\n",
      "        [0., 0.],\n",
      "        [0., 0.],\n",
      "        [0., 0.],\n",
      "        [0., 0.],\n",
      "        [0., 0.],\n",
      "        [0., 0.],\n",
      "        [0., 0.],\n",
      "        [0., 0.],\n",
      "        [0., 0.],\n",
      "        [0., 0.],\n",
      "        [0., 0.],\n",
      "        [0., 0.],\n",
      "        [0., 0.],\n",
      "        [0., 0.],\n",
      "        [0., 0.],\n",
      "        [0., 0.],\n",
      "        [0., 0.],\n",
      "        [0., 0.],\n",
      "        [0., 0.],\n",
      "        [0., 0.],\n",
      "        [0., 0.],\n",
      "        [0., 0.],\n",
      "        [0., 0.],\n",
      "        [0., 0.],\n",
      "        [0., 0.],\n",
      "        [0., 0.],\n",
      "        [0., 0.],\n",
      "        [0., 0.],\n",
      "        [0., 0.],\n",
      "        [0., 0.],\n",
      "        [0., 0.],\n",
      "        [0., 0.],\n",
      "        [0., 0.],\n",
      "        [0., 0.],\n",
      "        [0., 0.],\n",
      "        [0., 0.],\n",
      "        [0., 0.],\n",
      "        [0., 0.],\n",
      "        [0., 0.],\n",
      "        [0., 0.],\n",
      "        [0., 0.],\n",
      "        [0., 0.],\n",
      "        [0., 0.],\n",
      "        [0., 0.],\n",
      "        [0., 0.],\n",
      "        [0., 0.],\n",
      "        [0., 0.],\n",
      "        [0., 0.],\n",
      "        [0., 0.],\n",
      "        [0., 0.],\n",
      "        [0., 0.],\n",
      "        [0., 0.],\n",
      "        [0., 0.],\n",
      "        [0., 0.],\n",
      "        [0., 0.],\n",
      "        [0., 0.],\n",
      "        [0., 0.],\n",
      "        [0., 0.],\n",
      "        [0., 0.],\n",
      "        [0., 0.],\n",
      "        [0., 0.],\n",
      "        [0., 0.],\n",
      "        [0., 0.],\n",
      "        [0., 0.],\n",
      "        [0., 0.],\n",
      "        [0., 0.],\n",
      "        [0., 0.],\n",
      "        [0., 0.],\n",
      "        [0., 0.],\n",
      "        [0., 0.],\n",
      "        [0., 0.],\n",
      "        [0., 0.],\n",
      "        [0., 0.],\n",
      "        [0., 0.],\n",
      "        [0., 0.],\n",
      "        [0., 0.],\n",
      "        [0., 0.],\n",
      "        [0., 0.],\n",
      "        [0., 0.],\n",
      "        [0., 0.],\n",
      "        [0., 0.],\n",
      "        [0., 0.],\n",
      "        [0., 0.],\n",
      "        [0., 0.]])\n",
      "\n",
      "DATA >>> tensor([-0.3402,  0.5683,  0.9096, -0.0650, -0.9924,  1.7086, -0.5039,  1.3444,\n",
      "        -0.3882,  0.9107, -0.1112,  1.6990, -0.1424,  0.0954,  0.2827,  1.5819,\n",
      "         0.7076, -2.1028, -0.5856,  2.0042, -0.8685, -0.8749, -1.5514, -0.8083,\n",
      "        -2.0088,  1.0694,  1.5854, -1.8380, -0.7558, -0.0597,  1.1008, -0.3957,\n",
      "         2.6330,  0.2814, -0.6434,  0.2322,  1.2764, -0.0853, -0.9325, -0.1588,\n",
      "         0.3753,  1.0195,  1.5312,  1.6840, -1.6632, -1.4415, -0.4709,  0.7847,\n",
      "        -0.4622, -0.3616,  0.8919, -1.7369,  0.6415, -0.2861,  0.2158,  0.8287,\n",
      "         0.4909,  1.1094, -0.9257,  0.9872,  1.3234, -0.5521, -1.8246,  0.1994,\n",
      "        -0.7337,  1.6200, -0.8317, -0.1494,  0.0258, -0.3861,  1.0252, -1.2845,\n",
      "        -1.2638, -0.6382, -0.7946,  1.2496,  0.7119,  1.0370, -1.0400,  1.9675,\n",
      "         0.1735, -0.9655,  0.7589, -0.0169, -0.4446, -0.6751, -0.6434,  0.3136,\n",
      "         1.3441, -0.2144,  2.6338, -0.1705, -0.2087,  0.8999, -1.2635,  1.9225,\n",
      "         1.1525, -0.2266,  2.0315,  1.2544])\n",
      "GRADIENT >>> tensor([0., 0., 0., 0., 0., 0., 0., 0., 0., 0., 0., 0., 0., 0., 0., 0., 0., 0., 0., 0., 0., 0., 0., 0.,\n",
      "        0., 0., 0., 0., 0., 0., 0., 0., 0., 0., 0., 0., 0., 0., 0., 0., 0., 0., 0., 0., 0., 0., 0., 0.,\n",
      "        0., 0., 0., 0., 0., 0., 0., 0., 0., 0., 0., 0., 0., 0., 0., 0., 0., 0., 0., 0., 0., 0., 0., 0.,\n",
      "        0., 0., 0., 0., 0., 0., 0., 0., 0., 0., 0., 0., 0., 0., 0., 0., 0., 0., 0., 0., 0., 0., 0., 0.,\n",
      "        0., 0., 0., 0.])\n",
      "\n",
      "DATA >>> tensor([[ 1.6345e+00,  1.1071e+00,  1.6175e+00, -5.1303e-01,  9.0417e-01,\n",
      "          1.6237e-01,  1.5075e-01, -4.5908e-01,  6.7003e-01, -3.7788e-01,\n",
      "          1.8479e+00, -1.3103e+00,  6.8848e-01, -2.1399e+00, -2.2385e-01,\n",
      "          3.6264e-01, -9.5864e-03, -2.5898e-01, -2.9625e-01,  9.4716e-01,\n",
      "         -4.6802e-01, -5.9796e-01, -5.9559e-01, -1.7629e+00, -9.4025e-01,\n",
      "         -5.3484e-01, -1.0659e+00, -6.3642e-02,  7.2199e-01, -1.5028e-01,\n",
      "         -3.0314e-01, -1.4393e+00,  5.3305e-01,  2.4758e+00, -5.2187e-01,\n",
      "          8.7095e-01, -1.2573e+00, -1.1178e+00,  8.1228e-01,  1.3048e+00,\n",
      "          8.3682e-01,  2.1736e-01, -3.9509e-01, -1.0522e+00,  8.2449e-01,\n",
      "         -9.2704e-01, -1.3210e+00, -9.4398e-01,  5.9786e-02,  4.1112e-01,\n",
      "         -4.3879e-01, -4.8249e-02, -5.9896e-01,  1.4693e+00, -1.3140e+00,\n",
      "          1.3272e+00,  4.8067e-02,  1.4354e-01,  2.2351e-01,  3.6099e-01,\n",
      "          2.7872e-01, -7.3338e-01, -2.4915e-01, -6.5756e-01, -1.9244e+00,\n",
      "         -1.0742e+00,  9.8060e-01,  1.8539e+00, -1.8269e-01,  1.2304e+00,\n",
      "          6.9214e-01, -5.3041e-01,  1.6732e+00, -6.9750e-01, -1.2455e+00,\n",
      "          1.4132e+00, -8.7111e-01, -1.3126e+00,  1.7360e+00,  6.8405e-01,\n",
      "          3.6511e-01,  1.6921e+00, -4.8006e-01,  5.0818e-02,  9.4996e-01,\n",
      "         -2.2968e-01,  3.3065e-01, -3.4457e-01,  1.1691e+00, -3.0217e-01,\n",
      "         -8.1849e-01,  1.9064e-01,  1.4381e+00,  2.1097e+00, -4.5131e-01,\n",
      "          3.5799e-01, -6.0937e-01, -1.4107e-01, -7.3400e-01, -2.6283e-01],\n",
      "        [-9.5130e-01,  1.0454e+00,  2.4101e-01, -2.4567e-03, -1.8441e-01,\n",
      "          1.0872e+00,  1.2604e+00,  4.2570e-01,  4.6081e-01, -1.0483e+00,\n",
      "         -2.4606e-01,  3.8133e-01, -4.0002e-02,  1.6765e+00,  5.6991e-01,\n",
      "         -9.5618e-01,  1.4878e-01,  6.1594e-01, -3.5935e-01,  2.0244e+00,\n",
      "         -2.3869e+00,  4.1535e-01,  2.9654e-02, -6.2877e-01, -2.3119e-01,\n",
      "         -1.1477e-01, -5.3654e-01,  9.5775e-01,  1.4848e-01,  1.0298e+00,\n",
      "          9.8703e-01,  1.6730e-01,  1.8956e-01, -9.7990e-01, -5.5774e-01,\n",
      "         -2.2387e-01, -3.5744e-02, -1.0809e+00, -4.3865e-02,  2.2957e-01,\n",
      "          2.6365e+00,  8.0642e-01,  9.3853e-01,  5.5475e-01, -6.4846e-01,\n",
      "         -1.3944e+00, -1.4478e-01, -1.0926e-01,  4.8890e-01, -1.4817e-01,\n",
      "         -1.1435e+00, -2.3890e-01,  1.0296e+00, -3.2707e-02, -2.0882e+00,\n",
      "         -1.5875e+00, -7.2006e-01,  3.0178e-01, -1.1749e+00,  1.6662e+00,\n",
      "         -3.0582e-01, -1.1814e+00,  1.9327e+00, -1.8523e-01, -2.5793e-01,\n",
      "          2.1005e-03, -1.3312e+00,  5.3565e-01,  1.0507e+00,  1.8475e-01,\n",
      "         -1.2938e+00, -2.5049e-01,  1.0118e+00, -8.7645e-01, -7.7317e-01,\n",
      "          1.9719e+00,  7.1812e-01,  5.6004e-01,  4.7722e-01,  1.9457e+00,\n",
      "         -6.2908e-01,  6.7837e-01, -7.7870e-01, -3.1391e-01, -1.0205e+00,\n",
      "         -5.6869e-01,  1.3978e+00, -6.9941e-01, -9.6242e-01, -9.1865e-01,\n",
      "          1.2021e+00,  5.2642e-01,  5.7863e-01, -1.7322e+00,  7.3789e-01,\n",
      "         -1.2827e+00, -1.1065e+00,  7.8624e-01,  1.4680e+00, -2.3316e+00]])\n",
      "GRADIENT >>> tensor([[0., 0., 0., 0., 0., 0., 0., 0., 0., 0., 0., 0., 0., 0., 0., 0., 0., 0., 0., 0., 0., 0., 0., 0.,\n",
      "         0., 0., 0., 0., 0., 0., 0., 0., 0., 0., 0., 0., 0., 0., 0., 0., 0., 0., 0., 0., 0., 0., 0., 0.,\n",
      "         0., 0., 0., 0., 0., 0., 0., 0., 0., 0., 0., 0., 0., 0., 0., 0., 0., 0., 0., 0., 0., 0., 0., 0.,\n",
      "         0., 0., 0., 0., 0., 0., 0., 0., 0., 0., 0., 0., 0., 0., 0., 0., 0., 0., 0., 0., 0., 0., 0., 0.,\n",
      "         0., 0., 0., 0.],\n",
      "        [0., 0., 0., 0., 0., 0., 0., 0., 0., 0., 0., 0., 0., 0., 0., 0., 0., 0., 0., 0., 0., 0., 0., 0.,\n",
      "         0., 0., 0., 0., 0., 0., 0., 0., 0., 0., 0., 0., 0., 0., 0., 0., 0., 0., 0., 0., 0., 0., 0., 0.,\n",
      "         0., 0., 0., 0., 0., 0., 0., 0., 0., 0., 0., 0., 0., 0., 0., 0., 0., 0., 0., 0., 0., 0., 0., 0.,\n",
      "         0., 0., 0., 0., 0., 0., 0., 0., 0., 0., 0., 0., 0., 0., 0., 0., 0., 0., 0., 0., 0., 0., 0., 0.,\n",
      "         0., 0., 0., 0.]])\n",
      "\n",
      "DATA >>> tensor([ 1.4768, -0.0750])\n",
      "GRADIENT >>> tensor([0., 0.])\n",
      "\n"
     ]
    }
   ],
   "source": [
    "# ok, let's try and zero the accumulated gradients\n",
    "net.zero_grad()\n",
    "for p in net.parameters():\n",
    "    print('DATA >>>', p.data)\n",
    "    print('GRADIENT >>>', p.grad)\n",
    "    print()"
   ]
  },
  {
   "cell_type": "markdown",
   "metadata": {},
   "source": [
    "# Loss function\n",
    "\n",
    "Let's define a custom loss function to compute how good our graph is doing."
   ]
  },
  {
   "cell_type": "code",
   "execution_count": 49,
   "metadata": {},
   "outputs": [],
   "source": [
    "# ys - estimated >>> ts - target output \n",
    "\n",
    "def cross_entropy(ys, ts):      \n",
    "    # computing cross entropy per sample\n",
    "    cross_entropy = -torch.sum(ts * torch.log(ys), dim=1, keepdim=False)    \n",
    "    \n",
    "    # averaging over samples\n",
    "    average = torch.mean(cross_entropy)    \n",
    "    \n",
    "    return average"
   ]
  },
  {
   "cell_type": "markdown",
   "metadata": {},
   "source": [
    "To train our neural network we need to update the parameters in direction of the negative gradient w.r.t the cost function we defined earlier.\n",
    "We can use [`torch.optim`](http://pytorch.org/docs/master/optim.html) to get the gradients with some update rule for all parameters in the network.\n",
    "\n",
    "Heres a small animation of gradient descent: http://imgur.com/a/Hqolp, which also illustrates which challenges optimizers might face, e.g. saddle points."
   ]
  },
  {
   "cell_type": "code",
   "execution_count": 50,
   "metadata": {},
   "outputs": [],
   "source": [
    "import torch.optim as optim\n",
    "optimizer = optim.Adam(net.parameters(), lr=0.0001)"
   ]
  },
  {
   "cell_type": "markdown",
   "metadata": {},
   "source": [
    "Next, we make the prediction functions, such that we can get an accuracy measure over a batch"
   ]
  },
  {
   "cell_type": "code",
   "execution_count": 51,
   "metadata": {},
   "outputs": [],
   "source": [
    "def accuracy(ys, ts):    \n",
    "    # making a one-hot encoded vector of correct (1) and incorrect (0) predictions\n",
    "    correct_prediction = torch.eq(torch.max(ys, 1)[1], torch.max(ts, 1)[1])    \n",
    "    # averaging the one-hot encoded vector\n",
    "    return torch.mean(correct_prediction.float())"
   ]
  },
  {
   "cell_type": "markdown",
   "metadata": {},
   "source": [
    "The next step is to utilize our `optimizer` repeatedly in order to optimize our weights `W_1` and `b_1` to make the best possible linear seperation of the half moon dataset."
   ]
  },
  {
   "cell_type": "code",
   "execution_count": 52,
   "metadata": {
    "scrolled": false
   },
   "outputs": [],
   "source": [
    "# number of training passses\n",
    "num_epochs = 1000\n",
    "# store loss and accuracy for information\n",
    "train_losses, val_losses, train_accs, val_accs = [], [], [], []\n",
    "def pred(X):\n",
    "    \"\"\" Compute graph's prediction and return numpy array    \n",
    "    Parameters\n",
    "    ----------\n",
    "    X : numpy.ndarray    \n",
    "    Returns\n",
    "    -------\n",
    "    numpy.ndarray\n",
    "    \"\"\"\n",
    "    X = Variable(torch.from_numpy(X))\n",
    "    \n",
    "    # forward pass \n",
    "    y = net(X)    \n",
    "    return y.data.numpy()"
   ]
  },
  {
   "cell_type": "code",
   "execution_count": 53,
   "metadata": {
    "scrolled": false
   },
   "outputs": [
    {
     "data": {
      "text/plain": [
       "Text(0.5,1,'Untrained Classifier')"
      ]
     },
     "execution_count": 53,
     "metadata": {},
     "output_type": "execute_result"
    },
    {
     "data": {
      "image/png": "[encoded data removed]",
      "text/plain": [
       "<Figure size 432x288 with 1 Axes>"
      ]
     },
     "metadata": {
      "needs_background": "light"
     },
     "output_type": "display_data"
    }
   ],
   "source": [
    "# plot boundary on testset before training session\n",
    "plot_decision_boundary(lambda x: pred(x), X_te, y_te)\n",
    "plt.title(\"Untrained Classifier\")"
   ]
  },
  {
   "cell_type": "code",
   "execution_count": 54,
   "metadata": {
    "scrolled": false
   },
   "outputs": [
    {
     "name": "stdout",
     "output_type": "stream",
     "text": [
      "Epoch 0, Train Cost: 9.900\tVal Cost: 11.366\t Val acc: 0.480\n",
      "Epoch 100, Train Cost: 8.051\tVal Cost: 9.319\t Val acc: 0.480\n",
      "Epoch 200, Train Cost: 6.234\tVal Cost: 7.243\t Val acc: 0.490\n",
      "Epoch 300, Train Cost: 4.451\tVal Cost: 5.167\t Val acc: 0.470\n",
      "Epoch 400, Train Cost: 2.833\tVal Cost: 3.278\t Val acc: 0.460\n",
      "Epoch 500, Train Cost: 1.583\tVal Cost: 1.780\t Val acc: 0.470\n",
      "Epoch 600, Train Cost: 0.829\tVal Cost: 0.883\t Val acc: 0.480\n",
      "Epoch 700, Train Cost: 0.529\tVal Cost: 0.547\t Val acc: 0.640\n",
      "Epoch 800, Train Cost: 0.416\tVal Cost: 0.431\t Val acc: 0.750\n",
      "Epoch 900, Train Cost: 0.365\tVal Cost: 0.382\t Val acc: 0.790\n"
     ]
    }
   ],
   "source": [
    "# training loop\n",
    "\n",
    "for e in range(num_epochs):\n",
    "    # get training input and expected output as torch Variables and \n",
    "    # make sure type is correct\n",
    "    \n",
    "    tr_input = Variable(torch.from_numpy(X_tr))\n",
    "    tr_targets = Variable(torch.from_numpy(onehot(y_tr, num_output))).float()\n",
    "    \n",
    "    # zeroize accumulated gradients in parameters\n",
    "    optimizer.zero_grad()\n",
    "    \n",
    "    #+++++++++++ TRAIN STEP ++++++++++++++++\n",
    "    # predict by running forward pass\n",
    "    tr_output = net(tr_input)    \n",
    "    \n",
    "    # compute cross entropy loss\n",
    "    tr_loss = cross_entropy(tr_output, tr_targets)    \n",
    "   \n",
    "    # compute gradients given loss\n",
    "    tr_loss.backward()   \n",
    "    \n",
    "    # update the parameters given the computed gradients\n",
    "    # Performs a single optimization step\n",
    "    optimizer.step()\n",
    "    \n",
    "    train_acc = accuracy(tr_output, tr_targets)\n",
    "    \n",
    "    # store training loss\n",
    "    train_losses.append(tr_loss.data.numpy())\n",
    "    train_accs.append(train_acc)\n",
    "    #+++++++++++++++++++++++++++++++++++++++\n",
    "    \"\"\"\n",
    "    at each step/epoch USE the trained net() \n",
    "    to evaluate it on the validation set\n",
    "    - Note however that the update is not happening\n",
    "    after the validation step.\n",
    "    \n",
    "    tr_loss.backward() ->>> does the backprop \n",
    "    optimizer.step() ->>> does the weight update\n",
    "    \n",
    "    \"\"\"\n",
    "    \n",
    "    #+++++++++++ VALIDATION STEP ++++++++++++++++\n",
    "    # get validation input and expected output as torch Variables \n",
    "    # and make sure type is correct\n",
    "    val_input = Variable(torch.from_numpy(X_val))\n",
    "    val_targets = Variable(torch.from_numpy(onehot(y_val, num_output))).float()\n",
    "    \n",
    "    # predict with validation input\n",
    "    val_output = net(val_input)\n",
    "    \n",
    "    # compute loss and accuracy\n",
    "    val_loss = cross_entropy(val_output, val_targets)\n",
    "    val_acc = accuracy(val_output, val_targets)\n",
    "    \n",
    "    # store loss and accuracy\n",
    "    val_losses.append(val_loss.data.numpy())\n",
    "    val_accs.append(val_acc.data.numpy())\n",
    "    #+++++++++++++++++++++++++++++++++++++++\n",
    "        \n",
    "    if e % 100 == 0:\n",
    "        print(\"Epoch %i, \"\n",
    "              \"Train Cost: %0.3f\"\n",
    "              \"\\tVal Cost: %0.3f\"\n",
    "              \"\\t Val acc: %0.3f\" % (e, \n",
    "                                     train_losses[-1],\n",
    "                                     val_losses[-1],\n",
    "                                     val_accs[-1]))        "
   ]
  },
  {
   "cell_type": "code",
   "execution_count": 55,
   "metadata": {
    "scrolled": true
   },
   "outputs": [
    {
     "name": "stdout",
     "output_type": "stream",
     "text": [
      "\n",
      "Test Cost: 0.314\tTest Accuracy: 0.850\n"
     ]
    },
    {
     "data": {
      "image/png": "[encoded data removed]",
      "text/plain": [
       "<Figure size 432x288 with 1 Axes>"
      ]
     },
     "metadata": {
      "needs_background": "light"
     },
     "output_type": "display_data"
    },
    {
     "data": {
      "image/png": "[encoded data removed]",
      "text/plain": [
       "<Figure size 432x288 with 1 Axes>"
      ]
     },
     "metadata": {
      "needs_background": "light"
     },
     "output_type": "display_data"
    },
    {
     "data": {
      "image/png": "[encoded data removed]",
      "text/plain": [
       "<Figure size 432x288 with 1 Axes>"
      ]
     },
     "metadata": {
      "needs_background": "light"
     },
     "output_type": "display_data"
    }
   ],
   "source": [
    "# get test input and expected output\n",
    "te_input = Variable(torch.from_numpy(X_te))\n",
    "te_targets = Variable(torch.from_numpy(onehot(y_te, num_output))).float()\n",
    "\n",
    "# predict on testset\n",
    "te_output = net(te_input)\n",
    "\n",
    "# compute loss and accuracy\n",
    "te_loss = cross_entropy(te_output, te_targets)\n",
    "te_acc = accuracy(te_output, te_targets)\n",
    "print(\"\\nTest Cost: %0.3f\\tTest Accuracy: %0.3f\" % (te_loss.data.numpy(), te_acc.data.numpy()))\n",
    "\n",
    "# plot boundary on testset after training session\n",
    "plot_decision_boundary(lambda x: pred(x), X_te, y_te)\n",
    "plt.title(\"Trained Classifier\")\n",
    "\n",
    "plt.figure()\n",
    "epoch = np.arange(len(train_losses))\n",
    "plt.plot(epoch, train_losses, 'r', label='Train Loss')\n",
    "plt.plot(epoch, val_losses, 'b', label='Val Loss')\n",
    "plt.legend()\n",
    "plt.xlabel('Updates')\n",
    "plt.ylabel('Loss')\n",
    "plt.show()\n",
    "\n",
    "plt.figure()\n",
    "plt.plot(epoch, train_accs, 'r', label='Train Acc')\n",
    "plt.plot(epoch, val_accs, 'b', label='Val Acc')\n",
    "plt.legend()\n",
    "plt.xlabel('Updates')\n",
    "plt.ylabel('Accuracy')\n",
    "plt.show()"
   ]
  },
  {
   "cell_type": "markdown",
   "metadata": {},
   "source": [
    "# Feed-Forward Neural Networks - MNIST"
   ]
  },
  {
   "cell_type": "markdown",
   "metadata": {},
   "source": [
    "# Assignments\n",
    "\n",
    "Try and add these modifications (might require some Googleing -- an important skill in deep learning):\n",
    "- Kaiming He initialization instead of Xavier Glorot\n",
    "- add an extra layer\n",
    "- use the relu activation function\n",
    "- add momentum to the optimizer\n",
    "- use the ADAM optimizer instead of stochastic gradient descent\n",
    "\n",
    "### Advanced - Regularization\n",
    "\n",
    "Regularization is VERY important in practice and is used practically every time.\n",
    "Many important results are completely dependent on cleaver use of regularization, and it is something you need to become familiar with if you want to work with deep learning.\n",
    "\n",
    "- add L1 or L2 weight regularization (aka. weight decay) \n",
    "- add dropout to the network (**note** the `net.train()` and `net.eval()` are already in the code)\n",
    "- add batchnorm\n",
    "\n",
    "__Pointers on regularization hyperparameter:__\n",
    "1. L2 and [L1 regularization](http://pytorch.org/docs/master/nn.html#torch.nn.L1Loss) (weight decay of optimization functions) \n",
    "  - Normal ranges: 1e-4  -  1e-8\n",
    "1. [Dropout](http://pytorch.org/docs/master/nn.html?highlight=dropout#torch.nn.Dropout). Dropout rate 0.1-0.5\n",
    "  - Remember to pick the correct version according to the input dimensionality\n",
    "  - **NOTE** call `net.train()` before training to activate random dropout, and call `net.eval()` to deactivate dropout while validating or running inference with model.\n",
    "1. [Batchnorm](http://pytorch.org/docs/master/nn.html#torch.nn.BatchNorm1d): Batchnorm also acts as a regularizer - Often very useful (faster and better convergence)\n",
    "  - Remember to pick the correct version according to the input dimensionality\n",
    "  - **NOTE** call `net.train()` before training to activate, and call `net.eval()` to have a non-stochastic variant while validating or running inference with model.\n",
    "    "
   ]
  },
  {
   "cell_type": "code",
   "execution_count": 56,
   "metadata": {},
   "outputs": [],
   "source": [
    "import torch\n",
    "from torch.autograd import Variable\n",
    "from torch.nn.parameter import Parameter\n",
    "\n",
    "import torch.nn as nn\n",
    "import torch.nn.functional as F\n",
    "import torch.optim as optim\n",
    "import torch.nn.init as init\n",
    "\n",
    "%matplotlib inline\n",
    "import matplotlib\n",
    "import numpy as np\n",
    "import matplotlib.pyplot as plt"
   ]
  },
  {
   "cell_type": "markdown",
   "metadata": {},
   "source": [
    "# MNIST dataset\n",
    "MNIST is a dataset that is often used for benchmarking. The MNIST dataset consists of 70,000 images of handwritten digits from 0-9. The dataset is split into a 50,000 images training set, 10,000 images validation set and 10,000 images test set. The images are 28x28 pixels, where each pixel represents a normalised value between 0-255 `(0=black and 255=white)`.\n",
    "\n",
    "![MNIST.Exampel](../static_files/mnist.png)\n",
    "\n",
    "\n",
    "## Primer\n",
    "We use a feedforward neural network to classify the 28x28 mnist images. `num_features` is therefore $28 * 28=784$, i.e. we represent each image as a vector. The ordering of the pixels in the vector does not matter, so we could permutate all images using the same permutation and still get the same performance. (You are of course encouraged to try this using ``numpy.random.permutation`` to get a random permutation. This task is therefore called the _permutation invariant_ MNIST. Obviously this throws away a lot of structure in the data. In the next module we'll fix this with the convolutional neural network wich encodes prior knowledgde about data that has either spatial or temporal structure.  "
   ]
  },
  {
   "cell_type": "markdown",
   "metadata": {},
   "source": [
    "## MNIST\n",
    "First let's load the MNIST dataset and plot a few examples:"
   ]
  },
  {
   "cell_type": "code",
   "execution_count": 2,
   "metadata": {},
   "outputs": [],
   "source": [
    "import wget"
   ]
  },
  {
   "cell_type": "code",
   "execution_count": 3,
   "metadata": {},
   "outputs": [
    {
     "name": "stdout",
     "output_type": "stream",
     "text": [
      "100% [........................................................................] 17069878 / 17069878"
     ]
    },
    {
     "data": {
      "text/plain": [
       "'mnist (1).npz'"
      ]
     },
     "execution_count": 3,
     "metadata": {},
     "output_type": "execute_result"
    }
   ],
   "source": [
    "wget.download('https://github.com/maximai/placeholder_repo/raw/master/mnist.npz')"
   ]
  },
  {
   "cell_type": "code",
   "execution_count": 57,
   "metadata": {},
   "outputs": [],
   "source": [
    "#To speed up training we'll only work on a subset of the data\n",
    "data = np.load('mnist.npz')\n",
    "num_classes = 10"
   ]
  },
  {
   "cell_type": "code",
   "execution_count": 58,
   "metadata": {},
   "outputs": [
    {
     "name": "stdout",
     "output_type": "stream",
     "text": [
      "Information on dataset\n",
      "x_train (1000, 784)\n",
      "targets_train (1000,)\n",
      "x_valid (500, 784)\n",
      "targets_valid (500,)\n",
      "x_test (500, 784)\n",
      "targets_test (500,)\n"
     ]
    }
   ],
   "source": [
    "#To speed up training we'll only work on a subset of the data\n",
    "x_train = data['X_train'][:1000].astype('float32')\n",
    "targets_train = data['y_train'][:1000].astype('int32')\n",
    "\n",
    "x_valid = data['X_valid'][:500].astype('float32')\n",
    "targets_valid = data['y_valid'][:500].astype('int32')\n",
    "\n",
    "x_test = data['X_test'][:500].astype('float32')\n",
    "targets_test = data['y_test'][:500].astype('int32')\n",
    "\n",
    "print(\"Information on dataset\")\n",
    "print(\"x_train\", x_train.shape)\n",
    "print(\"targets_train\", targets_train.shape)\n",
    "print(\"x_valid\", x_valid.shape)\n",
    "print(\"targets_valid\", targets_valid.shape)\n",
    "print(\"x_test\", x_test.shape)\n",
    "print(\"targets_test\", targets_test.shape)"
   ]
  },
  {
   "cell_type": "code",
   "execution_count": 59,
   "metadata": {},
   "outputs": [
    {
     "data": {
      "text/plain": [
       "<numpy.lib.npyio.NpzFile at 0x261b593c9b0>"
      ]
     },
     "execution_count": 59,
     "metadata": {},
     "output_type": "execute_result"
    }
   ],
   "source": [
    "data"
   ]
  },
  {
   "cell_type": "code",
   "execution_count": 60,
   "metadata": {
    "scrolled": false
   },
   "outputs": [
    {
     "data": {
      "image/png": "[encoded data removed]",
      "text/plain": [
       "<Figure size 288x288 with 1 Axes>"
      ]
     },
     "metadata": {
      "needs_background": "light"
     },
     "output_type": "display_data"
    }
   ],
   "source": [
    "#plot a few MNIST examples\n",
    "idx, dim, classes = 0, 28, 10\n",
    "# create empty canvas\n",
    "canvas = np.zeros((dim*classes, classes*dim))\n",
    "\n",
    "# fill with tensors\n",
    "for i in range(classes):\n",
    "    for j in range(classes):\n",
    "        canvas[i*dim:(i+1)*dim, j*dim:(j+1)*dim] = x_train[idx].reshape((dim, dim))\n",
    "        idx += 1\n",
    "\n",
    "# visualize matrix of tensors as gray scale image\n",
    "plt.figure(figsize=(4, 4))\n",
    "plt.axis('off')\n",
    "plt.imshow(canvas, cmap='gray')\n",
    "plt.title('MNIST handwritten digits')\n",
    "plt.show()"
   ]
  },
  {
   "cell_type": "markdown",
   "metadata": {},
   "source": [
    "## Model\n",
    "\n",
    "One of the large challenges in deep learning is the amount of hyperparameters that needs to be selected, and the lack of a good principled way of selecting them.\n",
    "Hyperparameters can be found by experience (guessing) or some search procedure (often quite slow).\n",
    "Random search is easy to implement and performs decent: http://www.jmlr.org/papers/volume13/bergstra12a/bergstra12a.pdf . \n",
    "More advanced search procedures include [Spearmint](https://github.com/JasperSnoek/spearmint) and many others.\n",
    "\n",
    "**In practice a lot of trial and error is almost always involved.** This can be frustrating and time consuming, but the best thing to do is to think as a scientist, and go about it in a ordered manner --> monitor as much as you can, take notes, and be deliberate!\n",
    "\n",
    "Below are some guidelines that you can use as a starting point to some of the most important hyperparameters. \n",
    "(*regularization* is also very important, but will be covered later.)\n",
    "\n",
    "\n",
    "### Ballpark estimates of hyperparameters\n",
    "__Number of hidden units and network structure:__\n",
    "You'll have to experiment. One rarely goes below 512 units for feedforward networks (unless your are training on CPU...).\n",
    "There's some research into stochastic depth networks: https://arxiv.org/pdf/1603.09382v2.pdf, but in general this is trial and error.\n",
    "\n",
    "__Parameter initialization:__\n",
    "Parameter initialization is extremely important.\n",
    "PyTorch has a lot of different initializers, check the [PyTorch API](http://pytorch.org/docs/master/nn.html#torch-nn-init). Often used initializer are\n",
    "1. Kaming He\n",
    "2. Xavier Glorot\n",
    "3. Uniform or Normal with small scale (0.1 - 0.01)\n",
    "4. Orthogonal (this usually works very well for RNNs)\n",
    "\n",
    "Bias is nearly always initialized to zero using the [torch.nn.init.constant(tensor, val)](http://pytorch.org/docs/master/nn.html#torch.nn.init.constant)\n",
    "\n",
    "__Mini-batch size:__\n",
    "Usually people use 16-256. Bigger is not allways better. With smaller mini-batch size you get more updates and your model might converge faster. Also small batch sizes use less memory, which means you can train a model with more parameters.\n",
    "\n",
    "__Nonlinearity:__ [The most commonly used nonliearities are](http://pytorch.org/docs/master/nn.html#non-linear-activations)\n",
    "1. ReLU\n",
    "2. Leaky ReLU\n",
    "3. Elu\n",
    "3. Sigmoid squash the output [0, 1], and are used if your output is binary (not used in the hidden layers)\n",
    "4. Tanh is similar to sigmoid, but squashes in [-1, 1]. It is rarely used any more.\n",
    "4. Softmax normalizes the the output to 1, and is used as output if you have a classification problem\n",
    "\n",
    "See the plot below.\n",
    "\n",
    "__Optimizer and learning rate:__\n",
    "1. SGD + Momentum: learning rate 1.0 - 0.1 \n",
    "2. ADAM: learning rate 3*1e-4 - 1e-5\n",
    "3. RMSPROP: somewhere between SGD and ADAM\n"
   ]
  },
  {
   "cell_type": "code",
   "execution_count": 61,
   "metadata": {},
   "outputs": [
    {
     "name": "stdout",
     "output_type": "stream",
     "text": [
      "softmax should sum to one (approxiamtely): 1.0\n"
     ]
    },
    {
     "data": {
      "image/png": "[encoded data removed]",
      "text/plain": [
       "<Figure size 360x360 with 1 Axes>"
      ]
     },
     "metadata": {
      "needs_background": "light"
     },
     "output_type": "display_data"
    }
   ],
   "source": [
    "# Illustrate different output units\n",
    "x = np.linspace(-6, 6, 100)\n",
    "units = {\n",
    "    \"ReLU\": lambda x: np.maximum(0, x),\n",
    "    \"Leaky ReLU\": lambda x: np.maximum(0, x) + 0.1 * np.minimum(0, x),\n",
    "    \"Elu\": lambda x: (x > 0) * x + (1 - (x > 0)) * (np.exp(x) - 1),\n",
    "    \"Sigmoid\": lambda x: (1 + np.exp(-x))**(-1),\n",
    "    \"tanh\": lambda x: (np.exp(x) - np.exp(-x)) / (np.exp(x) + np.exp(-x))\n",
    "}\n",
    "\n",
    "plt.figure(figsize=(5, 5))\n",
    "[plt.plot(x, unit(x), label=unit_name, lw=2) for unit_name, unit in units.items()]\n",
    "plt.legend(loc=2, fontsize=16)\n",
    "plt.title('Non-linearities', fontsize=20)\n",
    "plt.ylim([-2, 5])\n",
    "plt.xlim([-6, 6])\n",
    "\n",
    "# assert that all class probablities sum to one\n",
    "softmax = lambda x: np.exp(x) / np.sum(np.exp(x))\n",
    "print(\"softmax should sum to one (approxiamtely):\", np.sum(softmax(x)))"
   ]
  },
  {
   "cell_type": "code",
   "execution_count": 62,
   "metadata": {},
   "outputs": [],
   "source": [
    "#Hyperparameters\n",
    "num_classes = 10\n",
    "num_l1 = 512\n",
    "num_features = x_train.shape[1]\n",
    "\n",
    "# define network\n",
    "class Net(nn.Module):\n",
    "\n",
    "    def __init__(self, num_features, num_hidden, num_output):\n",
    "        super(Net, self).__init__()  \n",
    "        # input layer\n",
    "        self.W_1 = Parameter(init.kaiming_normal_(torch.Tensor(num_hidden, num_features)))\n",
    "        self.b_1 = Parameter(init.constant_(torch.Tensor(num_hidden), 0))\n",
    "        # hidden layer\n",
    "        self.W_1_bn = nn.BatchNorm1d(num_hidden)\n",
    "        \n",
    "        self.W_2 = Parameter(init.kaiming_normal_(torch.Tensor(num_hidden, num_hidden)))\n",
    "        self.b_2 = Parameter(init.constant_(torch.Tensor(num_hidden), 0))\n",
    "        \n",
    "        self.W_2_bn = nn.BatchNorm1d(num_hidden)\n",
    "        \n",
    "        self.W_3 = Parameter(init.kaiming_normal_(torch.Tensor(num_output, num_hidden)))\n",
    "        self.b_3 = Parameter(init.constant_(torch.Tensor(num_output), 0))\n",
    "        \n",
    "        self.dropout = nn.Dropout(0.3)\n",
    "        # define activation function in constructor\n",
    "        self.activation = torch.nn.ReLU()\n",
    "\n",
    "    def forward(self, x):\n",
    "        x = self.W_1_bn(F.linear(x, self.W_1, self.b_1))\n",
    "        x = self.activation(x)\n",
    "        x = self.W_2_bn(F.linear(x, self.W_2, self.b_2))\n",
    "        x = self.activation(x)\n",
    "        x = F.linear(x, self.W_3, self.b_3)\n",
    "        x = self.dropout(x)\n",
    "        return F.softmax(x, dim=1)\n",
    "\n",
    "\n",
    "net = Net(num_features, num_l1, num_classes)"
   ]
  },
  {
   "cell_type": "code",
   "execution_count": 63,
   "metadata": {},
   "outputs": [],
   "source": [
    "optimizer = optim.Adam(net.parameters(), lr=0.0001, weight_decay = 1e-5)\n",
    "criterion = nn.CrossEntropyLoss()"
   ]
  },
  {
   "cell_type": "code",
   "execution_count": 64,
   "metadata": {},
   "outputs": [
    {
     "name": "stdout",
     "output_type": "stream",
     "text": [
      "torch.Size([45, 10])\n"
     ]
    }
   ],
   "source": [
    "#Test the forward pass with dummy data\n",
    "x = np.random.normal(0, 1, (45, dim*dim)).astype('float32')\n",
    "\n",
    "print(net(Variable(torch.from_numpy(x))).size())"
   ]
  },
  {
   "cell_type": "markdown",
   "metadata": {},
   "source": [
    "# Build the training loop\n",
    "\n",
    "We train the network by calculating the gradient w.r.t the cost function and update the parameters in direction of the negative gradient. \n",
    "\n",
    "\n",
    "When training neural network you always use mini batches. Instead of calculating the average gradient using the entire dataset you approximate the gradient using a mini-batch of typically 16 to 256 samples. The paramters are updated after each mini batch. Networks converge much faster using mini batches because the parameters are updated more often.\n",
    "\n",
    "We build a loop that iterates over the training data. Remember that the parameters are updated each time ``optimizer.step()`` is called."
   ]
  },
  {
   "cell_type": "code",
   "execution_count": 65,
   "metadata": {
    "scrolled": true
   },
   "outputs": [
    {
     "name": "stdout",
     "output_type": "stream",
     "text": [
      "Epoch  1 : Train Loss 0.226800 , Train acc 0.315000, Valid acc 0.330000\n",
      "Epoch 11 : Train Loss 0.187446 , Train acc 0.836000, Valid acc 0.752000\n",
      "Epoch 21 : Train Loss 0.175420 , Train acc 0.957000, Valid acc 0.846000\n",
      "Epoch 31 : Train Loss 0.173109 , Train acc 0.981000, Valid acc 0.862000\n",
      "Epoch 41 : Train Loss 0.171216 , Train acc 0.987000, Valid acc 0.876000\n",
      "Epoch 51 : Train Loss 0.169235 , Train acc 0.989000, Valid acc 0.872000\n",
      "Epoch 61 : Train Loss 0.167298 , Train acc 0.992000, Valid acc 0.876000\n",
      "Epoch 71 : Train Loss 0.167596 , Train acc 0.994000, Valid acc 0.876000\n",
      "Epoch 81 : Train Loss 0.164655 , Train acc 0.995000, Valid acc 0.874000\n",
      "Epoch 91 : Train Loss 0.166287 , Train acc 0.996000, Valid acc 0.878000\n"
     ]
    },
    {
     "data": {
      "text/plain": [
       "(Text(0.5,0,'Updates'), Text(0,0.5,'Acc'))"
      ]
     },
     "execution_count": 65,
     "metadata": {},
     "output_type": "execute_result"
    },
    {
     "data": {
      "image/png": "[encoded data removed]",
      "text/plain": [
       "<Figure size 432x288 with 1 Axes>"
      ]
     },
     "metadata": {
      "needs_background": "light"
     },
     "output_type": "display_data"
    }
   ],
   "source": [
    "# we could have done this ourselves,\n",
    "# but we should be aware of sklearn and it's tools\n",
    "from sklearn.metrics import accuracy_score\n",
    "\n",
    "# setting hyperparameters and gettings epoch sizes\n",
    "batch_size = 100\n",
    "num_epochs = 100\n",
    "num_samples_train = x_train.shape[0]\n",
    "num_batches_train = num_samples_train // batch_size\n",
    "num_samples_valid = x_valid.shape[0]\n",
    "num_batches_valid = num_samples_valid // batch_size\n",
    "\n",
    "# setting up lists for handling loss/accuracy\n",
    "train_acc, train_loss = [], []\n",
    "valid_acc, valid_loss = [], []\n",
    "test_acc, test_loss = [], []\n",
    "cur_loss = 0\n",
    "losses = []\n",
    "\n",
    "get_slice = lambda i, size: range(i * size, (i + 1) * size)\n",
    "\n",
    "for epoch in range(num_epochs):\n",
    "    # Forward -> Backprob -> Update params\n",
    "    ## Train\n",
    "    cur_loss = 0\n",
    "    net.train()\n",
    "    for i in range(num_batches_train):\n",
    "        slce = get_slice(i, batch_size)\n",
    "        x_batch = Variable(torch.from_numpy(x_train[slce]))\n",
    "        output = net(x_batch)\n",
    "        \n",
    "        # compute gradients given loss\n",
    "        target_batch = Variable(torch.from_numpy(targets_train[slce]).long())\n",
    "        batch_loss = criterion(output, target_batch)\n",
    "        optimizer.zero_grad()\n",
    "        batch_loss.backward()\n",
    "        optimizer.step()\n",
    "        \n",
    "        cur_loss += batch_loss   \n",
    "    losses.append(cur_loss / batch_size)\n",
    "\n",
    "    net.eval()\n",
    "    ### Evaluate training\n",
    "    train_preds, train_targs = [], []\n",
    "    for i in range(num_batches_train):\n",
    "        slce = get_slice(i, batch_size)\n",
    "        x_batch = Variable(torch.from_numpy(x_train[slce]))\n",
    "        \n",
    "        output = net(x_batch)\n",
    "        preds = torch.max(output, 1)[1]\n",
    "        \n",
    "        train_targs += list(targets_train[slce])\n",
    "        train_preds += list(preds.data.numpy())\n",
    "    \n",
    "    ### Evaluate validation\n",
    "    val_preds, val_targs = [], []\n",
    "    for i in range(num_batches_valid):\n",
    "        slce = get_slice(i, batch_size)\n",
    "        x_batch = Variable(torch.from_numpy(x_valid[slce]))\n",
    "        \n",
    "        output = net(x_batch)\n",
    "        preds = torch.max(output, 1)[1]\n",
    "        val_preds += list(preds.data.numpy())\n",
    "        val_targs += list(targets_valid[slce])\n",
    "\n",
    "    train_acc_cur = accuracy_score(train_targs, train_preds)\n",
    "    valid_acc_cur = accuracy_score(val_targs, val_preds)\n",
    "    \n",
    "    train_acc.append(train_acc_cur)\n",
    "    valid_acc.append(valid_acc_cur)\n",
    "    \n",
    "    if epoch % 10 == 0:\n",
    "        print(\"Epoch %2i : Train Loss %f , Train acc %f, Valid acc %f\" % (\n",
    "                epoch+1, losses[-1], train_acc_cur, valid_acc_cur))\n",
    "\n",
    "epoch = np.arange(len(train_acc))\n",
    "plt.figure()\n",
    "plt.plot(epoch, train_acc, 'r', epoch, valid_acc, 'b')\n",
    "plt.legend(['Train Accucary','Validation Accuracy'])\n",
    "plt.xlabel('Updates'), plt.ylabel('Acc')"
   ]
  },
  {
   "cell_type": "markdown",
   "metadata": {},
   "source": [
    "# CNN - Hands On"
   ]
  },
  {
   "cell_type": "code",
   "execution_count": 66,
   "metadata": {},
   "outputs": [
    {
     "name": "stdout",
     "output_type": "stream",
     "text": [
      "1.0.1\n"
     ]
    }
   ],
   "source": [
    "import torch\n",
    "print(torch.__version__)"
   ]
  },
  {
   "cell_type": "code",
   "execution_count": 67,
   "metadata": {},
   "outputs": [],
   "source": [
    "%matplotlib inline\n",
    "import matplotlib\n",
    "import numpy as np\n",
    "import matplotlib.pyplot as plt"
   ]
  },
  {
   "cell_type": "markdown",
   "metadata": {},
   "source": [
    "# Assignment 1\n",
    "\n",
    "\n",
    "### Assignment 1.2: Output dimensionality\n",
    "\n",
    "Given the following 3D tensor input `(channel, height, width)` , a given amount (`channels_out`) of filters `(channels_in, filter_height, filter_width)`, stride `(height, width)` and padding `(height, width)`, calculate the output dimensionality if it's valid.\n",
    "\n",
    "1. input tensor with dimensionality (1, 28, 28) and 16 filters of size (1, 5, 5) with stride (1, 1) and padding (0, 0)\n",
    " * **Answer:** (16, 24, 24)\n",
    "2. input tensor with dimensionality (3, 32, 32) and 24 filters of size (2, 3, 3) with stride (1, 1) and padding (0, 0)\n",
    " * **Answer:** (channel number does not match)\n",
    "3. input tensor with dimensionality (10, 32, 32) and 3 filters of size (10, 2, 2) with stride (2, 2) and padding (0, 0)\n",
    " * **Answer:** (3, 16, 16)\n",
    "4. input tensor with dimensionality (11, 8, 16) and 7 filters of size (11, 3, 3) with stride (2, 2) and padding (1, 1)\n",
    " * **Answer:** (7, 4, 8)\n",
    "5. input tensor with dimensionality (128, 256, 256) and 112 filters of size (128, 3, 3) with stride (1, 1) and padding (1, 1)\n",
    " * **Answer:** (112, 256, 256)\n",
    " "
   ]
  },
  {
   "cell_type": "code",
   "execution_count": null,
   "metadata": {},
   "outputs": [],
   "source": [
    "import wget\n",
    "wget.download('https://github.com/maximai/placeholder_repo/raw/master/mnist.npz')"
   ]
  },
  {
   "cell_type": "code",
   "execution_count": 68,
   "metadata": {},
   "outputs": [
    {
     "name": "stdout",
     "output_type": "stream",
     "text": [
      "Information on dataset\n",
      "x_train (1000, 1, 28, 28)\n",
      "targets_train (1000,)\n",
      "x_valid (500, 1, 28, 28)\n",
      "targets_valid (500,)\n",
      "x_test (500, 1, 28, 28)\n",
      "targets_test (500,)\n"
     ]
    }
   ],
   "source": [
    "## LOAD the mnist data\n",
    "# To speed up training we'll only work on a subset of the data.\n",
    "# Note that we reshape the data from \n",
    "#  (nsamples, num_features) = (nsamples, nchannels*rows*cols)\n",
    "#    -> (nsamples, nchannels, rows, cols)\n",
    "# in order to retain the spatial arrangements of the pixels\n",
    "\n",
    "data = np.load('mnist.npz')\n",
    "num_classes = 10\n",
    "\n",
    "# define the number of (image) channels and rows, cols\n",
    "nchannels, rows, cols = 1, 28, 28\n",
    "#get the xtraining dataset \n",
    "x_train = data['X_train'][:1000].astype('float32')\n",
    "x_train = x_train.reshape((-1, nchannels, rows, cols))\n",
    "targets_train = data['y_train'][:1000].astype('int32')\n",
    "\n",
    "# validation \n",
    "x_valid = data['X_valid'][:500].astype('float32')\n",
    "x_valid = x_valid.reshape((-1, nchannels, rows, cols))\n",
    "targets_valid = data['y_valid'][:500].astype('int32')\n",
    "\n",
    "# test \n",
    "x_test = data['X_test'][:500].astype('float32')\n",
    "x_test = x_test.reshape((-1, nchannels, rows, cols))\n",
    "targets_test = data['y_test'][:500].astype('int32')\n",
    "\n",
    "print(\"Information on dataset\")\n",
    "print(\"x_train\", x_train.shape)\n",
    "\n",
    "print(\"targets_train\", targets_train.shape)\n",
    "print(\"x_valid\", x_valid.shape)\n",
    "\n",
    "print(\"targets_valid\", targets_valid.shape)\n",
    "print(\"x_test\", x_test.shape)\n",
    "\n",
    "print(\"targets_test\", targets_test.shape)"
   ]
  },
  {
   "cell_type": "code",
   "execution_count": 69,
   "metadata": {},
   "outputs": [
    {
     "data": {
      "image/png": "[encoded data removed]",
      "text/plain": [
       "<Figure size 432x432 with 1 Axes>"
      ]
     },
     "metadata": {
      "needs_background": "light"
     },
     "output_type": "display_data"
    }
   ],
   "source": [
    "import matplotlib.pyplot as plt\n",
    "\n",
    "#plot a few MNIST examples\n",
    "idx, dim, classes = 0, 28, 10\n",
    "\n",
    "# create empty canvas\n",
    "canvas = np.zeros((dim*classes, classes*dim))\n",
    "\n",
    "# fill with tensors\n",
    "for i in range(classes):\n",
    "    for j in range(classes):\n",
    "        canvas[i*dim:(i+1)*dim, j*dim:(j+1)*dim] = x_train[idx].reshape((dim, dim))\n",
    "        idx += 1\n",
    "        \n",
    "# visualize matrix of tensors as gray scale image\n",
    "plt.figure(figsize=(6, 6))\n",
    "plt.axis('off')\n",
    "plt.imshow(canvas, cmap='gray')\n",
    "plt.title('MNIST handwritten digits')\n",
    "plt.show()"
   ]
  },
  {
   "cell_type": "code",
   "execution_count": 70,
   "metadata": {},
   "outputs": [],
   "source": [
    "import torch\n",
    "from torch.autograd import Variable\n",
    "from torch.nn.parameter import Parameter\n",
    "\n",
    "import torch.nn as nn\n",
    "import torch.nn.functional as F\n",
    "import torch.optim as optim\n",
    "import torch.nn.init as init\n",
    "\n",
    "# note that when you import from torch.nn you don't have to define and initialize\n",
    "# the W1, b1, W2, b2, ..., Wn, bn weights \n",
    "\n",
    "from torch.nn import Linear, Conv2d, BatchNorm2d, MaxPool2d, Dropout2d\n",
    "from torch.nn.functional import relu, elu, relu6, sigmoid, tanh, softmax"
   ]
  },
  {
   "cell_type": "code",
   "execution_count": 71,
   "metadata": {
    "scrolled": false
   },
   "outputs": [
    {
     "name": "stdout",
     "output_type": "stream",
     "text": [
      "(1000, 1, 28, 28)\n",
      "1 28 28\n"
     ]
    }
   ],
   "source": [
    "# hyperameters of the model\n",
    "num_classes = 10\n",
    "\n",
    "# channels here represent the depth of image (grayscale image)\n",
    "channels = x_train.shape[1]\n",
    "height = x_train.shape[2]\n",
    "width = x_train.shape[3]\n",
    "\n",
    "print(x_train.shape)\n",
    "print(channels, height, width)"
   ]
  },
  {
   "cell_type": "code",
   "execution_count": 76,
   "metadata": {},
   "outputs": [],
   "source": [
    "def compute_conv_dim(dim_size, kernel_size, padding, stride):\n",
    "    return int((dim_size - kernel_size + 2 * padding) / stride + 1)"
   ]
  },
  {
   "cell_type": "code",
   "execution_count": 77,
   "metadata": {},
   "outputs": [],
   "source": [
    "def train(net, optimizer, num_epochs):          \n",
    "    train_acc, train_loss = [], []\n",
    "    valid_acc, valid_loss = [], []\n",
    "    test_acc, test_loss = [], []\n",
    "    cur_loss = 0\n",
    "    losses = []\n",
    "    \n",
    "    # at each batch get appropiate slice of the x_train data \n",
    "    get_slice = lambda i, size: range(i * size, (i + 1) * size)\n",
    "\n",
    "    for epoch in range(num_epochs):\n",
    "        # Forward -> Backprob -> Update params\n",
    "        ## Train\n",
    "        cur_loss = 0\n",
    "\n",
    "        # set the module in training mode\n",
    "        net.train()        \n",
    "        #*****************************************************\n",
    "        for i in range(num_batches_train):\n",
    "            slce = get_slice(i, batch_size)\n",
    "            x_batch = Variable(torch.from_numpy(x_train[slce]))\n",
    "            # forward pass \n",
    "            output = net(x_batch)\n",
    "            # compute gradients given loss\n",
    "            target_batch = Variable(torch.from_numpy(targets_train[slce]).long())\n",
    "            batch_loss = criterion(output, target_batch)\n",
    "            # zero gradient + backpropogate \n",
    "            optimizer.zero_grad()\n",
    "            batch_loss.backward()\n",
    "            # update the gradient \n",
    "            optimizer.step()\n",
    "            # update current loss \n",
    "            cur_loss += batch_loss   \n",
    "            \n",
    "        losses.append(cur_loss / batch_size)    \n",
    "        # set the module in evaluation mode \n",
    "        net.eval()\n",
    "        train_preds, train_targs = [], []\n",
    "        \n",
    "        #*****************************************************\n",
    "        for i in range(num_batches_train):\n",
    "            slce = get_slice(i, batch_size)\n",
    "            x_batch = Variable(torch.from_numpy(x_train[slce]))\n",
    "            # forward pass using the updated NN model \n",
    "            output = net(x_batch)\n",
    "            preds = torch.max(output, 1)[1]\n",
    "            # collect train targets \n",
    "            # collect train predicts \n",
    "            train_targs += list(targets_train[slce])\n",
    "            train_preds += list(preds.data.numpy())\n",
    "            \n",
    "        ### Evaluate validation\n",
    "        #*****************************************************\n",
    "        val_preds, val_targs = [], []    \n",
    "        for i in range(num_batches_valid):\n",
    "            slce = get_slice(i, batch_size)\n",
    "            x_batch = Variable(torch.from_numpy(x_valid[slce]))\n",
    "            # forward pass validation dataset using the optimal model\n",
    "            # (no update applied)\n",
    "            output = net(x_batch)\n",
    "            preds = torch.max(output, 1)[1]            \n",
    "            val_preds += list(preds.data.numpy())\n",
    "            val_targs += list(targets_valid[slce])\n",
    "        train_acc_cur = accuracy_score(train_targs, train_preds)\n",
    "        valid_acc_cur = accuracy_score(val_targs, val_preds)\n",
    "\n",
    "        train_acc.append(train_acc_cur)\n",
    "        valid_acc.append(valid_acc_cur)\n",
    "        if epoch % 10 == 0:\n",
    "            print(\"Epoch %2i : Train Loss %f , Train acc %f, Valid acc %f\" % (\n",
    "                    epoch+1, losses[-1], train_acc_cur, valid_acc_cur))\n",
    "            \n",
    "    epoch = np.arange(len(train_acc))\n",
    "    plt.figure()\n",
    "    plt.plot(epoch, train_acc, 'r', epoch, valid_acc, 'b')\n",
    "    plt.legend(['Train Acc', 'Val Acc'])\n",
    "    plt.xlabel('Epochs')\n",
    "    plt.ylabel('Acc')\n",
    "    ### Evaluate test set\n",
    "    x_batch = Variable(torch.from_numpy(x_test))\n",
    "    output = net(x_batch)\n",
    "    preds = torch.max(output, 1)[1]\n",
    "    print(\"\\nTest set Acc:  %f\" % (accuracy_score(list(targets_test), list(preds.data.numpy()))))"
   ]
  },
  {
   "cell_type": "code",
   "execution_count": 78,
   "metadata": {},
   "outputs": [],
   "source": [
    "from IPython.core.debugger import set_trace"
   ]
  },
  {
   "cell_type": "code",
   "execution_count": 79,
   "metadata": {},
   "outputs": [],
   "source": [
    "class Conv2MaxPoolNet(nn.Module):       \n",
    "    def __init__(self, channels, \n",
    "                 num_filters_1, \n",
    "                 num_filters_2, \n",
    "                 kernel_size_1, \n",
    "                 kernel_size_2, \n",
    "                 padding=0, \n",
    "                 stride=1, \n",
    "                 max_pool_size=2, \n",
    "                 max_pool_stride=2):\n",
    "        \n",
    "        super(Conv2MaxPoolNet, self).__init__()\n",
    "        \n",
    "        self.conv_1 = Conv2d(in_channels=channels,\n",
    "                            out_channels=num_filters_1,\n",
    "                            kernel_size=kernel_size_1,\n",
    "                            stride=stride,\n",
    "                            padding=padding)        \n",
    "        \n",
    "        self.conv_2 = Conv2d(in_channels=num_filters_1,\n",
    "                            out_channels=num_filters_2,\n",
    "                            kernel_size=kernel_size_2,\n",
    "                            stride=stride,\n",
    "                            padding=padding)        \n",
    "\n",
    "        # you can define one maxpool and use it to pool any sequence of convolutional layers \n",
    "        self.max_pool = MaxPool2d(kernel_size=max_pool_size, stride=max_pool_stride)\n",
    "        \n",
    "        # NOTE: HEIGHT = HEIGHT/MAXPOOL_SIZE\n",
    "        self.conv_out_height = int(compute_conv_dim(height, kernel_size_1, padding, stride)/max_pool_size)\n",
    "        self.conv_out_width = int(compute_conv_dim(width, kernel_size_1, padding, stride)/max_pool_size)\n",
    "        \n",
    "        #Calculate the heigt and width again, based on the size of the first convolution layer\n",
    "        self.conv_out_height = int(compute_conv_dim(self.conv_out_height, kernel_size_2, padding, stride)/max_pool_size)\n",
    "        self.conv_out_width = int(compute_conv_dim(self.conv_out_width, kernel_size_2, padding, stride)/max_pool_size)    \n",
    "        \n",
    "        self.l1_in_features = num_filters_2 * self.conv_out_height * self.conv_out_width\n",
    "        \n",
    "        # fully connected 1st hidden layer \n",
    "        self.l_1 = Linear(in_features=self.l1_in_features,out_features=num_l1,bias=True)\n",
    "        \n",
    "        # fully connected output layer \n",
    "        self.l_out = Linear(in_features=num_l1, out_features=num_classes,bias=False)    \n",
    "        self.n=0\n",
    "        self.dropout = nn.Dropout2d(p=0.2)\n",
    "        \n",
    "    def forward(self, x): # x.size() = [batch, channel, height, width]\n",
    "        #x = x.cuda()        \n",
    "        if self.n < 1 : print(x.size())\n",
    "        x = relu(self.max_pool(self.conv_1(x)))        \n",
    "        \"\"\"\n",
    "        Conv2d, BatchNorm2d, MaxPool2d, Dropout2d\n",
    "        relu, elu, relu6, sigmoid, tanh, softmax\n",
    "        \"\"\"        \n",
    "        # set_trace()        \n",
    "        \n",
    "        if self.n < 1 : print(x.size())\n",
    "        x = relu(self.max_pool(self.conv_2(x)))          \n",
    "        x = self.dropout(x)\n",
    "        \n",
    "        if self.n < 1 : print(x.size())\n",
    "        x = x.view(-1, self.l1_in_features)        \n",
    "        #x = self.dropout(relu(self.l_1(x)))\n",
    "\n",
    "        if self.n < 1 : print(x.size())\n",
    "        x = relu(self.l_1(x))                \n",
    "        \n",
    "        self.n += 1\n",
    "        if self.n < 1 : print(x.size())            \n",
    "        x = softmax(self.l_out(x), dim =1)        \n",
    "        if self.n < 1 : print(x.size())\n",
    "            \n",
    "        return x"
   ]
  },
  {
   "cell_type": "code",
   "execution_count": 80,
   "metadata": {},
   "outputs": [
    {
     "name": "stdout",
     "output_type": "stream",
     "text": [
      "torch.Size([100, 1, 28, 28])\n",
      "torch.Size([100, 16, 14, 14])\n",
      "torch.Size([100, 10, 7, 7])\n",
      "torch.Size([100, 490])\n",
      "Epoch  1 : Train Loss 0.229049 , Train acc 0.256000, Valid acc 0.270000\n",
      "Epoch 11 : Train Loss 0.168918 , Train acc 0.784000, Valid acc 0.706000\n",
      "Epoch 21 : Train Loss 0.166344 , Train acc 0.800000, Valid acc 0.742000\n",
      "Epoch 31 : Train Loss 0.165845 , Train acc 0.803000, Valid acc 0.738000\n",
      "Epoch 41 : Train Loss 0.165342 , Train acc 0.808000, Valid acc 0.752000\n",
      "Epoch 51 : Train Loss 0.158639 , Train acc 0.873000, Valid acc 0.810000\n",
      "Epoch 61 : Train Loss 0.156252 , Train acc 0.899000, Valid acc 0.838000\n",
      "Epoch 71 : Train Loss 0.147747 , Train acc 0.987000, Valid acc 0.914000\n",
      "Epoch 81 : Train Loss 0.147331 , Train acc 0.990000, Valid acc 0.928000\n",
      "Epoch 91 : Train Loss 0.147169 , Train acc 0.990000, Valid acc 0.920000\n",
      "\n",
      "Test set Acc:  0.946000\n",
      "training time = 102.7 s\n"
     ]
    },
    {
     "data": {
      "image/png": "[encoded data removed]",
      "text/plain": [
       "<Figure size 432x288 with 1 Axes>"
      ]
     },
     "metadata": {
      "needs_background": "light"
     },
     "output_type": "display_data"
    }
   ],
   "source": [
    "import time \n",
    "conv2maxpoolnet = Conv2MaxPoolNet(channels=channels, \n",
    "                                  num_filters_1=16, \n",
    "                                  num_filters_2=10, \n",
    "                                  kernel_size_1=5, \n",
    "                                  kernel_size_2=5, \n",
    "                                  padding=2)#.cuda()\n",
    "\n",
    "t = time.time()\n",
    "train(conv2maxpoolnet, \n",
    "      optim.Adam(conv2maxpoolnet.parameters(), lr=0.001), \n",
    "      num_epochs=100)\n",
    "\n",
    "print(\"training time = %0.1f s\"%(time.time()-t))"
   ]
  },
  {
   "cell_type": "markdown",
   "metadata": {},
   "source": [
    "# Visualization of filters\n",
    "Convolution filters can be interpreted as spatial feature detectors picking up different image features such as edges, corners etc. Below we provide code for visualization of the filters. The best results are obtained with fairly large filters of size 9 and either 16 or 36 filters. "
   ]
  },
  {
   "cell_type": "code",
   "execution_count": 81,
   "metadata": {},
   "outputs": [
    {
     "name": "stdout",
     "output_type": "stream",
     "text": [
      "dict_keys(['conv_1.weight', 'conv_1.bias', 'conv_2.weight', 'conv_2.bias', 'l_1.weight', 'l_1.bias', 'l_out.weight'])\n"
     ]
    }
   ],
   "source": [
    "# to start with we print the names of the weights in our network\n",
    "names_and_vars = {x[0]: x[1] for x in conv2maxpoolnet.named_parameters()}\n",
    "print(names_and_vars.keys())\n"
   ]
  },
  {
   "cell_type": "code",
   "execution_count": 82,
   "metadata": {
    "scrolled": true
   },
   "outputs": [
    {
     "name": "stdout",
     "output_type": "stream",
     "text": [
      "Parameter containing:\n",
      "tensor([[-0.0216,  0.0021,  0.0367,  ...,  0.0114,  0.0279, -0.0561],\n",
      "        [-0.0247, -0.0082,  0.0105,  ..., -0.0344,  0.0176, -0.0423],\n",
      "        [ 0.0269, -0.0174, -0.0343,  ..., -0.0215, -0.0407,  0.0431],\n",
      "        ...,\n",
      "        [-0.0300, -0.0547, -0.0802,  ...,  0.0151,  0.0082, -0.0323],\n",
      "        [ 0.0052, -0.0658, -0.0633,  ..., -0.0110, -0.0177, -0.0292],\n",
      "        [-0.0440, -0.0732, -0.0131,  ...,  0.0225,  0.0216,  0.0354]],\n",
      "       requires_grad=True)\n",
      "torch.Size([512, 490])\n"
     ]
    }
   ],
   "source": [
    "print(names_and_vars['l_1.weight'])\n",
    "print(names_and_vars['l_1.weight'].shape)"
   ]
  },
  {
   "cell_type": "code",
   "execution_count": 83,
   "metadata": {
    "scrolled": true
   },
   "outputs": [
    {
     "name": "stdout",
     "output_type": "stream",
     "text": [
      "(16, 1, 5, 5) i.e. the shape is (channels_out, channels_in, filter_height, filter_width)\n",
      "learned filter values\n"
     ]
    },
    {
     "data": {
      "image/png": "[encoded data removed]",
      "text/plain": [
       "<Figure size 432x288 with 16 Axes>"
      ]
     },
     "metadata": {
      "needs_background": "light"
     },
     "output_type": "display_data"
    },
    {
     "data": {
      "image/png": "[encoded data removed]",
      "text/plain": [
       "<Figure size 432x288 with 1 Axes>"
      ]
     },
     "metadata": {
      "needs_background": "light"
     },
     "output_type": "display_data"
    },
    {
     "name": "stdout",
     "output_type": "stream",
     "text": [
      "Response from input image convolved with the filters\n"
     ]
    },
    {
     "data": {
      "image/png": "[encoded data removed]",
      "text/plain": [
       "<Figure size 648x648 with 16 Axes>"
      ]
     },
     "metadata": {
      "needs_background": "light"
     },
     "output_type": "display_data"
    }
   ],
   "source": [
    "### ERROR - If you get a key error, \n",
    "#   then you need to define l_conv1 in your model!\n",
    "if not 'conv_1.weight' in names_and_vars:\n",
    "    print(\"You need to go back and define a convolutional layer in the network.\")\n",
    "else:\n",
    "    \n",
    "    # get the filter values from the first conv layer\n",
    "    np_W = names_and_vars['conv_1.weight'].data.numpy()     \n",
    "    print(np_W.shape, \"i.e. the shape is (channels_out, channels_in, filter_height, filter_width)\")    \n",
    "    channels_out, channels_in, filter_size, _ = np_W.shape\n",
    "    \n",
    "    n = int(channels_out**0.5)\n",
    "\n",
    "    # reshaping the last dimension to be n by n\n",
    "    np_W_res = np_W.reshape(filter_size, filter_size, channels_in, n, n)\n",
    "    fig, ax = plt.subplots(n,n)\n",
    "    \n",
    "    print(\"learned filter values\")\n",
    "    for i in range(n):\n",
    "        for j in range(n):\n",
    "            ax[i,j].imshow(np_W_res[:,:,0,i,j], cmap='gray',interpolation='none')\n",
    "            ax[i,j].xaxis.set_major_formatter(plt.NullFormatter())\n",
    "            ax[i,j].yaxis.set_major_formatter(plt.NullFormatter())\n",
    "\n",
    "    idx = 1\n",
    "    plt.figure()\n",
    "    plt.imshow(x_train[idx,0],cmap='gray',interpolation='none')\n",
    "    plt.title('Inut Image')\n",
    "    plt.show()\n",
    "\n",
    "    #visalize the filters convolved with an input image\n",
    "    from scipy.signal import convolve2d\n",
    "    np_W_res = np_W.reshape(filter_size, filter_size, channels_in, n, n)\n",
    "    fig, ax = plt.subplots(n,n,figsize=(9,9))\n",
    "    print(\"Response from input image convolved with the filters\")\n",
    "    \n",
    "    for i in range(n):\n",
    "        for j in range(n):\n",
    "            ax[i,j].imshow(convolve2d(x_train[1,0],np_W_res[:,:,0,i,j], mode='same'),\n",
    "                           cmap='gray',interpolation='none')\n",
    "            ax[i,j].xaxis.set_major_formatter(plt.NullFormatter())\n",
    "            ax[i,j].yaxis.set_major_formatter(plt.NullFormatter())"
   ]
  },
  {
   "cell_type": "markdown",
   "metadata": {},
   "source": []
  },
  {
   "cell_type": "code",
   "execution_count": null,
   "metadata": {},
   "outputs": [],
   "source": []
  }
 ],
 "metadata": {
  "kernelspec": {
   "display_name": "Python 3",
   "language": "python",
   "name": "python3"
  },
  "language_info": {
   "codemirror_mode": {
    "name": "ipython",
    "version": 3
   },
   "file_extension": ".py",
   "mimetype": "text/x-python",
   "name": "python",
   "nbconvert_exporter": "python",
   "pygments_lexer": "ipython3",
   "version": "3.6.5"
  }
 },
 "nbformat": 4,
 "nbformat_minor": 2
}
