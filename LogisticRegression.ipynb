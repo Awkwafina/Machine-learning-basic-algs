{
 "cells": [
  {
   "cell_type": "code",
   "execution_count": 6,
   "metadata": {},
   "outputs": [],
   "source": [
    "import numpy as np"
   ]
  },
  {
   "cell_type": "code",
   "execution_count": 9,
   "metadata": {},
   "outputs": [],
   "source": [
    "class LogisticReg:\n",
    "\n",
    "    def fit(self, X, y, eta=0.1, iteration=1000):\n",
    "        g, w = [], []\n",
    "        self.weights = np.zeros(shape=X.shape[1])\n",
    "        for t in range(iteration):\n",
    "            n = np.random.randint(0,len(X))\n",
    "            gradient = int(-y[n])*np.dot(2, X[n])*np.exp(int(-y[n])*2*np.dot(self.weights,X[n])) /(1+np.exp(int(-y[n])*2*np.dot(self.weights,X[n]))) \n",
    "            self.weights = self.weights - eta*gradient\n",
    "            g.append(self.sigmoid(self.weights, X[n]))\n",
    "            w.append(self.weights)\n",
    "        return w, g\n",
    "\n",
    "    def sigmoid(self, x, w):\n",
    "        return np.sign(np.dot(w,x))\n",
    "\n",
    "    def error(self, w, X, y):\n",
    "        error = []\n",
    "        for i in range(len(w)):\n",
    "            summa=0\n",
    "            for j in range(len(y)):\n",
    "                summa += np.log(1 + np.exp(-2*y[j]*np.dot(w[i], X[j])))\n",
    "            error.append(summa/len(y))\n",
    "        return error\n"
   ]
  },
  {
   "cell_type": "code",
   "execution_count": 3,
   "metadata": {},
   "outputs": [],
   "source": [
    "from sklearn.datasets import load_iris\n",
    "from sklearn.model_selection import train_test_split\n",
    "iris = load_iris()\n",
    "X, y = iris.data, iris.target\n",
    "X_train, X_test, y_train, y_test = train_test_split(X, y, train_size=0.8, test_size=0.2)"
   ]
  },
  {
   "cell_type": "code",
   "execution_count": 4,
   "metadata": {},
   "outputs": [
    {
     "data": {
      "text/plain": [
       "array([2, 0, 0, 0, 2, 2, 2, 2, 1, 2, 0, 2, 0, 2, 0, 1, 1, 2, 2, 2, 1, 2,\n",
       "       2, 0, 2, 1, 0, 0, 1, 1, 0, 0, 2, 2, 0, 2, 1, 0, 1, 2, 2, 2, 2, 2,\n",
       "       1, 0, 1, 2, 0, 0, 0, 1, 0, 1, 0, 1, 0, 2, 2, 2, 1, 0, 1, 0, 0, 0,\n",
       "       2, 1, 2, 0, 1, 2, 0, 2, 1, 1, 1, 1, 0, 1, 2, 2, 2, 0, 2, 0, 0, 1,\n",
       "       2, 0, 1, 0, 2, 0, 2, 1, 1, 1, 2, 2, 2, 2, 2, 0, 1, 0, 0, 0, 0, 1,\n",
       "       1, 2, 0, 0, 1, 1, 2, 1, 2, 0])"
      ]
     },
     "execution_count": 4,
     "metadata": {},
     "output_type": "execute_result"
    }
   ],
   "source": [
    "y_train"
   ]
  },
  {
   "cell_type": "code",
   "execution_count": 3,
   "metadata": {},
   "outputs": [
    {
     "data": {
      "text/plain": [
       "array([0, 0, 1, 2, 2, 2, 1, 0, 2, 1, 0, 1, 0, 0, 2, 0, 2, 0, 2, 1, 2, 0,\n",
       "       2, 0, 1, 2, 2, 1, 1, 0])"
      ]
     },
     "execution_count": 3,
     "metadata": {},
     "output_type": "execute_result"
    }
   ],
   "source": [
    "from sklearn.linear_model import LogisticRegression\n",
    "from sklearn.model_selection import train_test_split\n",
    "\n",
    "log = LogisticRegression(multi_class='ovr', solver='lbfgs')\n",
    "log.fit(X_train, y_train)\n",
    "log.predict(X_test)"
   ]
  },
  {
   "cell_type": "markdown",
   "metadata": {},
   "source": [
    "## Predicted values for y_train"
   ]
  },
  {
   "cell_type": "code",
   "execution_count": 28,
   "metadata": {},
   "outputs": [
    {
     "name": "stdout",
     "output_type": "stream",
     "text": [
      "[2. 0. 0. 0. 2. 2. 2. 2. 1. 2. 0. 2. 0. 2. 0. 1. 1. 2. 2. 2. 1. 2. 2. 0.\n",
      " 2. 1. 0. 0. 1. 1. 0. 0. 2. 2. 0. 2. 1. 0. 1. 2. 2. 2. 2. 2. 1. 0. 1. 2.\n",
      " 0. 0. 0. 1. 0. 1. 0. 1. 0. 2. 2. 2. 1. 0. 1. 0. 0. 0. 2. 1. 2. 0. 1. 2.\n",
      " 0. 2. 1. 2. 1. 1. 0. 1. 2. 2. 2. 0. 2. 0. 0. 2. 2. 0. 1. 0. 2. 0. 2. 1.\n",
      " 1. 1. 2. 2. 2. 2. 2. 0. 1. 0. 0. 0. 0. 1. 1. 2. 0. 0. 1. 1. 2. 2. 2. 0.]\n"
     ]
    }
   ],
   "source": [
    "y_labels = [0,1,2]\n",
    "predicted = np.ones(len(y_train))\n",
    "error = []\n",
    "for i in y_labels:\n",
    "    y_train_new = []\n",
    "    for j in range(len(y_train)):\n",
    "        if y_train[j]!=i:\n",
    "            y_bin=-1\n",
    "        else:\n",
    "            y_bin=1\n",
    "        y_train_new.append(y_bin)\n",
    "    logistic = LogisticReg()\n",
    "    weights, g = logistic.fit(X_train, np.array(y_train_new), eta=0.001, iteration=2000)\n",
    "    for k in range(len(X_train)):\n",
    "        if logistic.sigmoid(X_train[k], weights[len(weights)-1])==1:\n",
    "            y_class = i\n",
    "            np.put(predicted, k, y_class)\n",
    "    error.append(logistic.error(weights, X_train, y_train_new))\n",
    "print(predicted)\n"
   ]
  },
  {
   "cell_type": "markdown",
   "metadata": {},
   "source": [
    "## Accuracy score of prediction of y_train"
   ]
  },
  {
   "cell_type": "code",
   "execution_count": 29,
   "metadata": {},
   "outputs": [
    {
     "data": {
      "text/plain": [
       "0.975"
      ]
     },
     "execution_count": 29,
     "metadata": {},
     "output_type": "execute_result"
    }
   ],
   "source": [
    "from sklearn.metrics import accuracy_score\n",
    "accuracy_score(y_train, predicted)"
   ]
  },
  {
   "cell_type": "code",
   "execution_count": 42,
   "metadata": {},
   "outputs": [
    {
     "data": {
      "image/png": "[encoded data removed]",
      "text/plain": [
       "<Figure size 432x288 with 1 Axes>"
      ]
     },
     "metadata": {
      "needs_background": "light"
     },
     "output_type": "display_data"
    }
   ],
   "source": [
    "import matplotlib.pyplot as plt\n",
    "\n",
    "plt.plot(np.arange(2000), error[0], label=\"class '0' or Setosa\")\n",
    "# plt.plot(np.arange(2000), error[1], label=\"class '1'\")\n",
    "# plt.plot(np.arange(2000), error[2], label=\"class '2'\")\n",
    "plt.title('In-sample error depending on g versus time')\n",
    "plt.xlabel('t')\n",
    "plt.ylabel('error')\n",
    "plt.legend()\n",
    "plt.show()"
   ]
  },
  {
   "cell_type": "markdown",
   "metadata": {},
   "source": [
    "## Predicted values for y_test"
   ]
  },
  {
   "cell_type": "code",
   "execution_count": 33,
   "metadata": {},
   "outputs": [
    {
     "data": {
      "text/plain": [
       "array([1, 1, 1, 0, 0, 1, 1, 2, 1, 1, 2, 0, 0, 1, 0, 0, 0, 1, 1, 1, 0, 2,\n",
       "       1, 1, 1, 1, 1, 0, 2, 2])"
      ]
     },
     "execution_count": 33,
     "metadata": {},
     "output_type": "execute_result"
    }
   ],
   "source": [
    "y_test"
   ]
  },
  {
   "cell_type": "code",
   "execution_count": 36,
   "metadata": {},
   "outputs": [
    {
     "name": "stdout",
     "output_type": "stream",
     "text": [
      "[1. 1. 1. 0. 0. 1. 1. 2. 1. 1. 2. 0. 0. 1. 0. 0. 0. 1. 2. 1. 0. 2. 1. 1.\n",
      " 1. 1. 1. 0. 2. 2.]\n"
     ]
    }
   ],
   "source": [
    "y_labels = [0,1,2]\n",
    "predicted = np.ones(len(y_test))\n",
    "error = []\n",
    "for i in y_labels:\n",
    "    y_train_new = []\n",
    "    y_test_new=[]\n",
    "    for j in range(len(y_train)):\n",
    "        if y_train[j]!=i:\n",
    "            y_bin=-1\n",
    "        else:\n",
    "            y_bin=1\n",
    "        y_train_new.append(y_bin)\n",
    "    for j in range(len(y_test)):\n",
    "        if y_test[j]!=i:\n",
    "            y_bin=-1\n",
    "        else:\n",
    "            y_bin=1\n",
    "        y_test_new.append(y_bin)\n",
    "    logistic = LogisticReg()\n",
    "    weights, g = logistic.fit(X_train, np.array(y_train_new), eta=0.001, iteration=2000)\n",
    "    for k in range(len(X_test)):\n",
    "        if logistic.sigmoid(X_test[k], weights[len(weights)-1])==1:\n",
    "            y_class = i\n",
    "            np.put(predicted, k, y_class)\n",
    "    error.append(logistic.error(weights, X_test, y_test_new))\n",
    "print(predicted)\n",
    "        \n",
    "            \n",
    "\n"
   ]
  },
  {
   "cell_type": "markdown",
   "metadata": {},
   "source": [
    "## Accuracy of my prediction"
   ]
  },
  {
   "cell_type": "code",
   "execution_count": 37,
   "metadata": {},
   "outputs": [
    {
     "data": {
      "text/plain": [
       "0.9666666666666667"
      ]
     },
     "execution_count": 37,
     "metadata": {},
     "output_type": "execute_result"
    }
   ],
   "source": [
    "from sklearn.metrics import accuracy_score\n",
    "accuracy_score(y_test, predicted)"
   ]
  },
  {
   "cell_type": "code",
   "execution_count": 41,
   "metadata": {},
   "outputs": [
    {
     "data": {
      "image/png": "[encoded data removed]",
      "text/plain": [
       "<Figure size 432x288 with 1 Axes>"
      ]
     },
     "metadata": {
      "needs_background": "light"
     },
     "output_type": "display_data"
    }
   ],
   "source": [
    "import matplotlib.pyplot as plt\n",
    "\n",
    "plt.plot(np.arange(2000), error[0], label=\"class '0' or Setosa\")\n",
    "# plt.plot(np.arange(2000), error[1], label=\"class '1'\")\n",
    "# plt.plot(np.arange(2000), error[2], label=\"class '2'\")\n",
    "plt.title('In-sample error depending on g versus time')\n",
    "plt.xlabel('t')\n",
    "plt.ylabel('error')\n",
    "plt.legend()\n",
    "plt.show()"
   ]
  },
  {
   "cell_type": "markdown",
   "metadata": {},
   "source": [
    "## Discussion"
   ]
  },
  {
   "cell_type": "markdown",
   "metadata": {},
   "source": [
    "According to accuracy scores in both train and test cases logistic regression performs very well. Moreover, error functions also indicate that error decreases as $t$ increases, meaning that our weights are updated with nice errors. However, weights that give small $error\\leq0.2$ are found at time $t=625$, which means slow convergence. "
   ]
  }
 ],
 "metadata": {
  "kernelspec": {
   "display_name": "Python 3",
   "language": "python",
   "name": "python3"
  },
  "language_info": {
   "codemirror_mode": {
    "name": "ipython",
    "version": 3
   },
   "file_extension": ".py",
   "mimetype": "text/x-python",
   "name": "python",
   "nbconvert_exporter": "python",
   "pygments_lexer": "ipython3",
   "version": "3.7.1"
  }
 },
 "nbformat": 4,
 "nbformat_minor": 2
}
